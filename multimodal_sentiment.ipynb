{
  "metadata": {
    "kernelspec": {
      "display_name": "Python 3",
      "name": "python3"
    },
    "language_info": {
      "name": "python",
      "version": "3.10.12",
      "mimetype": "text/x-python",
      "codemirror_mode": {
        "name": "ipython",
        "version": 3
      },
      "pygments_lexer": "ipython3",
      "nbconvert_exporter": "python",
      "file_extension": ".py"
    },
    "colab": {
      "provenance": [],
      "include_colab_link": true
    }
  },
  "nbformat_minor": 0,
  "nbformat": 4,
  "cells": [
    {
      "cell_type": "markdown",
      "metadata": {
        "id": "view-in-github",
        "colab_type": "text"
      },
      "source": [
        "<a href=\"https://colab.research.google.com/github/Sonu2252/Multi-Modal-For-Tweet-Sentiment/blob/main/multimodal_sentiment.ipynb\" target=\"_parent\"><img src=\"https://colab.research.google.com/assets/colab-badge.svg\" alt=\"Open In Colab\"/></a>"
      ]
    },
    {
      "cell_type": "code",
      "source": [
        "# This Python 3 environment comes with many helpful analytics libraries installed\n",
        "# It is defined by the kaggle/python Docker image: https://github.com/kaggle/docker-python\n",
        "# For example, here's several helpful packages to load\n",
        "\n",
        "import numpy as np # linear algebra\n",
        "import pandas as pd # data processing, CSV file I/O (e.g. pd.read_csv)\n",
        "\n",
        "# Input data files are available in the read-only \"../input/\" directory\n",
        "# For example, running this (by clicking run or pressing Shift+Enter) will list all files under the input directory\n",
        "\n",
        "#import os\n",
        "#for dirname, _, filenames in os.walk('/kaggle/input'):\n",
        " #   for filename in filenames:\n",
        "  #      print(os.path.join(dirname, filename))\n",
        "\n",
        "# You can write up to 20GB to the current directory (/kaggle/working/) that gets preserved as output when you create a version using \"Save & Run All\"\n",
        "# You can also write temporary files to /kaggle/temp/, but they won't be saved outside of the current session"
      ],
      "metadata": {
        "_uuid": "8f2839f25d086af736a60e9eeb907d3b93b6e0e5",
        "_cell_guid": "b1076dfc-b9ad-4769-8c92-a6c4dae69d19",
        "execution": {
          "iopub.status.busy": "2023-10-03T18:11:01.642836Z",
          "iopub.execute_input": "2023-10-03T18:11:01.643157Z",
          "iopub.status.idle": "2023-10-03T18:11:01.942150Z",
          "shell.execute_reply.started": "2023-10-03T18:11:01.643130Z",
          "shell.execute_reply": "2023-10-03T18:11:01.941297Z"
        },
        "editable": false,
        "trusted": true,
        "id": "pBTxdEybIbIL"
      },
      "execution_count": null,
      "outputs": []
    },
    {
      "cell_type": "code",
      "source": [
        "import warnings\n",
        "warnings.filterwarnings(\"ignore\")"
      ],
      "metadata": {
        "id": "YiER66JK77uS"
      },
      "execution_count": null,
      "outputs": []
    },
    {
      "cell_type": "code",
      "source": [
        "pip install keras_preprocessing"
      ],
      "metadata": {
        "execution": {
          "iopub.status.busy": "2023-10-03T18:16:36.367583Z",
          "iopub.execute_input": "2023-10-03T18:16:36.367951Z"
        },
        "editable": false,
        "trusted": true,
        "colab": {
          "base_uri": "https://localhost:8080/"
        },
        "id": "5U_lj7y6IbIN",
        "outputId": "f33992f5-cb5a-49b7-99ce-958b4a632235"
      },
      "execution_count": null,
      "outputs": [
        {
          "output_type": "stream",
          "name": "stdout",
          "text": [
            "Collecting keras_preprocessing\n",
            "  Downloading Keras_Preprocessing-1.1.2-py2.py3-none-any.whl (42 kB)\n",
            "\u001b[?25l     \u001b[90m━━━━━━━━━━━━━━━━━━━━━━━━━━━━━━━━━━━━━━━━\u001b[0m \u001b[32m0.0/42.6 kB\u001b[0m \u001b[31m?\u001b[0m eta \u001b[36m-:--:--\u001b[0m\r\u001b[2K     \u001b[90m━━━━━━━━━━━━━━━━━━━━━━━━━━━━━━━━━━━━━━━━\u001b[0m \u001b[32m42.6/42.6 kB\u001b[0m \u001b[31m1.4 MB/s\u001b[0m eta \u001b[36m0:00:00\u001b[0m\n",
            "\u001b[?25hRequirement already satisfied: numpy>=1.9.1 in /usr/local/lib/python3.10/dist-packages (from keras_preprocessing) (1.23.5)\n",
            "Requirement already satisfied: six>=1.9.0 in /usr/local/lib/python3.10/dist-packages (from keras_preprocessing) (1.16.0)\n",
            "Installing collected packages: keras_preprocessing\n",
            "Successfully installed keras_preprocessing-1.1.2\n"
          ]
        }
      ]
    },
    {
      "cell_type": "code",
      "source": [
        "from google.colab import drive\n",
        "drive.mount('/content/drive')\n"
      ],
      "metadata": {
        "colab": {
          "base_uri": "https://localhost:8080/"
        },
        "id": "-xz9fk07K_-o",
        "outputId": "9dff173e-27cf-4090-81c5-ee5d6a577f10"
      },
      "execution_count": null,
      "outputs": [
        {
          "output_type": "stream",
          "name": "stdout",
          "text": [
            "Mounted at /content/drive\n"
          ]
        }
      ]
    },
    {
      "cell_type": "code",
      "source": [
        "pip config list"
      ],
      "metadata": {
        "execution": {
          "iopub.status.busy": "2023-10-03T18:16:32.073576Z",
          "iopub.execute_input": "2023-10-03T18:16:32.073910Z",
          "iopub.status.idle": "2023-10-03T18:16:33.514448Z",
          "shell.execute_reply.started": "2023-10-03T18:16:32.073878Z",
          "shell.execute_reply": "2023-10-03T18:16:33.513059Z"
        },
        "editable": false,
        "trusted": true,
        "colab": {
          "base_uri": "https://localhost:8080/"
        },
        "id": "TXCHRwylIbIO",
        "outputId": "83803e2f-6f3f-44fe-e53d-e4b9bce4b1d2"
      },
      "execution_count": null,
      "outputs": [
        {
          "output_type": "stream",
          "name": "stdout",
          "text": [
            "global.disable-pip-version-check='True'\n",
            "global.log='/var/log/pip.log'\n",
            "list.format='columns'\n"
          ]
        }
      ]
    },
    {
      "cell_type": "code",
      "source": [
        "!pip install nltk"
      ],
      "metadata": {
        "execution": {
          "iopub.status.busy": "2023-10-03T18:13:13.231662Z",
          "iopub.execute_input": "2023-10-03T18:13:13.232095Z",
          "iopub.status.idle": "2023-10-03T18:13:46.426914Z",
          "shell.execute_reply.started": "2023-10-03T18:13:13.232050Z",
          "shell.execute_reply": "2023-10-03T18:13:46.425523Z"
        },
        "editable": false,
        "trusted": true,
        "colab": {
          "base_uri": "https://localhost:8080/"
        },
        "id": "XDULydWvIbIO",
        "outputId": "0c7e0685-6ca4-4d1b-f45a-0411546beca0"
      },
      "execution_count": null,
      "outputs": [
        {
          "output_type": "stream",
          "name": "stdout",
          "text": [
            "Requirement already satisfied: nltk in /usr/local/lib/python3.10/dist-packages (3.8.1)\n",
            "Requirement already satisfied: click in /usr/local/lib/python3.10/dist-packages (from nltk) (8.1.7)\n",
            "Requirement already satisfied: joblib in /usr/local/lib/python3.10/dist-packages (from nltk) (1.3.2)\n",
            "Requirement already satisfied: regex>=2021.8.3 in /usr/local/lib/python3.10/dist-packages (from nltk) (2023.6.3)\n",
            "Requirement already satisfied: tqdm in /usr/local/lib/python3.10/dist-packages (from nltk) (4.66.1)\n"
          ]
        }
      ]
    },
    {
      "cell_type": "code",
      "source": [
        "import os\n",
        "from glob import glob\n",
        "import numpy as np\n",
        "import matplotlib.pyplot as plt\n",
        "import pandas as pd\n",
        "\n",
        "import re\n",
        "import nltk\n",
        "import json\n",
        "import keras\n",
        "from sklearn.metrics import confusion_matrix,classification_report\n",
        "from sklearn.model_selection import train_test_split\n",
        "from sklearn.metrics import accuracy_score,precision_score,recall_score,f1_score,roc_auc_score\n",
        "from sklearn.metrics import average_precision_score,roc_auc_score, roc_curve, precision_recall_curve\n",
        "from keras.utils import plot_model"
      ],
      "metadata": {
        "execution": {
          "iopub.status.busy": "2023-10-03T18:13:46.429018Z",
          "iopub.execute_input": "2023-10-03T18:13:46.429415Z",
          "iopub.status.idle": "2023-10-03T18:13:55.598476Z",
          "shell.execute_reply.started": "2023-10-03T18:13:46.429359Z",
          "shell.execute_reply": "2023-10-03T18:13:55.597557Z"
        },
        "editable": false,
        "trusted": true,
        "id": "MSkbk-IfIbIO"
      },
      "execution_count": null,
      "outputs": []
    },
    {
      "cell_type": "code",
      "source": [
        "nltk.download('punkt')\n",
        "nltk.download('stopwords')"
      ],
      "metadata": {
        "execution": {
          "iopub.status.busy": "2023-10-03T18:13:55.600929Z",
          "iopub.execute_input": "2023-10-03T18:13:55.603860Z",
          "iopub.status.idle": "2023-10-03T18:14:43.667788Z",
          "shell.execute_reply.started": "2023-10-03T18:13:55.603799Z",
          "shell.execute_reply": "2023-10-03T18:14:43.666654Z"
        },
        "editable": false,
        "trusted": true,
        "colab": {
          "base_uri": "https://localhost:8080/"
        },
        "id": "UDw5HTidIbIO",
        "outputId": "e7e064f5-6465-4d7e-9865-4fc339116d06"
      },
      "execution_count": null,
      "outputs": [
        {
          "output_type": "stream",
          "name": "stderr",
          "text": [
            "[nltk_data] Downloading package punkt to /root/nltk_data...\n",
            "[nltk_data]   Unzipping tokenizers/punkt.zip.\n",
            "[nltk_data] Downloading package stopwords to /root/nltk_data...\n",
            "[nltk_data]   Unzipping corpora/stopwords.zip.\n"
          ]
        },
        {
          "output_type": "execute_result",
          "data": {
            "text/plain": [
              "True"
            ]
          },
          "metadata": {},
          "execution_count": 7
        }
      ]
    },
    {
      "cell_type": "code",
      "source": [
        "nltk.download('punkt')"
      ],
      "metadata": {
        "editable": false,
        "colab": {
          "base_uri": "https://localhost:8080/"
        },
        "id": "Jf4HuorsIbIP",
        "outputId": "3ef378b1-dac0-4254-900b-5913ba567312"
      },
      "execution_count": null,
      "outputs": [
        {
          "output_type": "stream",
          "name": "stderr",
          "text": [
            "[nltk_data] Downloading package punkt to /root/nltk_data...\n",
            "[nltk_data]   Package punkt is already up-to-date!\n"
          ]
        },
        {
          "output_type": "execute_result",
          "data": {
            "text/plain": [
              "True"
            ]
          },
          "metadata": {},
          "execution_count": 8
        }
      ]
    },
    {
      "cell_type": "code",
      "source": [
        "from nltk.corpus import stopwords\n",
        "from nltk.tokenize import word_tokenize\n",
        "from nltk.tokenize import ToktokTokenizer"
      ],
      "metadata": {
        "execution": {
          "iopub.status.busy": "2023-10-03T18:14:43.669453Z",
          "iopub.execute_input": "2023-10-03T18:14:43.669823Z",
          "iopub.status.idle": "2023-10-03T18:14:43.674791Z",
          "shell.execute_reply.started": "2023-10-03T18:14:43.669781Z",
          "shell.execute_reply": "2023-10-03T18:14:43.673932Z"
        },
        "editable": false,
        "trusted": true,
        "id": "l46jSfVHIbIP"
      },
      "execution_count": null,
      "outputs": []
    },
    {
      "cell_type": "code",
      "source": [
        "import warnings\n",
        "# !pip install keras_preprocessing\n",
        "import keras.utils as image\n",
        "from keras.applications.vgg16 import VGG16\n",
        "from tensorflow.keras.applications.resnet50 import ResNet50\n",
        "from keras.applications.vgg16 import preprocess_input\n",
        "from keras.preprocessing.text import Tokenizer\n",
        "from keras.layers import Dense, GlobalAveragePooling2D, Embedding, LSTM, multiply\n",
        "from keras.models import Model\n",
        "from keras import preprocessing, Input\n",
        "from tensorflow import keras\n",
        "from keras.models import Sequential\n",
        "from keras_preprocessing.image import img_to_array\n",
        "from keras_preprocessing.image import ImageDataGenerator\n",
        "from keras.layers import Dense, Activation, Flatten, Dropout, BatchNormalization\n",
        "from keras.layers import Conv2D, MaxPooling2D\n",
        "from keras import regularizers, optimizers\n",
        "from tensorflow.keras.models import load_model\n",
        "import itertools\n",
        "from PIL import Image, ImageFile\n",
        "import tensorflow as tf\n",
        "import tensorflow.keras as keras\n",
        "from tensorflow.keras.preprocessing.text import Tokenizer\n",
        "from tensorflow.keras.preprocessing.sequence import pad_sequences\n",
        "from tensorflow.keras.layers import Concatenate, Dense, Input, LSTM, Embedding, Dropout, Activation, GRU, Flatten\n",
        "from tensorflow.keras.layers import Bidirectional, GlobalMaxPool1D\n",
        "from tensorflow.keras.models import Model, Sequential\n",
        "from tensorflow.keras.layers import Convolution1D,MaxPooling1D,Conv1D\n",
        "from tensorflow.keras import initializers, regularizers, constraints, optimizers, layers\n",
        "from tensorflow.keras.layers import Add, BatchNormalization, Activation, Dropout\n",
        "from tensorflow.keras.optimizers import RMSprop,Adam,SGD"
      ],
      "metadata": {
        "execution": {
          "iopub.status.busy": "2023-10-03T18:15:02.272693Z",
          "iopub.execute_input": "2023-10-03T18:15:02.273030Z",
          "iopub.status.idle": "2023-10-03T18:15:02.310811Z",
          "shell.execute_reply.started": "2023-10-03T18:15:02.273003Z",
          "shell.execute_reply": "2023-10-03T18:15:02.309540Z"
        },
        "editable": false,
        "trusted": true,
        "id": "X-Oqwx9VIbIP"
      },
      "execution_count": null,
      "outputs": []
    },
    {
      "cell_type": "code",
      "source": [
        "\n",
        "import zipfile\n",
        "\n",
        "zip_file_path = '/content/drive/MyDrive/emotion_combined.zip'\n",
        "extract_path = '/content/drive/MyDrive/emotion_combined_3'\n",
        "\n",
        "with zipfile.ZipFile(zip_file_path, 'r') as zip_ref:\n",
        "   zip_ref.extractall(extract_path)"
      ],
      "metadata": {
        "execution": {
          "iopub.status.busy": "2023-10-03T18:14:44.479783Z",
          "iopub.status.idle": "2023-10-03T18:14:44.480903Z",
          "shell.execute_reply.started": "2023-10-03T18:14:44.480641Z",
          "shell.execute_reply": "2023-10-03T18:14:44.480667Z"
        },
        "editable": false,
        "trusted": true,
        "id": "sZqNQDSyIbIP"
      },
      "execution_count": null,
      "outputs": []
    },
    {
      "cell_type": "code",
      "source": [
        "import glob\n",
        "files = glob.glob(\"/content/drive/MyDrive/emotion_combined_3/emotion_combined/*.jpg\")\n",
        "len(files)"
      ],
      "metadata": {
        "execution": {
          "iopub.status.busy": "2023-10-03T18:14:44.482511Z",
          "iopub.status.idle": "2023-10-03T18:14:44.483344Z",
          "shell.execute_reply.started": "2023-10-03T18:14:44.483076Z",
          "shell.execute_reply": "2023-10-03T18:14:44.483102Z"
        },
        "editable": false,
        "trusted": true,
        "id": "q2czb55sIbIP",
        "colab": {
          "base_uri": "https://localhost:8080/"
        },
        "outputId": "f9c724ef-d186-4d5c-a019-5bfab8e2c82f"
      },
      "execution_count": null,
      "outputs": [
        {
          "output_type": "execute_result",
          "data": {
            "text/plain": [
              "9119"
            ]
          },
          "metadata": {},
          "execution_count": 12
        }
      ]
    },
    {
      "cell_type": "code",
      "source": [
        "df = pd.read_csv(\"/content/drive/MyDrive/abc.csv\")\n",
        "df.head()"
      ],
      "metadata": {
        "execution": {
          "iopub.status.busy": "2023-10-03T18:14:44.484749Z",
          "iopub.status.idle": "2023-10-03T18:14:44.485639Z",
          "shell.execute_reply.started": "2023-10-03T18:14:44.485361Z",
          "shell.execute_reply": "2023-10-03T18:14:44.485386Z"
        },
        "editable": false,
        "trusted": true,
        "id": "wANQNe7bIbIQ",
        "colab": {
          "base_uri": "https://localhost:8080/",
          "height": 206
        },
        "outputId": "19210865-a2a9-41e5-80b3-1c748fe5272b"
      },
      "execution_count": null,
      "outputs": [
        {
          "output_type": "execute_result",
          "data": {
            "text/plain": [
              "   Unnamed: 0                                              tweet  intention  \\\n",
              "0           0  my life is meaningless i just want to end my l...          1   \n",
              "1           1  muttering i wanna die to myself daily for a fe...          1   \n",
              "2           2  work slave i really feel like my only purpose ...          1   \n",
              "3           3  i did something on the 2 of october i overdose...          1   \n",
              "4           4  i feel like no one cares i just want to die ma...          1   \n",
              "\n",
              "                                              emojis        image_name  \n",
              "0  my life is meaningless i just want to end my l...  E8Q1DO2K7IAX.jpg  \n",
              "1  muttering i wanna die to myself daily for a fe...  WRHKXTAJXV5W.jpg  \n",
              "2  work slave i really feel like my only purpose ...  C5GLD6AZNARU.jpg  \n",
              "3  i did something on the 2 of october i overdose...  IOBN5C8LFCF7.jpg  \n",
              "4  i feel like no one cares i just want to die ma...  BBR1WOFEXYUD.jpg  "
            ],
            "text/html": [
              "\n",
              "  <div id=\"df-6bab92c9-25f4-4756-b5d8-1ea963460477\" class=\"colab-df-container\">\n",
              "    <div>\n",
              "<style scoped>\n",
              "    .dataframe tbody tr th:only-of-type {\n",
              "        vertical-align: middle;\n",
              "    }\n",
              "\n",
              "    .dataframe tbody tr th {\n",
              "        vertical-align: top;\n",
              "    }\n",
              "\n",
              "    .dataframe thead th {\n",
              "        text-align: right;\n",
              "    }\n",
              "</style>\n",
              "<table border=\"1\" class=\"dataframe\">\n",
              "  <thead>\n",
              "    <tr style=\"text-align: right;\">\n",
              "      <th></th>\n",
              "      <th>Unnamed: 0</th>\n",
              "      <th>tweet</th>\n",
              "      <th>intention</th>\n",
              "      <th>emojis</th>\n",
              "      <th>image_name</th>\n",
              "    </tr>\n",
              "  </thead>\n",
              "  <tbody>\n",
              "    <tr>\n",
              "      <th>0</th>\n",
              "      <td>0</td>\n",
              "      <td>my life is meaningless i just want to end my l...</td>\n",
              "      <td>1</td>\n",
              "      <td>my life is meaningless i just want to end my l...</td>\n",
              "      <td>E8Q1DO2K7IAX.jpg</td>\n",
              "    </tr>\n",
              "    <tr>\n",
              "      <th>1</th>\n",
              "      <td>1</td>\n",
              "      <td>muttering i wanna die to myself daily for a fe...</td>\n",
              "      <td>1</td>\n",
              "      <td>muttering i wanna die to myself daily for a fe...</td>\n",
              "      <td>WRHKXTAJXV5W.jpg</td>\n",
              "    </tr>\n",
              "    <tr>\n",
              "      <th>2</th>\n",
              "      <td>2</td>\n",
              "      <td>work slave i really feel like my only purpose ...</td>\n",
              "      <td>1</td>\n",
              "      <td>work slave i really feel like my only purpose ...</td>\n",
              "      <td>C5GLD6AZNARU.jpg</td>\n",
              "    </tr>\n",
              "    <tr>\n",
              "      <th>3</th>\n",
              "      <td>3</td>\n",
              "      <td>i did something on the 2 of october i overdose...</td>\n",
              "      <td>1</td>\n",
              "      <td>i did something on the 2 of october i overdose...</td>\n",
              "      <td>IOBN5C8LFCF7.jpg</td>\n",
              "    </tr>\n",
              "    <tr>\n",
              "      <th>4</th>\n",
              "      <td>4</td>\n",
              "      <td>i feel like no one cares i just want to die ma...</td>\n",
              "      <td>1</td>\n",
              "      <td>i feel like no one cares i just want to die ma...</td>\n",
              "      <td>BBR1WOFEXYUD.jpg</td>\n",
              "    </tr>\n",
              "  </tbody>\n",
              "</table>\n",
              "</div>\n",
              "    <div class=\"colab-df-buttons\">\n",
              "\n",
              "  <div class=\"colab-df-container\">\n",
              "    <button class=\"colab-df-convert\" onclick=\"convertToInteractive('df-6bab92c9-25f4-4756-b5d8-1ea963460477')\"\n",
              "            title=\"Convert this dataframe to an interactive table.\"\n",
              "            style=\"display:none;\">\n",
              "\n",
              "  <svg xmlns=\"http://www.w3.org/2000/svg\" height=\"24px\" viewBox=\"0 -960 960 960\">\n",
              "    <path d=\"M120-120v-720h720v720H120Zm60-500h600v-160H180v160Zm220 220h160v-160H400v160Zm0 220h160v-160H400v160ZM180-400h160v-160H180v160Zm440 0h160v-160H620v160ZM180-180h160v-160H180v160Zm440 0h160v-160H620v160Z\"/>\n",
              "  </svg>\n",
              "    </button>\n",
              "\n",
              "  <style>\n",
              "    .colab-df-container {\n",
              "      display:flex;\n",
              "      gap: 12px;\n",
              "    }\n",
              "\n",
              "    .colab-df-convert {\n",
              "      background-color: #E8F0FE;\n",
              "      border: none;\n",
              "      border-radius: 50%;\n",
              "      cursor: pointer;\n",
              "      display: none;\n",
              "      fill: #1967D2;\n",
              "      height: 32px;\n",
              "      padding: 0 0 0 0;\n",
              "      width: 32px;\n",
              "    }\n",
              "\n",
              "    .colab-df-convert:hover {\n",
              "      background-color: #E2EBFA;\n",
              "      box-shadow: 0px 1px 2px rgba(60, 64, 67, 0.3), 0px 1px 3px 1px rgba(60, 64, 67, 0.15);\n",
              "      fill: #174EA6;\n",
              "    }\n",
              "\n",
              "    .colab-df-buttons div {\n",
              "      margin-bottom: 4px;\n",
              "    }\n",
              "\n",
              "    [theme=dark] .colab-df-convert {\n",
              "      background-color: #3B4455;\n",
              "      fill: #D2E3FC;\n",
              "    }\n",
              "\n",
              "    [theme=dark] .colab-df-convert:hover {\n",
              "      background-color: #434B5C;\n",
              "      box-shadow: 0px 1px 3px 1px rgba(0, 0, 0, 0.15);\n",
              "      filter: drop-shadow(0px 1px 2px rgba(0, 0, 0, 0.3));\n",
              "      fill: #FFFFFF;\n",
              "    }\n",
              "  </style>\n",
              "\n",
              "    <script>\n",
              "      const buttonEl =\n",
              "        document.querySelector('#df-6bab92c9-25f4-4756-b5d8-1ea963460477 button.colab-df-convert');\n",
              "      buttonEl.style.display =\n",
              "        google.colab.kernel.accessAllowed ? 'block' : 'none';\n",
              "\n",
              "      async function convertToInteractive(key) {\n",
              "        const element = document.querySelector('#df-6bab92c9-25f4-4756-b5d8-1ea963460477');\n",
              "        const dataTable =\n",
              "          await google.colab.kernel.invokeFunction('convertToInteractive',\n",
              "                                                    [key], {});\n",
              "        if (!dataTable) return;\n",
              "\n",
              "        const docLinkHtml = 'Like what you see? Visit the ' +\n",
              "          '<a target=\"_blank\" href=https://colab.research.google.com/notebooks/data_table.ipynb>data table notebook</a>'\n",
              "          + ' to learn more about interactive tables.';\n",
              "        element.innerHTML = '';\n",
              "        dataTable['output_type'] = 'display_data';\n",
              "        await google.colab.output.renderOutput(dataTable, element);\n",
              "        const docLink = document.createElement('div');\n",
              "        docLink.innerHTML = docLinkHtml;\n",
              "        element.appendChild(docLink);\n",
              "      }\n",
              "    </script>\n",
              "  </div>\n",
              "\n",
              "\n",
              "<div id=\"df-e7bb4adb-e0db-481b-a920-f8ee426233fc\">\n",
              "  <button class=\"colab-df-quickchart\" onclick=\"quickchart('df-e7bb4adb-e0db-481b-a920-f8ee426233fc')\"\n",
              "            title=\"Suggest charts.\"\n",
              "            style=\"display:none;\">\n",
              "\n",
              "<svg xmlns=\"http://www.w3.org/2000/svg\" height=\"24px\"viewBox=\"0 0 24 24\"\n",
              "     width=\"24px\">\n",
              "    <g>\n",
              "        <path d=\"M19 3H5c-1.1 0-2 .9-2 2v14c0 1.1.9 2 2 2h14c1.1 0 2-.9 2-2V5c0-1.1-.9-2-2-2zM9 17H7v-7h2v7zm4 0h-2V7h2v10zm4 0h-2v-4h2v4z\"/>\n",
              "    </g>\n",
              "</svg>\n",
              "  </button>\n",
              "\n",
              "<style>\n",
              "  .colab-df-quickchart {\n",
              "      --bg-color: #E8F0FE;\n",
              "      --fill-color: #1967D2;\n",
              "      --hover-bg-color: #E2EBFA;\n",
              "      --hover-fill-color: #174EA6;\n",
              "      --disabled-fill-color: #AAA;\n",
              "      --disabled-bg-color: #DDD;\n",
              "  }\n",
              "\n",
              "  [theme=dark] .colab-df-quickchart {\n",
              "      --bg-color: #3B4455;\n",
              "      --fill-color: #D2E3FC;\n",
              "      --hover-bg-color: #434B5C;\n",
              "      --hover-fill-color: #FFFFFF;\n",
              "      --disabled-bg-color: #3B4455;\n",
              "      --disabled-fill-color: #666;\n",
              "  }\n",
              "\n",
              "  .colab-df-quickchart {\n",
              "    background-color: var(--bg-color);\n",
              "    border: none;\n",
              "    border-radius: 50%;\n",
              "    cursor: pointer;\n",
              "    display: none;\n",
              "    fill: var(--fill-color);\n",
              "    height: 32px;\n",
              "    padding: 0;\n",
              "    width: 32px;\n",
              "  }\n",
              "\n",
              "  .colab-df-quickchart:hover {\n",
              "    background-color: var(--hover-bg-color);\n",
              "    box-shadow: 0 1px 2px rgba(60, 64, 67, 0.3), 0 1px 3px 1px rgba(60, 64, 67, 0.15);\n",
              "    fill: var(--button-hover-fill-color);\n",
              "  }\n",
              "\n",
              "  .colab-df-quickchart-complete:disabled,\n",
              "  .colab-df-quickchart-complete:disabled:hover {\n",
              "    background-color: var(--disabled-bg-color);\n",
              "    fill: var(--disabled-fill-color);\n",
              "    box-shadow: none;\n",
              "  }\n",
              "\n",
              "  .colab-df-spinner {\n",
              "    border: 2px solid var(--fill-color);\n",
              "    border-color: transparent;\n",
              "    border-bottom-color: var(--fill-color);\n",
              "    animation:\n",
              "      spin 1s steps(1) infinite;\n",
              "  }\n",
              "\n",
              "  @keyframes spin {\n",
              "    0% {\n",
              "      border-color: transparent;\n",
              "      border-bottom-color: var(--fill-color);\n",
              "      border-left-color: var(--fill-color);\n",
              "    }\n",
              "    20% {\n",
              "      border-color: transparent;\n",
              "      border-left-color: var(--fill-color);\n",
              "      border-top-color: var(--fill-color);\n",
              "    }\n",
              "    30% {\n",
              "      border-color: transparent;\n",
              "      border-left-color: var(--fill-color);\n",
              "      border-top-color: var(--fill-color);\n",
              "      border-right-color: var(--fill-color);\n",
              "    }\n",
              "    40% {\n",
              "      border-color: transparent;\n",
              "      border-right-color: var(--fill-color);\n",
              "      border-top-color: var(--fill-color);\n",
              "    }\n",
              "    60% {\n",
              "      border-color: transparent;\n",
              "      border-right-color: var(--fill-color);\n",
              "    }\n",
              "    80% {\n",
              "      border-color: transparent;\n",
              "      border-right-color: var(--fill-color);\n",
              "      border-bottom-color: var(--fill-color);\n",
              "    }\n",
              "    90% {\n",
              "      border-color: transparent;\n",
              "      border-bottom-color: var(--fill-color);\n",
              "    }\n",
              "  }\n",
              "</style>\n",
              "\n",
              "  <script>\n",
              "    async function quickchart(key) {\n",
              "      const quickchartButtonEl =\n",
              "        document.querySelector('#' + key + ' button');\n",
              "      quickchartButtonEl.disabled = true;  // To prevent multiple clicks.\n",
              "      quickchartButtonEl.classList.add('colab-df-spinner');\n",
              "      try {\n",
              "        const charts = await google.colab.kernel.invokeFunction(\n",
              "            'suggestCharts', [key], {});\n",
              "      } catch (error) {\n",
              "        console.error('Error during call to suggestCharts:', error);\n",
              "      }\n",
              "      quickchartButtonEl.classList.remove('colab-df-spinner');\n",
              "      quickchartButtonEl.classList.add('colab-df-quickchart-complete');\n",
              "    }\n",
              "    (() => {\n",
              "      let quickchartButtonEl =\n",
              "        document.querySelector('#df-e7bb4adb-e0db-481b-a920-f8ee426233fc button');\n",
              "      quickchartButtonEl.style.display =\n",
              "        google.colab.kernel.accessAllowed ? 'block' : 'none';\n",
              "    })();\n",
              "  </script>\n",
              "</div>\n",
              "\n",
              "    </div>\n",
              "  </div>\n"
            ]
          },
          "metadata": {},
          "execution_count": 13
        }
      ]
    },
    {
      "cell_type": "code",
      "source": [
        "df['intention'].value_counts()"
      ],
      "metadata": {
        "execution": {
          "iopub.status.busy": "2023-10-03T18:14:44.487022Z",
          "iopub.status.idle": "2023-10-03T18:14:44.487797Z",
          "shell.execute_reply.started": "2023-10-03T18:14:44.487567Z",
          "shell.execute_reply": "2023-10-03T18:14:44.487590Z"
        },
        "editable": false,
        "trusted": true,
        "id": "ATj2bmoSIbIQ",
        "colab": {
          "base_uri": "https://localhost:8080/"
        },
        "outputId": "651801a2-f8f1-4631-ae8a-bd8cc824b5a9"
      },
      "execution_count": null,
      "outputs": [
        {
          "output_type": "execute_result",
          "data": {
            "text/plain": [
              "0    5121\n",
              "1    3998\n",
              "Name: intention, dtype: int64"
            ]
          },
          "metadata": {},
          "execution_count": 14
        }
      ]
    },
    {
      "cell_type": "code",
      "source": [
        "\n",
        "df['image_name'].shape"
      ],
      "metadata": {
        "execution": {
          "iopub.status.busy": "2023-10-03T18:14:44.489290Z",
          "iopub.status.idle": "2023-10-03T18:14:44.490072Z",
          "shell.execute_reply.started": "2023-10-03T18:14:44.489811Z",
          "shell.execute_reply": "2023-10-03T18:14:44.489847Z"
        },
        "editable": false,
        "trusted": true,
        "id": "EPMkXKk_IbIQ",
        "colab": {
          "base_uri": "https://localhost:8080/"
        },
        "outputId": "501a8870-bde1-47cc-ca99-242dd36526c4"
      },
      "execution_count": null,
      "outputs": [
        {
          "output_type": "execute_result",
          "data": {
            "text/plain": [
              "(9119,)"
            ]
          },
          "metadata": {},
          "execution_count": 15
        }
      ]
    },
    {
      "cell_type": "code",
      "source": [
        "df.isna().sum()"
      ],
      "metadata": {
        "execution": {
          "iopub.status.busy": "2023-10-03T18:14:44.491501Z",
          "iopub.status.idle": "2023-10-03T18:14:44.492200Z",
          "shell.execute_reply.started": "2023-10-03T18:14:44.491985Z",
          "shell.execute_reply": "2023-10-03T18:14:44.492007Z"
        },
        "editable": false,
        "trusted": true,
        "id": "XhrA9QutIbIQ",
        "colab": {
          "base_uri": "https://localhost:8080/"
        },
        "outputId": "91e1e82f-ced9-4576-eba5-5a3fd8c8dfd1"
      },
      "execution_count": null,
      "outputs": [
        {
          "output_type": "execute_result",
          "data": {
            "text/plain": [
              "Unnamed: 0    0\n",
              "tweet         0\n",
              "intention     0\n",
              "emojis        0\n",
              "image_name    0\n",
              "dtype: int64"
            ]
          },
          "metadata": {},
          "execution_count": 16
        }
      ]
    },
    {
      "cell_type": "code",
      "source": [
        "import random"
      ],
      "metadata": {
        "execution": {
          "iopub.status.busy": "2023-10-03T18:14:44.493688Z",
          "iopub.status.idle": "2023-10-03T18:14:44.494539Z",
          "shell.execute_reply.started": "2023-10-03T18:14:44.494275Z",
          "shell.execute_reply": "2023-10-03T18:14:44.494301Z"
        },
        "editable": false,
        "trusted": true,
        "id": "ZSJA2ULzIbIQ"
      },
      "execution_count": null,
      "outputs": []
    },
    {
      "cell_type": "code",
      "source": [
        "folder_path_image = \"/content/drive/MyDrive/emotion_combined_3/emotion_combined/\"\n",
        "image_1 = plt.imread(folder_path_image + df[\"image_name\"][random.randint(0, 9119)])\n",
        "plt.imshow(image_1)\n",
        "print(image_1.shape)\n",
        "plt.figure()"
      ],
      "metadata": {
        "execution": {
          "iopub.status.busy": "2023-10-03T18:14:44.495939Z",
          "iopub.status.idle": "2023-10-03T18:14:44.496794Z",
          "shell.execute_reply.started": "2023-10-03T18:14:44.496543Z",
          "shell.execute_reply": "2023-10-03T18:14:44.496568Z"
        },
        "editable": false,
        "trusted": true,
        "id": "f9jf3FuWIbIQ",
        "colab": {
          "base_uri": "https://localhost:8080/",
          "height": 489
        },
        "outputId": "4eb78052-cb4c-4173-c70b-509f8a66278b"
      },
      "execution_count": null,
      "outputs": [
        {
          "output_type": "stream",
          "name": "stdout",
          "text": [
            "(256, 256, 3)\n"
          ]
        },
        {
          "output_type": "execute_result",
          "data": {
            "text/plain": [
              "<Figure size 640x480 with 0 Axes>"
            ]
          },
          "metadata": {},
          "execution_count": 28
        },
        {
          "output_type": "display_data",
          "data": {
            "text/plain": [
              "<Figure size 640x480 with 1 Axes>"
            ],
            "image/png": "[encoded data removed]"
          },
          "metadata": {}
        },
        {
          "output_type": "display_data",
          "data": {
            "text/plain": [
              "<Figure size 640x480 with 0 Axes>"
            ]
          },
          "metadata": {}
        }
      ]
    },
    {
      "cell_type": "code",
      "source": [
        "df[\"intention\"][1982]"
      ],
      "metadata": {
        "execution": {
          "iopub.status.busy": "2023-10-03T18:14:44.498221Z",
          "iopub.status.idle": "2023-10-03T18:14:44.499077Z",
          "shell.execute_reply.started": "2023-10-03T18:14:44.498811Z",
          "shell.execute_reply": "2023-10-03T18:14:44.498861Z"
        },
        "editable": false,
        "trusted": true,
        "id": "jeztPyISIbIQ",
        "colab": {
          "base_uri": "https://localhost:8080/"
        },
        "outputId": "4c58c2b6-4ba4-422a-e156-f72f20097c7a"
      },
      "execution_count": null,
      "outputs": [
        {
          "output_type": "execute_result",
          "data": {
            "text/plain": [
              "1"
            ]
          },
          "metadata": {},
          "execution_count": 29
        }
      ]
    },
    {
      "cell_type": "code",
      "source": [
        "\n",
        "df.shape"
      ],
      "metadata": {
        "execution": {
          "iopub.status.busy": "2023-10-03T18:14:44.500531Z",
          "iopub.status.idle": "2023-10-03T18:14:44.501377Z",
          "shell.execute_reply.started": "2023-10-03T18:14:44.501101Z",
          "shell.execute_reply": "2023-10-03T18:14:44.501125Z"
        },
        "editable": false,
        "trusted": true,
        "id": "pX9uK-LSIbIQ",
        "colab": {
          "base_uri": "https://localhost:8080/"
        },
        "outputId": "2dba0fda-114c-4d83-c916-f851087bb777"
      },
      "execution_count": null,
      "outputs": [
        {
          "output_type": "execute_result",
          "data": {
            "text/plain": [
              "(9119, 5)"
            ]
          },
          "metadata": {},
          "execution_count": 30
        }
      ]
    },
    {
      "cell_type": "code",
      "source": [
        "def create_img_array(img_dirct):\n",
        "  imgs = []\n",
        "  for root, j, files in os.walk(img_dirct):\n",
        "    for file in files:\n",
        "      file = root + '' + file\n",
        "      imgs.append(file)\n",
        "  return imgs"
      ],
      "metadata": {
        "execution": {
          "iopub.status.busy": "2023-10-03T18:14:44.502935Z",
          "iopub.status.idle": "2023-10-03T18:14:44.503804Z",
          "shell.execute_reply.started": "2023-10-03T18:14:44.503538Z",
          "shell.execute_reply": "2023-10-03T18:14:44.503563Z"
        },
        "editable": false,
        "trusted": true,
        "id": "_tGlDxo-IbIQ"
      },
      "execution_count": null,
      "outputs": []
    },
    {
      "cell_type": "code",
      "source": [
        "def create_img_path(df, col_name, img_dir):\n",
        "  img_path = [img_dir + '' + name for name in df[col_name]]\n",
        "  return img_path\n",
        "\n",
        "img_path = create_img_path(df,'image_name', folder_path_image)"
      ],
      "metadata": {
        "execution": {
          "iopub.status.busy": "2023-10-03T18:14:44.505515Z",
          "iopub.status.idle": "2023-10-03T18:14:44.506410Z",
          "shell.execute_reply.started": "2023-10-03T18:14:44.506121Z",
          "shell.execute_reply": "2023-10-03T18:14:44.506147Z"
        },
        "editable": false,
        "trusted": true,
        "id": "TwZKkLgJIbIQ"
      },
      "execution_count": null,
      "outputs": []
    },
    {
      "cell_type": "code",
      "source": [
        "len(img_path)"
      ],
      "metadata": {
        "execution": {
          "iopub.status.busy": "2023-10-03T18:14:44.507882Z",
          "iopub.status.idle": "2023-10-03T18:14:44.508742Z",
          "shell.execute_reply.started": "2023-10-03T18:14:44.508462Z",
          "shell.execute_reply": "2023-10-03T18:14:44.508488Z"
        },
        "editable": false,
        "trusted": true,
        "id": "9Z6MrGwHIbIQ",
        "colab": {
          "base_uri": "https://localhost:8080/"
        },
        "outputId": "335d4584-9d41-4af6-870e-235af685a4d3"
      },
      "execution_count": null,
      "outputs": [
        {
          "output_type": "execute_result",
          "data": {
            "text/plain": [
              "9119"
            ]
          },
          "metadata": {},
          "execution_count": 33
        }
      ]
    },
    {
      "cell_type": "code",
      "source": [
        "def get_input(path):\n",
        "  img = image.load_img(path)\n",
        "  return img"
      ],
      "metadata": {
        "execution": {
          "iopub.status.busy": "2023-10-03T18:14:44.510287Z",
          "iopub.status.idle": "2023-10-03T18:14:44.511076Z",
          "shell.execute_reply.started": "2023-10-03T18:14:44.510812Z",
          "shell.execute_reply": "2023-10-03T18:14:44.510849Z"
        },
        "editable": false,
        "trusted": true,
        "id": "hHyRZ4dUIbIQ"
      },
      "execution_count": null,
      "outputs": []
    },
    {
      "cell_type": "code",
      "source": [
        "def process_input(img):\n",
        "  img_data = image.img_to_array(img)\n",
        "  img_data = np.expand_dims(img_data, axis=0)\n",
        "  img_data = preprocess_input(img_data)\n",
        "  return img_data"
      ],
      "metadata": {
        "execution": {
          "iopub.status.busy": "2023-10-03T18:14:44.512651Z",
          "iopub.status.idle": "2023-10-03T18:14:44.513460Z",
          "shell.execute_reply.started": "2023-10-03T18:14:44.513196Z",
          "shell.execute_reply": "2023-10-03T18:14:44.513221Z"
        },
        "editable": false,
        "trusted": true,
        "id": "KsAmnB81IbIR"
      },
      "execution_count": null,
      "outputs": []
    },
    {
      "cell_type": "code",
      "source": [
        "images_all = []\n",
        "for n, i in enumerate(img_path):\n",
        "  input_img = get_input(i)\n",
        "  process_img = process_input(input_img)\n",
        "  images_all.append(process_img[0])"
      ],
      "metadata": {
        "execution": {
          "iopub.status.busy": "2023-10-03T18:14:44.515003Z",
          "iopub.status.idle": "2023-10-03T18:14:44.515839Z",
          "shell.execute_reply.started": "2023-10-03T18:14:44.515582Z",
          "shell.execute_reply": "2023-10-03T18:14:44.515607Z"
        },
        "editable": false,
        "trusted": true,
        "id": "Su-l1ZLoIbIR"
      },
      "execution_count": null,
      "outputs": []
    },
    {
      "cell_type": "code",
      "source": [
        "image_train = []\n",
        "image_test = []\n",
        "for i in range(7300):\n",
        "  image_train.append(images_all[i])\n",
        "for j in range(len(images_all)-7300):\n",
        "  image_test.append(images_all[j])\n",
        "\n",
        "print(len(images_all))\n",
        "print(len(image_train))\n",
        "print(len(image_test))"
      ],
      "metadata": {
        "execution": {
          "iopub.status.busy": "2023-10-03T18:14:44.517341Z",
          "iopub.status.idle": "2023-10-03T18:14:44.518170Z",
          "shell.execute_reply.started": "2023-10-03T18:14:44.517922Z",
          "shell.execute_reply": "2023-10-03T18:14:44.517947Z"
        },
        "editable": false,
        "trusted": true,
        "id": "GVj1_6D-IbIR",
        "colab": {
          "base_uri": "https://localhost:8080/"
        },
        "outputId": "a8160084-1f00-4d46-ca5e-d5296de82825"
      },
      "execution_count": null,
      "outputs": [
        {
          "output_type": "stream",
          "name": "stdout",
          "text": [
            "9119\n",
            "7300\n",
            "1819\n"
          ]
        }
      ]
    },
    {
      "cell_type": "code",
      "source": [
        "from nltk.corpus import stopwords\n",
        "from nltk.stem.porter import PorterStemmer\n",
        "ps = PorterStemmer\n",
        "nltk.download('stopwords')\n",
        "def text_cleaning(text):\n",
        "  text = text.lower()\n",
        "  return text\n",
        "df['cleaned_text'] = df['emojis'].apply(text_cleaning)"
      ],
      "metadata": {
        "execution": {
          "iopub.status.busy": "2023-10-03T18:14:44.519705Z",
          "iopub.status.idle": "2023-10-03T18:14:44.520542Z",
          "shell.execute_reply.started": "2023-10-03T18:14:44.520294Z",
          "shell.execute_reply": "2023-10-03T18:14:44.520319Z"
        },
        "editable": false,
        "trusted": true,
        "id": "c0hFqLJeIbIR",
        "colab": {
          "base_uri": "https://localhost:8080/"
        },
        "outputId": "f6bc0a22-d393-433a-ea79-99da0e66e7a7"
      },
      "execution_count": null,
      "outputs": [
        {
          "output_type": "stream",
          "name": "stderr",
          "text": [
            "[nltk_data] Downloading package stopwords to /root/nltk_data...\n",
            "[nltk_data]   Package stopwords is already up-to-date!\n"
          ]
        }
      ]
    },
    {
      "cell_type": "code",
      "source": [
        "def print_metrices(true, pred):\n",
        "   print(\"Precision: \", precision_score(true, pred, average='weighted'))\n",
        "   print(\"Recall: \", recall_score(true, pred, average='weighted'))\n",
        "   print(\"F1: \", f1_score(true, pred,  average='weighted'))"
      ],
      "metadata": {
        "execution": {
          "iopub.status.busy": "2023-10-03T18:14:44.522042Z",
          "iopub.status.idle": "2023-10-03T18:14:44.522908Z",
          "shell.execute_reply.started": "2023-10-03T18:14:44.522618Z",
          "shell.execute_reply": "2023-10-03T18:14:44.522644Z"
        },
        "editable": false,
        "trusted": true,
        "id": "LOi226G7IbIR"
      },
      "execution_count": null,
      "outputs": []
    },
    {
      "cell_type": "code",
      "source": [
        "df_1 = df.drop('intention', axis=1)\n",
        "y = df['intention']\n",
        "print(y)"
      ],
      "metadata": {
        "execution": {
          "iopub.status.busy": "2023-10-03T18:14:44.524402Z",
          "iopub.status.idle": "2023-10-03T18:14:44.525274Z",
          "shell.execute_reply.started": "2023-10-03T18:14:44.524988Z",
          "shell.execute_reply": "2023-10-03T18:14:44.525014Z"
        },
        "editable": false,
        "trusted": true,
        "id": "LAlY8Yb-IbIR",
        "colab": {
          "base_uri": "https://localhost:8080/"
        },
        "outputId": "39bcd063-a8da-482b-8971-d7043ba19941"
      },
      "execution_count": null,
      "outputs": [
        {
          "output_type": "stream",
          "name": "stdout",
          "text": [
            "0       1\n",
            "1       1\n",
            "2       1\n",
            "3       1\n",
            "4       1\n",
            "       ..\n",
            "9114    1\n",
            "9115    1\n",
            "9116    1\n",
            "9117    1\n",
            "9118    1\n",
            "Name: intention, Length: 9119, dtype: int64\n"
          ]
        }
      ]
    },
    {
      "cell_type": "code",
      "source": [
        "df_train = df_1['cleaned_text'][:7300]\n",
        "df_test = df_1['cleaned_text'][7300:]\n",
        "y_train = y[:7300]\n",
        "y_test = y[7300:]"
      ],
      "metadata": {
        "execution": {
          "iopub.status.busy": "2023-10-03T18:14:44.526754Z",
          "iopub.status.idle": "2023-10-03T18:14:44.527595Z",
          "shell.execute_reply.started": "2023-10-03T18:14:44.527348Z",
          "shell.execute_reply": "2023-10-03T18:14:44.527373Z"
        },
        "editable": false,
        "trusted": true,
        "id": "YiCWlCTDIbIR"
      },
      "execution_count": null,
      "outputs": []
    },
    {
      "cell_type": "code",
      "source": [
        "df_train[0]"
      ],
      "metadata": {
        "execution": {
          "iopub.status.busy": "2023-10-03T18:14:44.528817Z",
          "iopub.status.idle": "2023-10-03T18:14:44.529875Z",
          "shell.execute_reply.started": "2023-10-03T18:14:44.529607Z",
          "shell.execute_reply": "2023-10-03T18:14:44.529632Z"
        },
        "editable": false,
        "trusted": true,
        "id": "Sx1LZp_FIbIR",
        "colab": {
          "base_uri": "https://localhost:8080/",
          "height": 71
        },
        "outputId": "7d0ef071-c2de-4f84-99c2-1d57d3538069"
      },
      "execution_count": null,
      "outputs": [
        {
          "output_type": "execute_result",
          "data": {
            "text/plain": [
              "'my life is meaningless i just want to end my life so badly my life is completely empty and i dont want to have to create meaning in it creating meaning is pain how long will i hold back the urge to run my car head first into the next person coming the opposite way when will i stop feeling jealous of tragic characters like gomer pile for the swift end they were able to bring to their lives:('"
            ],
            "application/vnd.google.colaboratory.intrinsic+json": {
              "type": "string"
            }
          },
          "metadata": {},
          "execution_count": 43
        }
      ]
    },
    {
      "cell_type": "code",
      "source": [
        "print(df_train.shape)\n",
        "print(df_test.shape)"
      ],
      "metadata": {
        "execution": {
          "iopub.status.busy": "2023-10-03T18:14:44.531433Z",
          "iopub.status.idle": "2023-10-03T18:14:44.532252Z",
          "shell.execute_reply.started": "2023-10-03T18:14:44.531986Z",
          "shell.execute_reply": "2023-10-03T18:14:44.532011Z"
        },
        "editable": false,
        "trusted": true,
        "id": "_pkQYdywIbIR",
        "colab": {
          "base_uri": "https://localhost:8080/"
        },
        "outputId": "9abfc3b2-5519-4cac-c854-5cabbb03d065"
      },
      "execution_count": null,
      "outputs": [
        {
          "output_type": "stream",
          "name": "stdout",
          "text": [
            "(7300,)\n",
            "(1819,)\n"
          ]
        }
      ]
    },
    {
      "cell_type": "code",
      "source": [
        "max_len = 200\n",
        "def text_tokenizer(train_data, test_data, vocabulary, max_len, sample_text_num):\n",
        "  tokenizer = Tokenizer()\n",
        "  tokenizer.fit_on_texts(df['cleaned_text'])\n",
        "  word_index = tokenizer.word_index\n",
        "  vocab_size = len(word_index) + 1\n",
        "  train_sequences = tokenizer.texts_to_sequences(train_data)\n",
        "  train_pad_sequences =  keras.preprocessing.sequence.pad_sequences(train_sequences, value=0.0, padding='post', maxlen= max_len)\n",
        "  test_sequences = tokenizer.texts_to_sequences(test_data)\n",
        "  test_pad_sequences =  keras.preprocessing.sequence.pad_sequences(test_sequences, value=0.0, padding='post', maxlen= max_len)\n",
        "  return train_pad_sequences, test_pad_sequences, vocab_size\n",
        "\n",
        "vocabulary = 60000\n",
        "sample_text_num=10"
      ],
      "metadata": {
        "execution": {
          "iopub.status.busy": "2023-10-03T18:14:44.533788Z",
          "iopub.status.idle": "2023-10-03T18:14:44.534659Z",
          "shell.execute_reply.started": "2023-10-03T18:14:44.534402Z",
          "shell.execute_reply": "2023-10-03T18:14:44.534427Z"
        },
        "editable": false,
        "trusted": true,
        "id": "C3ocEy5pIbIR"
      },
      "execution_count": null,
      "outputs": []
    },
    {
      "cell_type": "code",
      "source": [
        "train_pad_sequences, test_pad_sequences, vocab_size =  text_tokenizer(df_train,df_test,\n",
        "                                                                      vocabulary,max_len,sample_text_num)\n"
      ],
      "metadata": {
        "execution": {
          "iopub.status.busy": "2023-10-03T18:14:44.536152Z",
          "iopub.status.idle": "2023-10-03T18:14:44.536981Z",
          "shell.execute_reply.started": "2023-10-03T18:14:44.536728Z",
          "shell.execute_reply": "2023-10-03T18:14:44.536751Z"
        },
        "editable": false,
        "trusted": true,
        "id": "9LlAjUrbIbIR"
      },
      "execution_count": null,
      "outputs": []
    },
    {
      "cell_type": "code",
      "source": [
        "print(vocab_size)\n",
        "print(train_pad_sequences.shape)\n",
        "print(test_pad_sequences.shape)\n",
        "y_train = np.array(y_train).reshape(-1, 1)\n",
        "y_test = np.array(y_test).reshape(-1, 1)"
      ],
      "metadata": {
        "execution": {
          "iopub.status.busy": "2023-10-03T18:14:44.538501Z",
          "iopub.status.idle": "2023-10-03T18:14:44.539355Z",
          "shell.execute_reply.started": "2023-10-03T18:14:44.539083Z",
          "shell.execute_reply": "2023-10-03T18:14:44.539107Z"
        },
        "editable": false,
        "trusted": true,
        "id": "3Ip5a0EXIbIS",
        "colab": {
          "base_uri": "https://localhost:8080/"
        },
        "outputId": "5ed418f0-e9d6-4c94-bfc2-e35c33ffdb8c"
      },
      "execution_count": null,
      "outputs": [
        {
          "output_type": "stream",
          "name": "stdout",
          "text": [
            "24733\n",
            "(7300, 200)\n",
            "(1819, 200)\n"
          ]
        }
      ]
    },
    {
      "cell_type": "code",
      "source": [
        "y_train"
      ],
      "metadata": {
        "execution": {
          "iopub.status.busy": "2023-10-03T18:14:44.540827Z",
          "iopub.status.idle": "2023-10-03T18:14:44.541679Z",
          "shell.execute_reply.started": "2023-10-03T18:14:44.541396Z",
          "shell.execute_reply": "2023-10-03T18:14:44.541421Z"
        },
        "editable": false,
        "trusted": true,
        "id": "As_c6DmuIbIS",
        "colab": {
          "base_uri": "https://localhost:8080/"
        },
        "outputId": "45277692-77e3-42f7-e301-f32772f08be2"
      },
      "execution_count": null,
      "outputs": [
        {
          "output_type": "execute_result",
          "data": {
            "text/plain": [
              "array([[1],\n",
              "       [1],\n",
              "       [1],\n",
              "       ...,\n",
              "       [0],\n",
              "       [0],\n",
              "       [0]])"
            ]
          },
          "metadata": {},
          "execution_count": 48
        }
      ]
    },
    {
      "cell_type": "code",
      "source": [
        "keras.backend.clear_session()\n",
        "def callbacks_check(model_name):\n",
        "  num_classes = 6\n",
        "  accuracy_threshold = 0.99\n",
        "\n",
        "  class myCallback(keras.callbacks.Callback):\n",
        "    def on_epoch_end(self, epoch, logs={}):\n",
        "        if(logs.get('accuracy')>accuracy_threshold):\n",
        "          print(\"\\nReached %2.2f%% accuracy so we will stop trianing\" % (accuracy_threshold*100))\n",
        "          self.model.stop_training = True\n",
        "\n",
        "  acc_callback = myCallback()\n",
        "  # Saved the Best Model\n",
        "  filepath = folder_path+'Models/'+f\"{model_name}.h5\"\n",
        "  checkpoint = keras.callbacks.ModelCheckpoint(filepath, monitor='val_accuracy', verbose=2, save_best_only=True,\n",
        "                                             save_weights_only=False, mode='max')\n",
        "  # callback list\n",
        "  callback_list = [acc_callback, checkpoint]\n",
        "\n",
        "  return callback_list"
      ],
      "metadata": {
        "execution": {
          "iopub.status.busy": "2023-10-03T18:14:44.543102Z",
          "iopub.status.idle": "2023-10-03T18:14:44.543932Z",
          "shell.execute_reply.started": "2023-10-03T18:14:44.543677Z",
          "shell.execute_reply": "2023-10-03T18:14:44.543701Z"
        },
        "editable": false,
        "trusted": true,
        "id": "Z_ZqIQf0IbIS"
      },
      "execution_count": null,
      "outputs": []
    },
    {
      "cell_type": "code",
      "source": [
        "train_image = np.array(image_train)"
      ],
      "metadata": {
        "execution": {
          "iopub.status.busy": "2023-10-03T18:14:44.545402Z",
          "iopub.status.idle": "2023-10-03T18:14:44.546205Z",
          "shell.execute_reply.started": "2023-10-03T18:14:44.545967Z",
          "shell.execute_reply": "2023-10-03T18:14:44.545991Z"
        },
        "editable": false,
        "trusted": true,
        "id": "AgViruHCIbIS"
      },
      "execution_count": null,
      "outputs": []
    },
    {
      "cell_type": "code",
      "source": [
        "test_image = np.array(image_test)"
      ],
      "metadata": {
        "execution": {
          "iopub.status.busy": "2023-10-03T18:14:44.547540Z",
          "iopub.status.idle": "2023-10-03T18:14:44.548570Z",
          "shell.execute_reply.started": "2023-10-03T18:14:44.548325Z",
          "shell.execute_reply": "2023-10-03T18:14:44.548349Z"
        },
        "editable": false,
        "trusted": true,
        "id": "8NNhBOEMIbIS"
      },
      "execution_count": null,
      "outputs": []
    },
    {
      "cell_type": "code",
      "source": [
        "train_image.shape"
      ],
      "metadata": {
        "execution": {
          "iopub.status.busy": "2023-10-03T18:14:44.550055Z",
          "iopub.status.idle": "2023-10-03T18:14:44.550840Z",
          "shell.execute_reply.started": "2023-10-03T18:14:44.550587Z",
          "shell.execute_reply": "2023-10-03T18:14:44.550611Z"
        },
        "editable": false,
        "trusted": true,
        "id": "HKd0cxdFIbIS",
        "colab": {
          "base_uri": "https://localhost:8080/"
        },
        "outputId": "990bf347-16da-48de-b513-20a017cdd480"
      },
      "execution_count": null,
      "outputs": [
        {
          "output_type": "execute_result",
          "data": {
            "text/plain": [
              "(7300, 256, 256, 3)"
            ]
          },
          "metadata": {},
          "execution_count": 52
        }
      ]
    },
    {
      "cell_type": "code",
      "source": [
        "train_pad_sequences.shape"
      ],
      "metadata": {
        "execution": {
          "iopub.status.busy": "2023-10-03T18:14:44.552434Z",
          "iopub.status.idle": "2023-10-03T18:14:44.553203Z",
          "shell.execute_reply.started": "2023-10-03T18:14:44.552964Z",
          "shell.execute_reply": "2023-10-03T18:14:44.552989Z"
        },
        "editable": false,
        "trusted": true,
        "id": "9M3LaScJIbIS",
        "colab": {
          "base_uri": "https://localhost:8080/"
        },
        "outputId": "4cba61b8-4f5f-478e-eb3a-32b0226bd2e6"
      },
      "execution_count": null,
      "outputs": [
        {
          "output_type": "execute_result",
          "data": {
            "text/plain": [
              "(7300, 200)"
            ]
          },
          "metadata": {},
          "execution_count": 53
        }
      ]
    },
    {
      "cell_type": "code",
      "source": [
        "y_train.shape"
      ],
      "metadata": {
        "execution": {
          "iopub.status.busy": "2023-10-03T18:14:44.554657Z",
          "iopub.status.idle": "2023-10-03T18:14:44.555490Z",
          "shell.execute_reply.started": "2023-10-03T18:14:44.555250Z",
          "shell.execute_reply": "2023-10-03T18:14:44.555276Z"
        },
        "editable": false,
        "trusted": true,
        "id": "cRbTrXUeIbIS",
        "colab": {
          "base_uri": "https://localhost:8080/"
        },
        "outputId": "d908f443-cd8e-4e0c-cea2-bca4da8e7990"
      },
      "execution_count": null,
      "outputs": [
        {
          "output_type": "execute_result",
          "data": {
            "text/plain": [
              "(7300, 1)"
            ]
          },
          "metadata": {},
          "execution_count": 54
        }
      ]
    },
    {
      "cell_type": "markdown",
      "source": [
        "# LSTM+RESNET"
      ],
      "metadata": {
        "editable": false,
        "id": "kNocxCSPIbIT"
      }
    },
    {
      "cell_type": "code",
      "source": [
        "def create_lstm_resnet_model():\n",
        "  keras.backend.clear_session()\n",
        "  # create the base pre-trained model\n",
        "  resnet = ResNet50(weights='imagenet', include_top=False,input_shape=(256, 256, 3))\n",
        " # for layer in resnet.layers[0:-10]:\n",
        " #     layer.trainable = False\n",
        "  # add a global spatial average pooling layer\n",
        "  x = resnet.output\n",
        "#  pool = GlobalAveragePooling2D()(x)\n",
        "  # let's add a fully-connected layer\n",
        "  flat = Flatten()(x)\n",
        "  # and a logistic layer -- let's say we have 200 classes\n",
        "  hidden2 = Dense(200, activation='relu')(flat)\n",
        "  # this is the model we will train\n",
        "  resnet_img_model = Model(inputs=resnet.input, outputs=hidden2)\n",
        "\n",
        "\n",
        "  # Text Model\n",
        "\n",
        "  bi_text_inputs = Input(shape=(200,))\n",
        "  bi_embedding_layer = Embedding(vocab_size,300, trainable=False)(bi_text_inputs)\n",
        "  LSTM_Layer_1 = Bidirectional(LSTM(30))(bi_embedding_layer)\n",
        " # LSTM_Layer_2 = Bidirectional(LSTM(30))(LSTM_Layer_1)\n",
        "\n",
        "  bi_dense_layer_1 = Dense(200, activation='relu')(LSTM_Layer_1)\n",
        "  bilstm_model = Model(inputs=bi_text_inputs, outputs=bi_dense_layer_1)\n",
        "\n",
        "\n",
        "   # Concatenating the output of 2 classifiers\n",
        "  con_layer = keras.layers.concatenate([resnet_img_model.output, bilstm_model.output])\n",
        "  dropout = Dropout(0.2)(con_layer)\n",
        "  out = Dense(1,activation='sigmoid')(dropout)\n",
        "\n",
        "  #Defining model input and output\n",
        "  com_model = Model(inputs = [resnet_img_model.input, bilstm_model.input], outputs=out)\n",
        "\n",
        "\n",
        "      # Concatenating the output of 2 classifiers\n",
        "  con_layer = keras.layers.concatenate([resnet_img_model.output, bilstm_model.output])\n",
        "  dropout = Dropout(0.2)(con_layer)\n",
        "  final_dense = Dense(64, activation=\"relu\")(dropout)\n",
        "  out = Dense(1,activation='sigmoid')(final_dense)\n",
        "\n",
        "  #Defining model input and output\n",
        "  com_model = Model(inputs = [resnet_img_model.input, bilstm_model.input], outputs=out)\n",
        "\n",
        "  return com_model"
      ],
      "metadata": {
        "execution": {
          "iopub.status.busy": "2023-10-03T18:14:44.565128Z",
          "iopub.status.idle": "2023-10-03T18:14:44.565951Z",
          "shell.execute_reply.started": "2023-10-03T18:14:44.565699Z",
          "shell.execute_reply": "2023-10-03T18:14:44.565723Z"
        },
        "editable": false,
        "trusted": true,
        "id": "jlPiYvcvIbIU"
      },
      "execution_count": null,
      "outputs": []
    },
    {
      "cell_type": "code",
      "source": [
        "filepath = '/content/drive/MyDrive/Graphs/Weights/'+ 'Models_resnet_1/'+ 'resnet_lstm_att.h5'\n",
        "checkpoint = keras.callbacks.ModelCheckpoint(filepath, monitor='val_accuracy', verbose=2,\n",
        "                                             save_weights_only=True, mode='max' )"
      ],
      "metadata": {
        "execution": {
          "iopub.status.busy": "2023-10-03T18:14:44.567386Z",
          "iopub.status.idle": "2023-10-03T18:14:44.568498Z",
          "shell.execute_reply.started": "2023-10-03T18:14:44.568254Z",
          "shell.execute_reply": "2023-10-03T18:14:44.568279Z"
        },
        "editable": false,
        "trusted": true,
        "id": "G5Ezw3HxIbIU"
      },
      "execution_count": null,
      "outputs": []
    },
    {
      "cell_type": "code",
      "source": [
        "\n",
        "model_1 = create_lstm_resnet_model()"
      ],
      "metadata": {
        "execution": {
          "iopub.status.busy": "2023-10-03T18:14:44.569926Z",
          "iopub.status.idle": "2023-10-03T18:14:44.570755Z",
          "shell.execute_reply.started": "2023-10-03T18:14:44.570480Z",
          "shell.execute_reply": "2023-10-03T18:14:44.570504Z"
        },
        "editable": false,
        "trusted": true,
        "id": "qEE1PSJYIbIU",
        "colab": {
          "base_uri": "https://localhost:8080/"
        },
        "outputId": "44341285-a82e-4c7c-8343-ae6573a79d0b"
      },
      "execution_count": null,
      "outputs": [
        {
          "output_type": "stream",
          "name": "stdout",
          "text": [
            "Downloading data from https://storage.googleapis.com/tensorflow/keras-applications/resnet/resnet50_weights_tf_dim_ordering_tf_kernels_notop.h5\n",
            "94765736/94765736 [==============================] - 1s 0us/step\n"
          ]
        }
      ]
    },
    {
      "cell_type": "code",
      "source": [
        "model_1.compile(loss='binary_crossentropy',\n",
        "              optimizer=Adam(),\n",
        "              metrics=[\"accuracy\"])"
      ],
      "metadata": {
        "execution": {
          "iopub.status.busy": "2023-10-03T18:14:44.572175Z",
          "iopub.status.idle": "2023-10-03T18:14:44.572965Z",
          "shell.execute_reply.started": "2023-10-03T18:14:44.572710Z",
          "shell.execute_reply": "2023-10-03T18:14:44.572734Z"
        },
        "editable": false,
        "trusted": true,
        "id": "DCZ8rXZRIbIU"
      },
      "execution_count": null,
      "outputs": []
    },
    {
      "cell_type": "code",
      "source": [
        "model_1.summary()"
      ],
      "metadata": {
        "execution": {
          "iopub.status.busy": "2023-10-03T18:14:44.574448Z",
          "iopub.status.idle": "2023-10-03T18:14:44.575209Z",
          "shell.execute_reply.started": "2023-10-03T18:14:44.574972Z",
          "shell.execute_reply": "2023-10-03T18:14:44.574996Z"
        },
        "editable": false,
        "trusted": true,
        "id": "t45l1tIXIbIV",
        "colab": {
          "base_uri": "https://localhost:8080/"
        },
        "outputId": "5c908fd1-7ddf-4dde-bc9c-533b9b2161d8"
      },
      "execution_count": null,
      "outputs": [
        {
          "output_type": "stream",
          "name": "stdout",
          "text": [
            "Model: \"model_3\"\n",
            "__________________________________________________________________________________________________\n",
            " Layer (type)                Output Shape                 Param #   Connected to                  \n",
            "==================================================================================================\n",
            " input_1 (InputLayer)        [(None, 256, 256, 3)]        0         []                            \n",
            "                                                                                                  \n",
            " conv1_pad (ZeroPadding2D)   (None, 262, 262, 3)          0         ['input_1[0][0]']             \n",
            "                                                                                                  \n",
            " conv1_conv (Conv2D)         (None, 128, 128, 64)         9472      ['conv1_pad[0][0]']           \n",
            "                                                                                                  \n",
            " conv1_bn (BatchNormalizati  (None, 128, 128, 64)         256       ['conv1_conv[0][0]']          \n",
            " on)                                                                                              \n",
            "                                                                                                  \n",
            " conv1_relu (Activation)     (None, 128, 128, 64)         0         ['conv1_bn[0][0]']            \n",
            "                                                                                                  \n",
            " pool1_pad (ZeroPadding2D)   (None, 130, 130, 64)         0         ['conv1_relu[0][0]']          \n",
            "                                                                                                  \n",
            " pool1_pool (MaxPooling2D)   (None, 64, 64, 64)           0         ['pool1_pad[0][0]']           \n",
            "                                                                                                  \n",
            " conv2_block1_1_conv (Conv2  (None, 64, 64, 64)           4160      ['pool1_pool[0][0]']          \n",
            " D)                                                                                               \n",
            "                                                                                                  \n",
            " conv2_block1_1_bn (BatchNo  (None, 64, 64, 64)           256       ['conv2_block1_1_conv[0][0]'] \n",
            " rmalization)                                                                                     \n",
            "                                                                                                  \n",
            " conv2_block1_1_relu (Activ  (None, 64, 64, 64)           0         ['conv2_block1_1_bn[0][0]']   \n",
            " ation)                                                                                           \n",
            "                                                                                                  \n",
            " conv2_block1_2_conv (Conv2  (None, 64, 64, 64)           36928     ['conv2_block1_1_relu[0][0]'] \n",
            " D)                                                                                               \n",
            "                                                                                                  \n",
            " conv2_block1_2_bn (BatchNo  (None, 64, 64, 64)           256       ['conv2_block1_2_conv[0][0]'] \n",
            " rmalization)                                                                                     \n",
            "                                                                                                  \n",
            " conv2_block1_2_relu (Activ  (None, 64, 64, 64)           0         ['conv2_block1_2_bn[0][0]']   \n",
            " ation)                                                                                           \n",
            "                                                                                                  \n",
            " conv2_block1_0_conv (Conv2  (None, 64, 64, 256)          16640     ['pool1_pool[0][0]']          \n",
            " D)                                                                                               \n",
            "                                                                                                  \n",
            " conv2_block1_3_conv (Conv2  (None, 64, 64, 256)          16640     ['conv2_block1_2_relu[0][0]'] \n",
            " D)                                                                                               \n",
            "                                                                                                  \n",
            " conv2_block1_0_bn (BatchNo  (None, 64, 64, 256)          1024      ['conv2_block1_0_conv[0][0]'] \n",
            " rmalization)                                                                                     \n",
            "                                                                                                  \n",
            " conv2_block1_3_bn (BatchNo  (None, 64, 64, 256)          1024      ['conv2_block1_3_conv[0][0]'] \n",
            " rmalization)                                                                                     \n",
            "                                                                                                  \n",
            " conv2_block1_add (Add)      (None, 64, 64, 256)          0         ['conv2_block1_0_bn[0][0]',   \n",
            "                                                                     'conv2_block1_3_bn[0][0]']   \n",
            "                                                                                                  \n",
            " conv2_block1_out (Activati  (None, 64, 64, 256)          0         ['conv2_block1_add[0][0]']    \n",
            " on)                                                                                              \n",
            "                                                                                                  \n",
            " conv2_block2_1_conv (Conv2  (None, 64, 64, 64)           16448     ['conv2_block1_out[0][0]']    \n",
            " D)                                                                                               \n",
            "                                                                                                  \n",
            " conv2_block2_1_bn (BatchNo  (None, 64, 64, 64)           256       ['conv2_block2_1_conv[0][0]'] \n",
            " rmalization)                                                                                     \n",
            "                                                                                                  \n",
            " conv2_block2_1_relu (Activ  (None, 64, 64, 64)           0         ['conv2_block2_1_bn[0][0]']   \n",
            " ation)                                                                                           \n",
            "                                                                                                  \n",
            " conv2_block2_2_conv (Conv2  (None, 64, 64, 64)           36928     ['conv2_block2_1_relu[0][0]'] \n",
            " D)                                                                                               \n",
            "                                                                                                  \n",
            " conv2_block2_2_bn (BatchNo  (None, 64, 64, 64)           256       ['conv2_block2_2_conv[0][0]'] \n",
            " rmalization)                                                                                     \n",
            "                                                                                                  \n",
            " conv2_block2_2_relu (Activ  (None, 64, 64, 64)           0         ['conv2_block2_2_bn[0][0]']   \n",
            " ation)                                                                                           \n",
            "                                                                                                  \n",
            " conv2_block2_3_conv (Conv2  (None, 64, 64, 256)          16640     ['conv2_block2_2_relu[0][0]'] \n",
            " D)                                                                                               \n",
            "                                                                                                  \n",
            " conv2_block2_3_bn (BatchNo  (None, 64, 64, 256)          1024      ['conv2_block2_3_conv[0][0]'] \n",
            " rmalization)                                                                                     \n",
            "                                                                                                  \n",
            " conv2_block2_add (Add)      (None, 64, 64, 256)          0         ['conv2_block1_out[0][0]',    \n",
            "                                                                     'conv2_block2_3_bn[0][0]']   \n",
            "                                                                                                  \n",
            " conv2_block2_out (Activati  (None, 64, 64, 256)          0         ['conv2_block2_add[0][0]']    \n",
            " on)                                                                                              \n",
            "                                                                                                  \n",
            " conv2_block3_1_conv (Conv2  (None, 64, 64, 64)           16448     ['conv2_block2_out[0][0]']    \n",
            " D)                                                                                               \n",
            "                                                                                                  \n",
            " conv2_block3_1_bn (BatchNo  (None, 64, 64, 64)           256       ['conv2_block3_1_conv[0][0]'] \n",
            " rmalization)                                                                                     \n",
            "                                                                                                  \n",
            " conv2_block3_1_relu (Activ  (None, 64, 64, 64)           0         ['conv2_block3_1_bn[0][0]']   \n",
            " ation)                                                                                           \n",
            "                                                                                                  \n",
            " conv2_block3_2_conv (Conv2  (None, 64, 64, 64)           36928     ['conv2_block3_1_relu[0][0]'] \n",
            " D)                                                                                               \n",
            "                                                                                                  \n",
            " conv2_block3_2_bn (BatchNo  (None, 64, 64, 64)           256       ['conv2_block3_2_conv[0][0]'] \n",
            " rmalization)                                                                                     \n",
            "                                                                                                  \n",
            " conv2_block3_2_relu (Activ  (None, 64, 64, 64)           0         ['conv2_block3_2_bn[0][0]']   \n",
            " ation)                                                                                           \n",
            "                                                                                                  \n",
            " conv2_block3_3_conv (Conv2  (None, 64, 64, 256)          16640     ['conv2_block3_2_relu[0][0]'] \n",
            " D)                                                                                               \n",
            "                                                                                                  \n",
            " conv2_block3_3_bn (BatchNo  (None, 64, 64, 256)          1024      ['conv2_block3_3_conv[0][0]'] \n",
            " rmalization)                                                                                     \n",
            "                                                                                                  \n",
            " conv2_block3_add (Add)      (None, 64, 64, 256)          0         ['conv2_block2_out[0][0]',    \n",
            "                                                                     'conv2_block3_3_bn[0][0]']   \n",
            "                                                                                                  \n",
            " conv2_block3_out (Activati  (None, 64, 64, 256)          0         ['conv2_block3_add[0][0]']    \n",
            " on)                                                                                              \n",
            "                                                                                                  \n",
            " conv3_block1_1_conv (Conv2  (None, 32, 32, 128)          32896     ['conv2_block3_out[0][0]']    \n",
            " D)                                                                                               \n",
            "                                                                                                  \n",
            " conv3_block1_1_bn (BatchNo  (None, 32, 32, 128)          512       ['conv3_block1_1_conv[0][0]'] \n",
            " rmalization)                                                                                     \n",
            "                                                                                                  \n",
            " conv3_block1_1_relu (Activ  (None, 32, 32, 128)          0         ['conv3_block1_1_bn[0][0]']   \n",
            " ation)                                                                                           \n",
            "                                                                                                  \n",
            " conv3_block1_2_conv (Conv2  (None, 32, 32, 128)          147584    ['conv3_block1_1_relu[0][0]'] \n",
            " D)                                                                                               \n",
            "                                                                                                  \n",
            " conv3_block1_2_bn (BatchNo  (None, 32, 32, 128)          512       ['conv3_block1_2_conv[0][0]'] \n",
            " rmalization)                                                                                     \n",
            "                                                                                                  \n",
            " conv3_block1_2_relu (Activ  (None, 32, 32, 128)          0         ['conv3_block1_2_bn[0][0]']   \n",
            " ation)                                                                                           \n",
            "                                                                                                  \n",
            " conv3_block1_0_conv (Conv2  (None, 32, 32, 512)          131584    ['conv2_block3_out[0][0]']    \n",
            " D)                                                                                               \n",
            "                                                                                                  \n",
            " conv3_block1_3_conv (Conv2  (None, 32, 32, 512)          66048     ['conv3_block1_2_relu[0][0]'] \n",
            " D)                                                                                               \n",
            "                                                                                                  \n",
            " conv3_block1_0_bn (BatchNo  (None, 32, 32, 512)          2048      ['conv3_block1_0_conv[0][0]'] \n",
            " rmalization)                                                                                     \n",
            "                                                                                                  \n",
            " conv3_block1_3_bn (BatchNo  (None, 32, 32, 512)          2048      ['conv3_block1_3_conv[0][0]'] \n",
            " rmalization)                                                                                     \n",
            "                                                                                                  \n",
            " conv3_block1_add (Add)      (None, 32, 32, 512)          0         ['conv3_block1_0_bn[0][0]',   \n",
            "                                                                     'conv3_block1_3_bn[0][0]']   \n",
            "                                                                                                  \n",
            " conv3_block1_out (Activati  (None, 32, 32, 512)          0         ['conv3_block1_add[0][0]']    \n",
            " on)                                                                                              \n",
            "                                                                                                  \n",
            " conv3_block2_1_conv (Conv2  (None, 32, 32, 128)          65664     ['conv3_block1_out[0][0]']    \n",
            " D)                                                                                               \n",
            "                                                                                                  \n",
            " conv3_block2_1_bn (BatchNo  (None, 32, 32, 128)          512       ['conv3_block2_1_conv[0][0]'] \n",
            " rmalization)                                                                                     \n",
            "                                                                                                  \n",
            " conv3_block2_1_relu (Activ  (None, 32, 32, 128)          0         ['conv3_block2_1_bn[0][0]']   \n",
            " ation)                                                                                           \n",
            "                                                                                                  \n",
            " conv3_block2_2_conv (Conv2  (None, 32, 32, 128)          147584    ['conv3_block2_1_relu[0][0]'] \n",
            " D)                                                                                               \n",
            "                                                                                                  \n",
            " conv3_block2_2_bn (BatchNo  (None, 32, 32, 128)          512       ['conv3_block2_2_conv[0][0]'] \n",
            " rmalization)                                                                                     \n",
            "                                                                                                  \n",
            " conv3_block2_2_relu (Activ  (None, 32, 32, 128)          0         ['conv3_block2_2_bn[0][0]']   \n",
            " ation)                                                                                           \n",
            "                                                                                                  \n",
            " conv3_block2_3_conv (Conv2  (None, 32, 32, 512)          66048     ['conv3_block2_2_relu[0][0]'] \n",
            " D)                                                                                               \n",
            "                                                                                                  \n",
            " conv3_block2_3_bn (BatchNo  (None, 32, 32, 512)          2048      ['conv3_block2_3_conv[0][0]'] \n",
            " rmalization)                                                                                     \n",
            "                                                                                                  \n",
            " conv3_block2_add (Add)      (None, 32, 32, 512)          0         ['conv3_block1_out[0][0]',    \n",
            "                                                                     'conv3_block2_3_bn[0][0]']   \n",
            "                                                                                                  \n",
            " conv3_block2_out (Activati  (None, 32, 32, 512)          0         ['conv3_block2_add[0][0]']    \n",
            " on)                                                                                              \n",
            "                                                                                                  \n",
            " conv3_block3_1_conv (Conv2  (None, 32, 32, 128)          65664     ['conv3_block2_out[0][0]']    \n",
            " D)                                                                                               \n",
            "                                                                                                  \n",
            " conv3_block3_1_bn (BatchNo  (None, 32, 32, 128)          512       ['conv3_block3_1_conv[0][0]'] \n",
            " rmalization)                                                                                     \n",
            "                                                                                                  \n",
            " conv3_block3_1_relu (Activ  (None, 32, 32, 128)          0         ['conv3_block3_1_bn[0][0]']   \n",
            " ation)                                                                                           \n",
            "                                                                                                  \n",
            " conv3_block3_2_conv (Conv2  (None, 32, 32, 128)          147584    ['conv3_block3_1_relu[0][0]'] \n",
            " D)                                                                                               \n",
            "                                                                                                  \n",
            " conv3_block3_2_bn (BatchNo  (None, 32, 32, 128)          512       ['conv3_block3_2_conv[0][0]'] \n",
            " rmalization)                                                                                     \n",
            "                                                                                                  \n",
            " conv3_block3_2_relu (Activ  (None, 32, 32, 128)          0         ['conv3_block3_2_bn[0][0]']   \n",
            " ation)                                                                                           \n",
            "                                                                                                  \n",
            " conv3_block3_3_conv (Conv2  (None, 32, 32, 512)          66048     ['conv3_block3_2_relu[0][0]'] \n",
            " D)                                                                                               \n",
            "                                                                                                  \n",
            " conv3_block3_3_bn (BatchNo  (None, 32, 32, 512)          2048      ['conv3_block3_3_conv[0][0]'] \n",
            " rmalization)                                                                                     \n",
            "                                                                                                  \n",
            " conv3_block3_add (Add)      (None, 32, 32, 512)          0         ['conv3_block2_out[0][0]',    \n",
            "                                                                     'conv3_block3_3_bn[0][0]']   \n",
            "                                                                                                  \n",
            " conv3_block3_out (Activati  (None, 32, 32, 512)          0         ['conv3_block3_add[0][0]']    \n",
            " on)                                                                                              \n",
            "                                                                                                  \n",
            " conv3_block4_1_conv (Conv2  (None, 32, 32, 128)          65664     ['conv3_block3_out[0][0]']    \n",
            " D)                                                                                               \n",
            "                                                                                                  \n",
            " conv3_block4_1_bn (BatchNo  (None, 32, 32, 128)          512       ['conv3_block4_1_conv[0][0]'] \n",
            " rmalization)                                                                                     \n",
            "                                                                                                  \n",
            " conv3_block4_1_relu (Activ  (None, 32, 32, 128)          0         ['conv3_block4_1_bn[0][0]']   \n",
            " ation)                                                                                           \n",
            "                                                                                                  \n",
            " conv3_block4_2_conv (Conv2  (None, 32, 32, 128)          147584    ['conv3_block4_1_relu[0][0]'] \n",
            " D)                                                                                               \n",
            "                                                                                                  \n",
            " conv3_block4_2_bn (BatchNo  (None, 32, 32, 128)          512       ['conv3_block4_2_conv[0][0]'] \n",
            " rmalization)                                                                                     \n",
            "                                                                                                  \n",
            " conv3_block4_2_relu (Activ  (None, 32, 32, 128)          0         ['conv3_block4_2_bn[0][0]']   \n",
            " ation)                                                                                           \n",
            "                                                                                                  \n",
            " conv3_block4_3_conv (Conv2  (None, 32, 32, 512)          66048     ['conv3_block4_2_relu[0][0]'] \n",
            " D)                                                                                               \n",
            "                                                                                                  \n",
            " conv3_block4_3_bn (BatchNo  (None, 32, 32, 512)          2048      ['conv3_block4_3_conv[0][0]'] \n",
            " rmalization)                                                                                     \n",
            "                                                                                                  \n",
            " conv3_block4_add (Add)      (None, 32, 32, 512)          0         ['conv3_block3_out[0][0]',    \n",
            "                                                                     'conv3_block4_3_bn[0][0]']   \n",
            "                                                                                                  \n",
            " conv3_block4_out (Activati  (None, 32, 32, 512)          0         ['conv3_block4_add[0][0]']    \n",
            " on)                                                                                              \n",
            "                                                                                                  \n",
            " conv4_block1_1_conv (Conv2  (None, 16, 16, 256)          131328    ['conv3_block4_out[0][0]']    \n",
            " D)                                                                                               \n",
            "                                                                                                  \n",
            " conv4_block1_1_bn (BatchNo  (None, 16, 16, 256)          1024      ['conv4_block1_1_conv[0][0]'] \n",
            " rmalization)                                                                                     \n",
            "                                                                                                  \n",
            " conv4_block1_1_relu (Activ  (None, 16, 16, 256)          0         ['conv4_block1_1_bn[0][0]']   \n",
            " ation)                                                                                           \n",
            "                                                                                                  \n",
            " conv4_block1_2_conv (Conv2  (None, 16, 16, 256)          590080    ['conv4_block1_1_relu[0][0]'] \n",
            " D)                                                                                               \n",
            "                                                                                                  \n",
            " conv4_block1_2_bn (BatchNo  (None, 16, 16, 256)          1024      ['conv4_block1_2_conv[0][0]'] \n",
            " rmalization)                                                                                     \n",
            "                                                                                                  \n",
            " conv4_block1_2_relu (Activ  (None, 16, 16, 256)          0         ['conv4_block1_2_bn[0][0]']   \n",
            " ation)                                                                                           \n",
            "                                                                                                  \n",
            " conv4_block1_0_conv (Conv2  (None, 16, 16, 1024)         525312    ['conv3_block4_out[0][0]']    \n",
            " D)                                                                                               \n",
            "                                                                                                  \n",
            " conv4_block1_3_conv (Conv2  (None, 16, 16, 1024)         263168    ['conv4_block1_2_relu[0][0]'] \n",
            " D)                                                                                               \n",
            "                                                                                                  \n",
            " conv4_block1_0_bn (BatchNo  (None, 16, 16, 1024)         4096      ['conv4_block1_0_conv[0][0]'] \n",
            " rmalization)                                                                                     \n",
            "                                                                                                  \n",
            " conv4_block1_3_bn (BatchNo  (None, 16, 16, 1024)         4096      ['conv4_block1_3_conv[0][0]'] \n",
            " rmalization)                                                                                     \n",
            "                                                                                                  \n",
            " conv4_block1_add (Add)      (None, 16, 16, 1024)         0         ['conv4_block1_0_bn[0][0]',   \n",
            "                                                                     'conv4_block1_3_bn[0][0]']   \n",
            "                                                                                                  \n",
            " conv4_block1_out (Activati  (None, 16, 16, 1024)         0         ['conv4_block1_add[0][0]']    \n",
            " on)                                                                                              \n",
            "                                                                                                  \n",
            " conv4_block2_1_conv (Conv2  (None, 16, 16, 256)          262400    ['conv4_block1_out[0][0]']    \n",
            " D)                                                                                               \n",
            "                                                                                                  \n",
            " conv4_block2_1_bn (BatchNo  (None, 16, 16, 256)          1024      ['conv4_block2_1_conv[0][0]'] \n",
            " rmalization)                                                                                     \n",
            "                                                                                                  \n",
            " conv4_block2_1_relu (Activ  (None, 16, 16, 256)          0         ['conv4_block2_1_bn[0][0]']   \n",
            " ation)                                                                                           \n",
            "                                                                                                  \n",
            " conv4_block2_2_conv (Conv2  (None, 16, 16, 256)          590080    ['conv4_block2_1_relu[0][0]'] \n",
            " D)                                                                                               \n",
            "                                                                                                  \n",
            " conv4_block2_2_bn (BatchNo  (None, 16, 16, 256)          1024      ['conv4_block2_2_conv[0][0]'] \n",
            " rmalization)                                                                                     \n",
            "                                                                                                  \n",
            " conv4_block2_2_relu (Activ  (None, 16, 16, 256)          0         ['conv4_block2_2_bn[0][0]']   \n",
            " ation)                                                                                           \n",
            "                                                                                                  \n",
            " conv4_block2_3_conv (Conv2  (None, 16, 16, 1024)         263168    ['conv4_block2_2_relu[0][0]'] \n",
            " D)                                                                                               \n",
            "                                                                                                  \n",
            " conv4_block2_3_bn (BatchNo  (None, 16, 16, 1024)         4096      ['conv4_block2_3_conv[0][0]'] \n",
            " rmalization)                                                                                     \n",
            "                                                                                                  \n",
            " conv4_block2_add (Add)      (None, 16, 16, 1024)         0         ['conv4_block1_out[0][0]',    \n",
            "                                                                     'conv4_block2_3_bn[0][0]']   \n",
            "                                                                                                  \n",
            " conv4_block2_out (Activati  (None, 16, 16, 1024)         0         ['conv4_block2_add[0][0]']    \n",
            " on)                                                                                              \n",
            "                                                                                                  \n",
            " conv4_block3_1_conv (Conv2  (None, 16, 16, 256)          262400    ['conv4_block2_out[0][0]']    \n",
            " D)                                                                                               \n",
            "                                                                                                  \n",
            " conv4_block3_1_bn (BatchNo  (None, 16, 16, 256)          1024      ['conv4_block3_1_conv[0][0]'] \n",
            " rmalization)                                                                                     \n",
            "                                                                                                  \n",
            " conv4_block3_1_relu (Activ  (None, 16, 16, 256)          0         ['conv4_block3_1_bn[0][0]']   \n",
            " ation)                                                                                           \n",
            "                                                                                                  \n",
            " conv4_block3_2_conv (Conv2  (None, 16, 16, 256)          590080    ['conv4_block3_1_relu[0][0]'] \n",
            " D)                                                                                               \n",
            "                                                                                                  \n",
            " conv4_block3_2_bn (BatchNo  (None, 16, 16, 256)          1024      ['conv4_block3_2_conv[0][0]'] \n",
            " rmalization)                                                                                     \n",
            "                                                                                                  \n",
            " conv4_block3_2_relu (Activ  (None, 16, 16, 256)          0         ['conv4_block3_2_bn[0][0]']   \n",
            " ation)                                                                                           \n",
            "                                                                                                  \n",
            " conv4_block3_3_conv (Conv2  (None, 16, 16, 1024)         263168    ['conv4_block3_2_relu[0][0]'] \n",
            " D)                                                                                               \n",
            "                                                                                                  \n",
            " conv4_block3_3_bn (BatchNo  (None, 16, 16, 1024)         4096      ['conv4_block3_3_conv[0][0]'] \n",
            " rmalization)                                                                                     \n",
            "                                                                                                  \n",
            " conv4_block3_add (Add)      (None, 16, 16, 1024)         0         ['conv4_block2_out[0][0]',    \n",
            "                                                                     'conv4_block3_3_bn[0][0]']   \n",
            "                                                                                                  \n",
            " conv4_block3_out (Activati  (None, 16, 16, 1024)         0         ['conv4_block3_add[0][0]']    \n",
            " on)                                                                                              \n",
            "                                                                                                  \n",
            " conv4_block4_1_conv (Conv2  (None, 16, 16, 256)          262400    ['conv4_block3_out[0][0]']    \n",
            " D)                                                                                               \n",
            "                                                                                                  \n",
            " conv4_block4_1_bn (BatchNo  (None, 16, 16, 256)          1024      ['conv4_block4_1_conv[0][0]'] \n",
            " rmalization)                                                                                     \n",
            "                                                                                                  \n",
            " conv4_block4_1_relu (Activ  (None, 16, 16, 256)          0         ['conv4_block4_1_bn[0][0]']   \n",
            " ation)                                                                                           \n",
            "                                                                                                  \n",
            " conv4_block4_2_conv (Conv2  (None, 16, 16, 256)          590080    ['conv4_block4_1_relu[0][0]'] \n",
            " D)                                                                                               \n",
            "                                                                                                  \n",
            " conv4_block4_2_bn (BatchNo  (None, 16, 16, 256)          1024      ['conv4_block4_2_conv[0][0]'] \n",
            " rmalization)                                                                                     \n",
            "                                                                                                  \n",
            " conv4_block4_2_relu (Activ  (None, 16, 16, 256)          0         ['conv4_block4_2_bn[0][0]']   \n",
            " ation)                                                                                           \n",
            "                                                                                                  \n",
            " conv4_block4_3_conv (Conv2  (None, 16, 16, 1024)         263168    ['conv4_block4_2_relu[0][0]'] \n",
            " D)                                                                                               \n",
            "                                                                                                  \n",
            " conv4_block4_3_bn (BatchNo  (None, 16, 16, 1024)         4096      ['conv4_block4_3_conv[0][0]'] \n",
            " rmalization)                                                                                     \n",
            "                                                                                                  \n",
            " conv4_block4_add (Add)      (None, 16, 16, 1024)         0         ['conv4_block3_out[0][0]',    \n",
            "                                                                     'conv4_block4_3_bn[0][0]']   \n",
            "                                                                                                  \n",
            " conv4_block4_out (Activati  (None, 16, 16, 1024)         0         ['conv4_block4_add[0][0]']    \n",
            " on)                                                                                              \n",
            "                                                                                                  \n",
            " conv4_block5_1_conv (Conv2  (None, 16, 16, 256)          262400    ['conv4_block4_out[0][0]']    \n",
            " D)                                                                                               \n",
            "                                                                                                  \n",
            " conv4_block5_1_bn (BatchNo  (None, 16, 16, 256)          1024      ['conv4_block5_1_conv[0][0]'] \n",
            " rmalization)                                                                                     \n",
            "                                                                                                  \n",
            " conv4_block5_1_relu (Activ  (None, 16, 16, 256)          0         ['conv4_block5_1_bn[0][0]']   \n",
            " ation)                                                                                           \n",
            "                                                                                                  \n",
            " conv4_block5_2_conv (Conv2  (None, 16, 16, 256)          590080    ['conv4_block5_1_relu[0][0]'] \n",
            " D)                                                                                               \n",
            "                                                                                                  \n",
            " conv4_block5_2_bn (BatchNo  (None, 16, 16, 256)          1024      ['conv4_block5_2_conv[0][0]'] \n",
            " rmalization)                                                                                     \n",
            "                                                                                                  \n",
            " conv4_block5_2_relu (Activ  (None, 16, 16, 256)          0         ['conv4_block5_2_bn[0][0]']   \n",
            " ation)                                                                                           \n",
            "                                                                                                  \n",
            " conv4_block5_3_conv (Conv2  (None, 16, 16, 1024)         263168    ['conv4_block5_2_relu[0][0]'] \n",
            " D)                                                                                               \n",
            "                                                                                                  \n",
            " conv4_block5_3_bn (BatchNo  (None, 16, 16, 1024)         4096      ['conv4_block5_3_conv[0][0]'] \n",
            " rmalization)                                                                                     \n",
            "                                                                                                  \n",
            " conv4_block5_add (Add)      (None, 16, 16, 1024)         0         ['conv4_block4_out[0][0]',    \n",
            "                                                                     'conv4_block5_3_bn[0][0]']   \n",
            "                                                                                                  \n",
            " conv4_block5_out (Activati  (None, 16, 16, 1024)         0         ['conv4_block5_add[0][0]']    \n",
            " on)                                                                                              \n",
            "                                                                                                  \n",
            " conv4_block6_1_conv (Conv2  (None, 16, 16, 256)          262400    ['conv4_block5_out[0][0]']    \n",
            " D)                                                                                               \n",
            "                                                                                                  \n",
            " conv4_block6_1_bn (BatchNo  (None, 16, 16, 256)          1024      ['conv4_block6_1_conv[0][0]'] \n",
            " rmalization)                                                                                     \n",
            "                                                                                                  \n",
            " conv4_block6_1_relu (Activ  (None, 16, 16, 256)          0         ['conv4_block6_1_bn[0][0]']   \n",
            " ation)                                                                                           \n",
            "                                                                                                  \n",
            " conv4_block6_2_conv (Conv2  (None, 16, 16, 256)          590080    ['conv4_block6_1_relu[0][0]'] \n",
            " D)                                                                                               \n",
            "                                                                                                  \n",
            " conv4_block6_2_bn (BatchNo  (None, 16, 16, 256)          1024      ['conv4_block6_2_conv[0][0]'] \n",
            " rmalization)                                                                                     \n",
            "                                                                                                  \n",
            " conv4_block6_2_relu (Activ  (None, 16, 16, 256)          0         ['conv4_block6_2_bn[0][0]']   \n",
            " ation)                                                                                           \n",
            "                                                                                                  \n",
            " conv4_block6_3_conv (Conv2  (None, 16, 16, 1024)         263168    ['conv4_block6_2_relu[0][0]'] \n",
            " D)                                                                                               \n",
            "                                                                                                  \n",
            " conv4_block6_3_bn (BatchNo  (None, 16, 16, 1024)         4096      ['conv4_block6_3_conv[0][0]'] \n",
            " rmalization)                                                                                     \n",
            "                                                                                                  \n",
            " conv4_block6_add (Add)      (None, 16, 16, 1024)         0         ['conv4_block5_out[0][0]',    \n",
            "                                                                     'conv4_block6_3_bn[0][0]']   \n",
            "                                                                                                  \n",
            " conv4_block6_out (Activati  (None, 16, 16, 1024)         0         ['conv4_block6_add[0][0]']    \n",
            " on)                                                                                              \n",
            "                                                                                                  \n",
            " conv5_block1_1_conv (Conv2  (None, 8, 8, 512)            524800    ['conv4_block6_out[0][0]']    \n",
            " D)                                                                                               \n",
            "                                                                                                  \n",
            " conv5_block1_1_bn (BatchNo  (None, 8, 8, 512)            2048      ['conv5_block1_1_conv[0][0]'] \n",
            " rmalization)                                                                                     \n",
            "                                                                                                  \n",
            " conv5_block1_1_relu (Activ  (None, 8, 8, 512)            0         ['conv5_block1_1_bn[0][0]']   \n",
            " ation)                                                                                           \n",
            "                                                                                                  \n",
            " conv5_block1_2_conv (Conv2  (None, 8, 8, 512)            2359808   ['conv5_block1_1_relu[0][0]'] \n",
            " D)                                                                                               \n",
            "                                                                                                  \n",
            " conv5_block1_2_bn (BatchNo  (None, 8, 8, 512)            2048      ['conv5_block1_2_conv[0][0]'] \n",
            " rmalization)                                                                                     \n",
            "                                                                                                  \n",
            " conv5_block1_2_relu (Activ  (None, 8, 8, 512)            0         ['conv5_block1_2_bn[0][0]']   \n",
            " ation)                                                                                           \n",
            "                                                                                                  \n",
            " conv5_block1_0_conv (Conv2  (None, 8, 8, 2048)           2099200   ['conv4_block6_out[0][0]']    \n",
            " D)                                                                                               \n",
            "                                                                                                  \n",
            " conv5_block1_3_conv (Conv2  (None, 8, 8, 2048)           1050624   ['conv5_block1_2_relu[0][0]'] \n",
            " D)                                                                                               \n",
            "                                                                                                  \n",
            " conv5_block1_0_bn (BatchNo  (None, 8, 8, 2048)           8192      ['conv5_block1_0_conv[0][0]'] \n",
            " rmalization)                                                                                     \n",
            "                                                                                                  \n",
            " conv5_block1_3_bn (BatchNo  (None, 8, 8, 2048)           8192      ['conv5_block1_3_conv[0][0]'] \n",
            " rmalization)                                                                                     \n",
            "                                                                                                  \n",
            " conv5_block1_add (Add)      (None, 8, 8, 2048)           0         ['conv5_block1_0_bn[0][0]',   \n",
            "                                                                     'conv5_block1_3_bn[0][0]']   \n",
            "                                                                                                  \n",
            " conv5_block1_out (Activati  (None, 8, 8, 2048)           0         ['conv5_block1_add[0][0]']    \n",
            " on)                                                                                              \n",
            "                                                                                                  \n",
            " conv5_block2_1_conv (Conv2  (None, 8, 8, 512)            1049088   ['conv5_block1_out[0][0]']    \n",
            " D)                                                                                               \n",
            "                                                                                                  \n",
            " conv5_block2_1_bn (BatchNo  (None, 8, 8, 512)            2048      ['conv5_block2_1_conv[0][0]'] \n",
            " rmalization)                                                                                     \n",
            "                                                                                                  \n",
            " conv5_block2_1_relu (Activ  (None, 8, 8, 512)            0         ['conv5_block2_1_bn[0][0]']   \n",
            " ation)                                                                                           \n",
            "                                                                                                  \n",
            " conv5_block2_2_conv (Conv2  (None, 8, 8, 512)            2359808   ['conv5_block2_1_relu[0][0]'] \n",
            " D)                                                                                               \n",
            "                                                                                                  \n",
            " conv5_block2_2_bn (BatchNo  (None, 8, 8, 512)            2048      ['conv5_block2_2_conv[0][0]'] \n",
            " rmalization)                                                                                     \n",
            "                                                                                                  \n",
            " conv5_block2_2_relu (Activ  (None, 8, 8, 512)            0         ['conv5_block2_2_bn[0][0]']   \n",
            " ation)                                                                                           \n",
            "                                                                                                  \n",
            " conv5_block2_3_conv (Conv2  (None, 8, 8, 2048)           1050624   ['conv5_block2_2_relu[0][0]'] \n",
            " D)                                                                                               \n",
            "                                                                                                  \n",
            " conv5_block2_3_bn (BatchNo  (None, 8, 8, 2048)           8192      ['conv5_block2_3_conv[0][0]'] \n",
            " rmalization)                                                                                     \n",
            "                                                                                                  \n",
            " conv5_block2_add (Add)      (None, 8, 8, 2048)           0         ['conv5_block1_out[0][0]',    \n",
            "                                                                     'conv5_block2_3_bn[0][0]']   \n",
            "                                                                                                  \n",
            " conv5_block2_out (Activati  (None, 8, 8, 2048)           0         ['conv5_block2_add[0][0]']    \n",
            " on)                                                                                              \n",
            "                                                                                                  \n",
            " conv5_block3_1_conv (Conv2  (None, 8, 8, 512)            1049088   ['conv5_block2_out[0][0]']    \n",
            " D)                                                                                               \n",
            "                                                                                                  \n",
            " conv5_block3_1_bn (BatchNo  (None, 8, 8, 512)            2048      ['conv5_block3_1_conv[0][0]'] \n",
            " rmalization)                                                                                     \n",
            "                                                                                                  \n",
            " conv5_block3_1_relu (Activ  (None, 8, 8, 512)            0         ['conv5_block3_1_bn[0][0]']   \n",
            " ation)                                                                                           \n",
            "                                                                                                  \n",
            " conv5_block3_2_conv (Conv2  (None, 8, 8, 512)            2359808   ['conv5_block3_1_relu[0][0]'] \n",
            " D)                                                                                               \n",
            "                                                                                                  \n",
            " conv5_block3_2_bn (BatchNo  (None, 8, 8, 512)            2048      ['conv5_block3_2_conv[0][0]'] \n",
            " rmalization)                                                                                     \n",
            "                                                                                                  \n",
            " conv5_block3_2_relu (Activ  (None, 8, 8, 512)            0         ['conv5_block3_2_bn[0][0]']   \n",
            " ation)                                                                                           \n",
            "                                                                                                  \n",
            " conv5_block3_3_conv (Conv2  (None, 8, 8, 2048)           1050624   ['conv5_block3_2_relu[0][0]'] \n",
            " D)                                                                                               \n",
            "                                                                                                  \n",
            " conv5_block3_3_bn (BatchNo  (None, 8, 8, 2048)           8192      ['conv5_block3_3_conv[0][0]'] \n",
            " rmalization)                                                                                     \n",
            "                                                                                                  \n",
            " conv5_block3_add (Add)      (None, 8, 8, 2048)           0         ['conv5_block2_out[0][0]',    \n",
            "                                                                     'conv5_block3_3_bn[0][0]']   \n",
            "                                                                                                  \n",
            " input_2 (InputLayer)        [(None, 200)]                0         []                            \n",
            "                                                                                                  \n",
            " conv5_block3_out (Activati  (None, 8, 8, 2048)           0         ['conv5_block3_add[0][0]']    \n",
            " on)                                                                                              \n",
            "                                                                                                  \n",
            " embedding (Embedding)       (None, 200, 300)             7419900   ['input_2[0][0]']             \n",
            "                                                                                                  \n",
            " flatten (Flatten)           (None, 131072)               0         ['conv5_block3_out[0][0]']    \n",
            "                                                                                                  \n",
            " bidirectional (Bidirection  (None, 60)                   79440     ['embedding[0][0]']           \n",
            " al)                                                                                              \n",
            "                                                                                                  \n",
            " dense (Dense)               (None, 200)                  2621460   ['flatten[0][0]']             \n",
            "                                                          0                                       \n",
            "                                                                                                  \n",
            " dense_1 (Dense)             (None, 200)                  12200     ['bidirectional[0][0]']       \n",
            "                                                                                                  \n",
            " concatenate_1 (Concatenate  (None, 400)                  0         ['dense[0][0]',               \n",
            " )                                                                   'dense_1[0][0]']             \n",
            "                                                                                                  \n",
            " dropout_1 (Dropout)         (None, 400)                  0         ['concatenate_1[0][0]']       \n",
            "                                                                                                  \n",
            " dense_3 (Dense)             (None, 64)                   25664     ['dropout_1[0][0]']           \n",
            "                                                                                                  \n",
            " dense_4 (Dense)             (None, 1)                    65        ['dense_3[0][0]']             \n",
            "                                                                                                  \n",
            "==================================================================================================\n",
            "Total params: 57339581 (218.73 MB)\n",
            "Trainable params: 49866561 (190.23 MB)\n",
            "Non-trainable params: 7473020 (28.51 MB)\n",
            "__________________________________________________________________________________________________\n"
          ]
        }
      ]
    },
    {
      "cell_type": "code",
      "source": [
        "history_1 = model_1.fit([train_image, train_pad_sequences],\n",
        "          y_train, batch_size=8, epochs=10, validation_split=0.1, callbacks=[checkpoint])"
      ],
      "metadata": {
        "execution": {
          "iopub.status.busy": "2023-10-03T18:14:44.576703Z",
          "iopub.status.idle": "2023-10-03T18:14:44.577503Z",
          "shell.execute_reply.started": "2023-10-03T18:14:44.577265Z",
          "shell.execute_reply": "2023-10-03T18:14:44.577290Z"
        },
        "editable": false,
        "trusted": true,
        "id": "NWtL6TJwIbIV",
        "colab": {
          "base_uri": "https://localhost:8080/"
        },
        "outputId": "15b720cf-5a39-4e99-a853-8281139b5dc0"
      },
      "execution_count": null,
      "outputs": [
        {
          "output_type": "stream",
          "name": "stdout",
          "text": [
            "Epoch 1/10\n",
            "822/822 [==============================] - ETA: 0s - loss: 0.3441 - accuracy: 0.9132\n",
            "Epoch 1: saving model to /content/drive/MyDrive/Graphs/Weights/Models_resnet_1/resnet_lstm_att.h5\n",
            "822/822 [==============================] - 95s 67ms/step - loss: 0.3441 - accuracy: 0.9132 - val_loss: 0.5223 - val_accuracy: 0.8274\n",
            "Epoch 2/10\n",
            "822/822 [==============================] - ETA: 0s - loss: 0.1692 - accuracy: 0.9449\n",
            "Epoch 2: saving model to /content/drive/MyDrive/Graphs/Weights/Models_resnet_1/resnet_lstm_att.h5\n",
            "822/822 [==============================] - 51s 63ms/step - loss: 0.1692 - accuracy: 0.9449 - val_loss: 0.6049 - val_accuracy: 0.8151\n",
            "Epoch 3/10\n",
            "822/822 [==============================] - ETA: 0s - loss: 0.1272 - accuracy: 0.9607\n",
            "Epoch 3: saving model to /content/drive/MyDrive/Graphs/Weights/Models_resnet_1/resnet_lstm_att.h5\n",
            "822/822 [==============================] - 51s 62ms/step - loss: 0.1272 - accuracy: 0.9607 - val_loss: 0.6296 - val_accuracy: 0.8205\n",
            "Epoch 4/10\n",
            "822/822 [==============================] - ETA: 0s - loss: 0.1258 - accuracy: 0.9618\n",
            "Epoch 4: saving model to /content/drive/MyDrive/Graphs/Weights/Models_resnet_1/resnet_lstm_att.h5\n",
            "822/822 [==============================] - 52s 63ms/step - loss: 0.1258 - accuracy: 0.9618 - val_loss: 0.6501 - val_accuracy: 0.8260\n",
            "Epoch 5/10\n",
            "822/822 [==============================] - ETA: 0s - loss: 0.1018 - accuracy: 0.9683\n",
            "Epoch 5: saving model to /content/drive/MyDrive/Graphs/Weights/Models_resnet_1/resnet_lstm_att.h5\n",
            "822/822 [==============================] - 51s 62ms/step - loss: 0.1018 - accuracy: 0.9683 - val_loss: 0.5084 - val_accuracy: 0.8178\n",
            "Epoch 6/10\n",
            "822/822 [==============================] - ETA: 0s - loss: 0.0899 - accuracy: 0.9699\n",
            "Epoch 6: saving model to /content/drive/MyDrive/Graphs/Weights/Models_resnet_1/resnet_lstm_att.h5\n",
            "822/822 [==============================] - 52s 63ms/step - loss: 0.0899 - accuracy: 0.9699 - val_loss: 0.5864 - val_accuracy: 0.8205\n",
            "Epoch 7/10\n",
            "822/822 [==============================] - ETA: 0s - loss: 0.0802 - accuracy: 0.9744\n",
            "Epoch 7: saving model to /content/drive/MyDrive/Graphs/Weights/Models_resnet_1/resnet_lstm_att.h5\n",
            "822/822 [==============================] - 51s 62ms/step - loss: 0.0802 - accuracy: 0.9744 - val_loss: 0.6232 - val_accuracy: 0.8123\n",
            "Epoch 8/10\n",
            "822/822 [==============================] - ETA: 0s - loss: 0.0759 - accuracy: 0.9756\n",
            "Epoch 8: saving model to /content/drive/MyDrive/Graphs/Weights/Models_resnet_1/resnet_lstm_att.h5\n",
            "822/822 [==============================] - 52s 63ms/step - loss: 0.0759 - accuracy: 0.9756 - val_loss: 0.6206 - val_accuracy: 0.8233\n",
            "Epoch 9/10\n",
            "822/822 [==============================] - ETA: 0s - loss: 0.0713 - accuracy: 0.9785\n",
            "Epoch 9: saving model to /content/drive/MyDrive/Graphs/Weights/Models_resnet_1/resnet_lstm_att.h5\n",
            "822/822 [==============================] - 51s 62ms/step - loss: 0.0713 - accuracy: 0.9785 - val_loss: 0.6329 - val_accuracy: 0.8301\n",
            "Epoch 10/10\n",
            "822/822 [==============================] - ETA: 0s - loss: 0.0845 - accuracy: 0.9782\n",
            "Epoch 10: saving model to /content/drive/MyDrive/Graphs/Weights/Models_resnet_1/resnet_lstm_att.h5\n",
            "822/822 [==============================] - 51s 62ms/step - loss: 0.0845 - accuracy: 0.9782 - val_loss: 0.7095 - val_accuracy: 0.8247\n"
          ]
        }
      ]
    },
    {
      "cell_type": "code",
      "source": [
        "loss_train = history_1.history['loss']\n",
        "loss_val = history_1.history['val_loss']\n",
        "epochs = range(1,11)\n",
        "plt.plot(epochs, loss_train, 'g', label='Training loss')\n",
        "plt.plot(epochs, loss_val, 'b', label='validation loss')\n",
        "plt.title('Training and Validation loss LSTM+RESNET')\n",
        "plt.xlabel('Epochs')\n",
        "plt.ylabel('Loss')\n",
        "plt.legend()\n",
        "plt.savefig(\"/content/drive/MyDrive/Graphs/Plots/\"+\"train_val_loss_resnet.png\")\n",
        "plt.show()"
      ],
      "metadata": {
        "editable": false,
        "id": "JY7TBViKIbIV",
        "colab": {
          "base_uri": "https://localhost:8080/",
          "height": 472
        },
        "outputId": "d37b48f9-87c2-4164-fea2-39f7937475bc"
      },
      "execution_count": null,
      "outputs": [
        {
          "output_type": "display_data",
          "data": {
            "text/plain": [
              "<Figure size 640x480 with 1 Axes>"
            ],
            "image/png": "[encoded data removed]"
          },
          "metadata": {}
        }
      ]
    },
    {
      "cell_type": "code",
      "source": [
        "acc_train = history_1.history['accuracy']\n",
        "acc_val = history_1.history['val_accuracy']\n",
        "epochs = range(1,11)\n",
        "plt.plot(epochs, acc_train, 'g', label='Training accuracy')\n",
        "plt.plot(epochs, acc_val, 'b', label='validation accuracy')\n",
        "plt.title('Training and Validation accuracy LSTM+RESNET')\n",
        "plt.xlabel('Epochs')\n",
        "plt.ylabel('Accuracy')\n",
        "plt.legend()\n",
        "plt.savefig(\"/content/drive/MyDrive/Graphs/Plots/\"+\"train_val_accuracy_resnet.png\")\n",
        "plt.show()"
      ],
      "metadata": {
        "editable": false,
        "id": "1bC_pBYGIbIV",
        "colab": {
          "base_uri": "https://localhost:8080/",
          "height": 472
        },
        "outputId": "e816014c-6c1b-4188-9cba-500553943bb3"
      },
      "execution_count": null,
      "outputs": [
        {
          "output_type": "display_data",
          "data": {
            "text/plain": [
              "<Figure size 640x480 with 1 Axes>"
            ],
            "image/png": "[encoded data removed]"
          },
          "metadata": {}
        }
      ]
    },
    {
      "cell_type": "code",
      "source": [
        "folder_path = '/content/drive/MyDrive/Graphs/Weights/'"
      ],
      "metadata": {
        "id": "A7_xyb2_AyYN"
      },
      "execution_count": null,
      "outputs": []
    },
    {
      "cell_type": "code",
      "source": [
        "model_1.load_weights(folder_path+'Models_resnet_1/'+'resnet_lstm_att.h5')\n",
        "y_pred = np.argmax(model_1.predict([test_image,test_pad_sequences]), axis=-1)\n",
        "print_metrices(y_test, y_pred)"
      ],
      "metadata": {
        "colab": {
          "base_uri": "https://localhost:8080/"
        },
        "id": "qjZnXZRSwsnl",
        "outputId": "eb7f323e-5624-4376-ef7b-0a1293933d8e"
      },
      "execution_count": null,
      "outputs": [
        {
          "output_type": "stream",
          "name": "stdout",
          "text": [
            "57/57 [==============================] - 6s 106ms/step\n",
            "Precision:  0.667378514193077\n",
            "Recall:  0.816932380428807\n",
            "F1:  0.7346211905096564\n"
          ]
        }
      ]
    },
    {
      "cell_type": "markdown",
      "source": [
        "#LSTM + Inception"
      ],
      "metadata": {
        "id": "PFTP9JsdNhdV"
      }
    },
    {
      "cell_type": "code",
      "source": [
        "def create_lstm_inception_model():\n",
        "  keras.backend.clear_session()\n",
        "  # create the base pre-trained model\n",
        "  inception = keras.applications.InceptionV3(weights='imagenet', include_top=False,input_shape=(256, 256, 3))\n",
        "# for layer in inception.layers[0:-10]:\n",
        "#     layer.trainable = False\n",
        "  # add a global spatial average pooling layer\n",
        "  x = inception.output\n",
        " # pool = GlobalAveragePooling2D()(x)\n",
        "  # this is the model we will train\n",
        "  flat = Flatten()(x)\n",
        "  # and a logistic layer -- let's say we have 200 classes\n",
        "  hidden2 = Dense(200, activation='relu')(flat)\n",
        "  # this is the model we will train\n",
        "  inception_img_model = Model(inputs=inception.input, outputs=hidden2)\n",
        "\n",
        "   # Text Model\n",
        "\n",
        "  bi_text_inputs = Input(shape=(200,))\n",
        "  bi_embedding_layer = Embedding(vocab_size,300, trainable=False)(bi_text_inputs)\n",
        "  LSTM_Layer_1 = Bidirectional(LSTM(30))(bi_embedding_layer)\n",
        " # LSTM_Layer_2 = Bidirectional(LSTM(30))(LSTM_Layer_1)\n",
        "\n",
        "  bi_dense_layer_1 = Dense(200, activation='relu')(LSTM_Layer_1)\n",
        "  bilstm_model = Model(inputs=bi_text_inputs, outputs=bi_dense_layer_1)\n",
        "\n",
        "\n",
        "   # Concatenating the output of 2 classifiers\n",
        "  con_layer = keras.layers.concatenate([inception_img_model.output, bilstm_model.output])\n",
        "  dropout = Dropout(0.2)(con_layer)\n",
        "  out = Dense(1,activation='sigmoid')(dropout)\n",
        "\n",
        "  #Defining model input and output\n",
        "  com_model = Model(inputs = [inception_img_model.input, bilstm_model.input], outputs=out)\n",
        "\n",
        "\n",
        "      # Concatenating the output of 2 classifiers\n",
        "  con_layer = keras.layers.concatenate([inception_img_model.output, bilstm_model.output])\n",
        "  dropout = Dropout(0.2)(con_layer)\n",
        "  final_dense = Dense(64, activation=\"relu\")(dropout)\n",
        "  out = Dense(1,activation='sigmoid')(final_dense)\n",
        "\n",
        "  #Defining model input and output\n",
        "  com_model = Model(inputs = [inception_img_model.input, bilstm_model.input], outputs=out)\n",
        "\n",
        "  return com_model\n",
        "\n",
        "\n"
      ],
      "metadata": {
        "id": "Nrz0X0YDNg7V"
      },
      "execution_count": null,
      "outputs": []
    },
    {
      "cell_type": "code",
      "source": [
        "filepath = '/content/drive/MyDrive/Graphs/Weights/'+ 'Models_incpetion_1/'+ 'inception_lstm_att.h5'\n",
        "checkpoint = keras.callbacks.ModelCheckpoint(filepath, monitor='val_accuracy', verbose=2,\n",
        "                                             save_weights_only=True, mode='max' )"
      ],
      "metadata": {
        "id": "GsWYlngPNfTF"
      },
      "execution_count": null,
      "outputs": []
    },
    {
      "cell_type": "code",
      "source": [
        "model_2 = create_lstm_inception_model()\n",
        "model_2.summary()"
      ],
      "metadata": {
        "colab": {
          "base_uri": "https://localhost:8080/"
        },
        "id": "SO718_K5O9Pl",
        "outputId": "b2043ac3-9963-4390-d9ad-f8aa4f8641e1"
      },
      "execution_count": null,
      "outputs": [
        {
          "output_type": "stream",
          "name": "stdout",
          "text": [
            "Downloading data from https://storage.googleapis.com/tensorflow/keras-applications/inception_v3/inception_v3_weights_tf_dim_ordering_tf_kernels_notop.h5\n",
            "87910968/87910968 [==============================] - 1s 0us/step\n",
            "Model: \"model_3\"\n",
            "__________________________________________________________________________________________________\n",
            " Layer (type)                Output Shape                 Param #   Connected to                  \n",
            "==================================================================================================\n",
            " input_1 (InputLayer)        [(None, 256, 256, 3)]        0         []                            \n",
            "                                                                                                  \n",
            " conv2d (Conv2D)             (None, 127, 127, 32)         864       ['input_1[0][0]']             \n",
            "                                                                                                  \n",
            " batch_normalization (Batch  (None, 127, 127, 32)         96        ['conv2d[0][0]']              \n",
            " Normalization)                                                                                   \n",
            "                                                                                                  \n",
            " activation (Activation)     (None, 127, 127, 32)         0         ['batch_normalization[0][0]'] \n",
            "                                                                                                  \n",
            " conv2d_1 (Conv2D)           (None, 125, 125, 32)         9216      ['activation[0][0]']          \n",
            "                                                                                                  \n",
            " batch_normalization_1 (Bat  (None, 125, 125, 32)         96        ['conv2d_1[0][0]']            \n",
            " chNormalization)                                                                                 \n",
            "                                                                                                  \n",
            " activation_1 (Activation)   (None, 125, 125, 32)         0         ['batch_normalization_1[0][0]'\n",
            "                                                                    ]                             \n",
            "                                                                                                  \n",
            " conv2d_2 (Conv2D)           (None, 125, 125, 64)         18432     ['activation_1[0][0]']        \n",
            "                                                                                                  \n",
            " batch_normalization_2 (Bat  (None, 125, 125, 64)         192       ['conv2d_2[0][0]']            \n",
            " chNormalization)                                                                                 \n",
            "                                                                                                  \n",
            " activation_2 (Activation)   (None, 125, 125, 64)         0         ['batch_normalization_2[0][0]'\n",
            "                                                                    ]                             \n",
            "                                                                                                  \n",
            " max_pooling2d (MaxPooling2  (None, 62, 62, 64)           0         ['activation_2[0][0]']        \n",
            " D)                                                                                               \n",
            "                                                                                                  \n",
            " conv2d_3 (Conv2D)           (None, 62, 62, 80)           5120      ['max_pooling2d[0][0]']       \n",
            "                                                                                                  \n",
            " batch_normalization_3 (Bat  (None, 62, 62, 80)           240       ['conv2d_3[0][0]']            \n",
            " chNormalization)                                                                                 \n",
            "                                                                                                  \n",
            " activation_3 (Activation)   (None, 62, 62, 80)           0         ['batch_normalization_3[0][0]'\n",
            "                                                                    ]                             \n",
            "                                                                                                  \n",
            " conv2d_4 (Conv2D)           (None, 60, 60, 192)          138240    ['activation_3[0][0]']        \n",
            "                                                                                                  \n",
            " batch_normalization_4 (Bat  (None, 60, 60, 192)          576       ['conv2d_4[0][0]']            \n",
            " chNormalization)                                                                                 \n",
            "                                                                                                  \n",
            " activation_4 (Activation)   (None, 60, 60, 192)          0         ['batch_normalization_4[0][0]'\n",
            "                                                                    ]                             \n",
            "                                                                                                  \n",
            " max_pooling2d_1 (MaxPoolin  (None, 29, 29, 192)          0         ['activation_4[0][0]']        \n",
            " g2D)                                                                                             \n",
            "                                                                                                  \n",
            " conv2d_8 (Conv2D)           (None, 29, 29, 64)           12288     ['max_pooling2d_1[0][0]']     \n",
            "                                                                                                  \n",
            " batch_normalization_8 (Bat  (None, 29, 29, 64)           192       ['conv2d_8[0][0]']            \n",
            " chNormalization)                                                                                 \n",
            "                                                                                                  \n",
            " activation_8 (Activation)   (None, 29, 29, 64)           0         ['batch_normalization_8[0][0]'\n",
            "                                                                    ]                             \n",
            "                                                                                                  \n",
            " conv2d_6 (Conv2D)           (None, 29, 29, 48)           9216      ['max_pooling2d_1[0][0]']     \n",
            "                                                                                                  \n",
            " conv2d_9 (Conv2D)           (None, 29, 29, 96)           55296     ['activation_8[0][0]']        \n",
            "                                                                                                  \n",
            " batch_normalization_6 (Bat  (None, 29, 29, 48)           144       ['conv2d_6[0][0]']            \n",
            " chNormalization)                                                                                 \n",
            "                                                                                                  \n",
            " batch_normalization_9 (Bat  (None, 29, 29, 96)           288       ['conv2d_9[0][0]']            \n",
            " chNormalization)                                                                                 \n",
            "                                                                                                  \n",
            " activation_6 (Activation)   (None, 29, 29, 48)           0         ['batch_normalization_6[0][0]'\n",
            "                                                                    ]                             \n",
            "                                                                                                  \n",
            " activation_9 (Activation)   (None, 29, 29, 96)           0         ['batch_normalization_9[0][0]'\n",
            "                                                                    ]                             \n",
            "                                                                                                  \n",
            " average_pooling2d (Average  (None, 29, 29, 192)          0         ['max_pooling2d_1[0][0]']     \n",
            " Pooling2D)                                                                                       \n",
            "                                                                                                  \n",
            " conv2d_5 (Conv2D)           (None, 29, 29, 64)           12288     ['max_pooling2d_1[0][0]']     \n",
            "                                                                                                  \n",
            " conv2d_7 (Conv2D)           (None, 29, 29, 64)           76800     ['activation_6[0][0]']        \n",
            "                                                                                                  \n",
            " conv2d_10 (Conv2D)          (None, 29, 29, 96)           82944     ['activation_9[0][0]']        \n",
            "                                                                                                  \n",
            " conv2d_11 (Conv2D)          (None, 29, 29, 32)           6144      ['average_pooling2d[0][0]']   \n",
            "                                                                                                  \n",
            " batch_normalization_5 (Bat  (None, 29, 29, 64)           192       ['conv2d_5[0][0]']            \n",
            " chNormalization)                                                                                 \n",
            "                                                                                                  \n",
            " batch_normalization_7 (Bat  (None, 29, 29, 64)           192       ['conv2d_7[0][0]']            \n",
            " chNormalization)                                                                                 \n",
            "                                                                                                  \n",
            " batch_normalization_10 (Ba  (None, 29, 29, 96)           288       ['conv2d_10[0][0]']           \n",
            " tchNormalization)                                                                                \n",
            "                                                                                                  \n",
            " batch_normalization_11 (Ba  (None, 29, 29, 32)           96        ['conv2d_11[0][0]']           \n",
            " tchNormalization)                                                                                \n",
            "                                                                                                  \n",
            " activation_5 (Activation)   (None, 29, 29, 64)           0         ['batch_normalization_5[0][0]'\n",
            "                                                                    ]                             \n",
            "                                                                                                  \n",
            " activation_7 (Activation)   (None, 29, 29, 64)           0         ['batch_normalization_7[0][0]'\n",
            "                                                                    ]                             \n",
            "                                                                                                  \n",
            " activation_10 (Activation)  (None, 29, 29, 96)           0         ['batch_normalization_10[0][0]\n",
            "                                                                    ']                            \n",
            "                                                                                                  \n",
            " activation_11 (Activation)  (None, 29, 29, 32)           0         ['batch_normalization_11[0][0]\n",
            "                                                                    ']                            \n",
            "                                                                                                  \n",
            " mixed0 (Concatenate)        (None, 29, 29, 256)          0         ['activation_5[0][0]',        \n",
            "                                                                     'activation_7[0][0]',        \n",
            "                                                                     'activation_10[0][0]',       \n",
            "                                                                     'activation_11[0][0]']       \n",
            "                                                                                                  \n",
            " conv2d_15 (Conv2D)          (None, 29, 29, 64)           16384     ['mixed0[0][0]']              \n",
            "                                                                                                  \n",
            " batch_normalization_15 (Ba  (None, 29, 29, 64)           192       ['conv2d_15[0][0]']           \n",
            " tchNormalization)                                                                                \n",
            "                                                                                                  \n",
            " activation_15 (Activation)  (None, 29, 29, 64)           0         ['batch_normalization_15[0][0]\n",
            "                                                                    ']                            \n",
            "                                                                                                  \n",
            " conv2d_13 (Conv2D)          (None, 29, 29, 48)           12288     ['mixed0[0][0]']              \n",
            "                                                                                                  \n",
            " conv2d_16 (Conv2D)          (None, 29, 29, 96)           55296     ['activation_15[0][0]']       \n",
            "                                                                                                  \n",
            " batch_normalization_13 (Ba  (None, 29, 29, 48)           144       ['conv2d_13[0][0]']           \n",
            " tchNormalization)                                                                                \n",
            "                                                                                                  \n",
            " batch_normalization_16 (Ba  (None, 29, 29, 96)           288       ['conv2d_16[0][0]']           \n",
            " tchNormalization)                                                                                \n",
            "                                                                                                  \n",
            " activation_13 (Activation)  (None, 29, 29, 48)           0         ['batch_normalization_13[0][0]\n",
            "                                                                    ']                            \n",
            "                                                                                                  \n",
            " activation_16 (Activation)  (None, 29, 29, 96)           0         ['batch_normalization_16[0][0]\n",
            "                                                                    ']                            \n",
            "                                                                                                  \n",
            " average_pooling2d_1 (Avera  (None, 29, 29, 256)          0         ['mixed0[0][0]']              \n",
            " gePooling2D)                                                                                     \n",
            "                                                                                                  \n",
            " conv2d_12 (Conv2D)          (None, 29, 29, 64)           16384     ['mixed0[0][0]']              \n",
            "                                                                                                  \n",
            " conv2d_14 (Conv2D)          (None, 29, 29, 64)           76800     ['activation_13[0][0]']       \n",
            "                                                                                                  \n",
            " conv2d_17 (Conv2D)          (None, 29, 29, 96)           82944     ['activation_16[0][0]']       \n",
            "                                                                                                  \n",
            " conv2d_18 (Conv2D)          (None, 29, 29, 64)           16384     ['average_pooling2d_1[0][0]'] \n",
            "                                                                                                  \n",
            " batch_normalization_12 (Ba  (None, 29, 29, 64)           192       ['conv2d_12[0][0]']           \n",
            " tchNormalization)                                                                                \n",
            "                                                                                                  \n",
            " batch_normalization_14 (Ba  (None, 29, 29, 64)           192       ['conv2d_14[0][0]']           \n",
            " tchNormalization)                                                                                \n",
            "                                                                                                  \n",
            " batch_normalization_17 (Ba  (None, 29, 29, 96)           288       ['conv2d_17[0][0]']           \n",
            " tchNormalization)                                                                                \n",
            "                                                                                                  \n",
            " batch_normalization_18 (Ba  (None, 29, 29, 64)           192       ['conv2d_18[0][0]']           \n",
            " tchNormalization)                                                                                \n",
            "                                                                                                  \n",
            " activation_12 (Activation)  (None, 29, 29, 64)           0         ['batch_normalization_12[0][0]\n",
            "                                                                    ']                            \n",
            "                                                                                                  \n",
            " activation_14 (Activation)  (None, 29, 29, 64)           0         ['batch_normalization_14[0][0]\n",
            "                                                                    ']                            \n",
            "                                                                                                  \n",
            " activation_17 (Activation)  (None, 29, 29, 96)           0         ['batch_normalization_17[0][0]\n",
            "                                                                    ']                            \n",
            "                                                                                                  \n",
            " activation_18 (Activation)  (None, 29, 29, 64)           0         ['batch_normalization_18[0][0]\n",
            "                                                                    ']                            \n",
            "                                                                                                  \n",
            " mixed1 (Concatenate)        (None, 29, 29, 288)          0         ['activation_12[0][0]',       \n",
            "                                                                     'activation_14[0][0]',       \n",
            "                                                                     'activation_17[0][0]',       \n",
            "                                                                     'activation_18[0][0]']       \n",
            "                                                                                                  \n",
            " conv2d_22 (Conv2D)          (None, 29, 29, 64)           18432     ['mixed1[0][0]']              \n",
            "                                                                                                  \n",
            " batch_normalization_22 (Ba  (None, 29, 29, 64)           192       ['conv2d_22[0][0]']           \n",
            " tchNormalization)                                                                                \n",
            "                                                                                                  \n",
            " activation_22 (Activation)  (None, 29, 29, 64)           0         ['batch_normalization_22[0][0]\n",
            "                                                                    ']                            \n",
            "                                                                                                  \n",
            " conv2d_20 (Conv2D)          (None, 29, 29, 48)           13824     ['mixed1[0][0]']              \n",
            "                                                                                                  \n",
            " conv2d_23 (Conv2D)          (None, 29, 29, 96)           55296     ['activation_22[0][0]']       \n",
            "                                                                                                  \n",
            " batch_normalization_20 (Ba  (None, 29, 29, 48)           144       ['conv2d_20[0][0]']           \n",
            " tchNormalization)                                                                                \n",
            "                                                                                                  \n",
            " batch_normalization_23 (Ba  (None, 29, 29, 96)           288       ['conv2d_23[0][0]']           \n",
            " tchNormalization)                                                                                \n",
            "                                                                                                  \n",
            " activation_20 (Activation)  (None, 29, 29, 48)           0         ['batch_normalization_20[0][0]\n",
            "                                                                    ']                            \n",
            "                                                                                                  \n",
            " activation_23 (Activation)  (None, 29, 29, 96)           0         ['batch_normalization_23[0][0]\n",
            "                                                                    ']                            \n",
            "                                                                                                  \n",
            " average_pooling2d_2 (Avera  (None, 29, 29, 288)          0         ['mixed1[0][0]']              \n",
            " gePooling2D)                                                                                     \n",
            "                                                                                                  \n",
            " conv2d_19 (Conv2D)          (None, 29, 29, 64)           18432     ['mixed1[0][0]']              \n",
            "                                                                                                  \n",
            " conv2d_21 (Conv2D)          (None, 29, 29, 64)           76800     ['activation_20[0][0]']       \n",
            "                                                                                                  \n",
            " conv2d_24 (Conv2D)          (None, 29, 29, 96)           82944     ['activation_23[0][0]']       \n",
            "                                                                                                  \n",
            " conv2d_25 (Conv2D)          (None, 29, 29, 64)           18432     ['average_pooling2d_2[0][0]'] \n",
            "                                                                                                  \n",
            " batch_normalization_19 (Ba  (None, 29, 29, 64)           192       ['conv2d_19[0][0]']           \n",
            " tchNormalization)                                                                                \n",
            "                                                                                                  \n",
            " batch_normalization_21 (Ba  (None, 29, 29, 64)           192       ['conv2d_21[0][0]']           \n",
            " tchNormalization)                                                                                \n",
            "                                                                                                  \n",
            " batch_normalization_24 (Ba  (None, 29, 29, 96)           288       ['conv2d_24[0][0]']           \n",
            " tchNormalization)                                                                                \n",
            "                                                                                                  \n",
            " batch_normalization_25 (Ba  (None, 29, 29, 64)           192       ['conv2d_25[0][0]']           \n",
            " tchNormalization)                                                                                \n",
            "                                                                                                  \n",
            " activation_19 (Activation)  (None, 29, 29, 64)           0         ['batch_normalization_19[0][0]\n",
            "                                                                    ']                            \n",
            "                                                                                                  \n",
            " activation_21 (Activation)  (None, 29, 29, 64)           0         ['batch_normalization_21[0][0]\n",
            "                                                                    ']                            \n",
            "                                                                                                  \n",
            " activation_24 (Activation)  (None, 29, 29, 96)           0         ['batch_normalization_24[0][0]\n",
            "                                                                    ']                            \n",
            "                                                                                                  \n",
            " activation_25 (Activation)  (None, 29, 29, 64)           0         ['batch_normalization_25[0][0]\n",
            "                                                                    ']                            \n",
            "                                                                                                  \n",
            " mixed2 (Concatenate)        (None, 29, 29, 288)          0         ['activation_19[0][0]',       \n",
            "                                                                     'activation_21[0][0]',       \n",
            "                                                                     'activation_24[0][0]',       \n",
            "                                                                     'activation_25[0][0]']       \n",
            "                                                                                                  \n",
            " conv2d_27 (Conv2D)          (None, 29, 29, 64)           18432     ['mixed2[0][0]']              \n",
            "                                                                                                  \n",
            " batch_normalization_27 (Ba  (None, 29, 29, 64)           192       ['conv2d_27[0][0]']           \n",
            " tchNormalization)                                                                                \n",
            "                                                                                                  \n",
            " activation_27 (Activation)  (None, 29, 29, 64)           0         ['batch_normalization_27[0][0]\n",
            "                                                                    ']                            \n",
            "                                                                                                  \n",
            " conv2d_28 (Conv2D)          (None, 29, 29, 96)           55296     ['activation_27[0][0]']       \n",
            "                                                                                                  \n",
            " batch_normalization_28 (Ba  (None, 29, 29, 96)           288       ['conv2d_28[0][0]']           \n",
            " tchNormalization)                                                                                \n",
            "                                                                                                  \n",
            " activation_28 (Activation)  (None, 29, 29, 96)           0         ['batch_normalization_28[0][0]\n",
            "                                                                    ']                            \n",
            "                                                                                                  \n",
            " conv2d_26 (Conv2D)          (None, 14, 14, 384)          995328    ['mixed2[0][0]']              \n",
            "                                                                                                  \n",
            " conv2d_29 (Conv2D)          (None, 14, 14, 96)           82944     ['activation_28[0][0]']       \n",
            "                                                                                                  \n",
            " batch_normalization_26 (Ba  (None, 14, 14, 384)          1152      ['conv2d_26[0][0]']           \n",
            " tchNormalization)                                                                                \n",
            "                                                                                                  \n",
            " batch_normalization_29 (Ba  (None, 14, 14, 96)           288       ['conv2d_29[0][0]']           \n",
            " tchNormalization)                                                                                \n",
            "                                                                                                  \n",
            " activation_26 (Activation)  (None, 14, 14, 384)          0         ['batch_normalization_26[0][0]\n",
            "                                                                    ']                            \n",
            "                                                                                                  \n",
            " activation_29 (Activation)  (None, 14, 14, 96)           0         ['batch_normalization_29[0][0]\n",
            "                                                                    ']                            \n",
            "                                                                                                  \n",
            " max_pooling2d_2 (MaxPoolin  (None, 14, 14, 288)          0         ['mixed2[0][0]']              \n",
            " g2D)                                                                                             \n",
            "                                                                                                  \n",
            " mixed3 (Concatenate)        (None, 14, 14, 768)          0         ['activation_26[0][0]',       \n",
            "                                                                     'activation_29[0][0]',       \n",
            "                                                                     'max_pooling2d_2[0][0]']     \n",
            "                                                                                                  \n",
            " conv2d_34 (Conv2D)          (None, 14, 14, 128)          98304     ['mixed3[0][0]']              \n",
            "                                                                                                  \n",
            " batch_normalization_34 (Ba  (None, 14, 14, 128)          384       ['conv2d_34[0][0]']           \n",
            " tchNormalization)                                                                                \n",
            "                                                                                                  \n",
            " activation_34 (Activation)  (None, 14, 14, 128)          0         ['batch_normalization_34[0][0]\n",
            "                                                                    ']                            \n",
            "                                                                                                  \n",
            " conv2d_35 (Conv2D)          (None, 14, 14, 128)          114688    ['activation_34[0][0]']       \n",
            "                                                                                                  \n",
            " batch_normalization_35 (Ba  (None, 14, 14, 128)          384       ['conv2d_35[0][0]']           \n",
            " tchNormalization)                                                                                \n",
            "                                                                                                  \n",
            " activation_35 (Activation)  (None, 14, 14, 128)          0         ['batch_normalization_35[0][0]\n",
            "                                                                    ']                            \n",
            "                                                                                                  \n",
            " conv2d_31 (Conv2D)          (None, 14, 14, 128)          98304     ['mixed3[0][0]']              \n",
            "                                                                                                  \n",
            " conv2d_36 (Conv2D)          (None, 14, 14, 128)          114688    ['activation_35[0][0]']       \n",
            "                                                                                                  \n",
            " batch_normalization_31 (Ba  (None, 14, 14, 128)          384       ['conv2d_31[0][0]']           \n",
            " tchNormalization)                                                                                \n",
            "                                                                                                  \n",
            " batch_normalization_36 (Ba  (None, 14, 14, 128)          384       ['conv2d_36[0][0]']           \n",
            " tchNormalization)                                                                                \n",
            "                                                                                                  \n",
            " activation_31 (Activation)  (None, 14, 14, 128)          0         ['batch_normalization_31[0][0]\n",
            "                                                                    ']                            \n",
            "                                                                                                  \n",
            " activation_36 (Activation)  (None, 14, 14, 128)          0         ['batch_normalization_36[0][0]\n",
            "                                                                    ']                            \n",
            "                                                                                                  \n",
            " conv2d_32 (Conv2D)          (None, 14, 14, 128)          114688    ['activation_31[0][0]']       \n",
            "                                                                                                  \n",
            " conv2d_37 (Conv2D)          (None, 14, 14, 128)          114688    ['activation_36[0][0]']       \n",
            "                                                                                                  \n",
            " batch_normalization_32 (Ba  (None, 14, 14, 128)          384       ['conv2d_32[0][0]']           \n",
            " tchNormalization)                                                                                \n",
            "                                                                                                  \n",
            " batch_normalization_37 (Ba  (None, 14, 14, 128)          384       ['conv2d_37[0][0]']           \n",
            " tchNormalization)                                                                                \n",
            "                                                                                                  \n",
            " activation_32 (Activation)  (None, 14, 14, 128)          0         ['batch_normalization_32[0][0]\n",
            "                                                                    ']                            \n",
            "                                                                                                  \n",
            " activation_37 (Activation)  (None, 14, 14, 128)          0         ['batch_normalization_37[0][0]\n",
            "                                                                    ']                            \n",
            "                                                                                                  \n",
            " average_pooling2d_3 (Avera  (None, 14, 14, 768)          0         ['mixed3[0][0]']              \n",
            " gePooling2D)                                                                                     \n",
            "                                                                                                  \n",
            " conv2d_30 (Conv2D)          (None, 14, 14, 192)          147456    ['mixed3[0][0]']              \n",
            "                                                                                                  \n",
            " conv2d_33 (Conv2D)          (None, 14, 14, 192)          172032    ['activation_32[0][0]']       \n",
            "                                                                                                  \n",
            " conv2d_38 (Conv2D)          (None, 14, 14, 192)          172032    ['activation_37[0][0]']       \n",
            "                                                                                                  \n",
            " conv2d_39 (Conv2D)          (None, 14, 14, 192)          147456    ['average_pooling2d_3[0][0]'] \n",
            "                                                                                                  \n",
            " batch_normalization_30 (Ba  (None, 14, 14, 192)          576       ['conv2d_30[0][0]']           \n",
            " tchNormalization)                                                                                \n",
            "                                                                                                  \n",
            " batch_normalization_33 (Ba  (None, 14, 14, 192)          576       ['conv2d_33[0][0]']           \n",
            " tchNormalization)                                                                                \n",
            "                                                                                                  \n",
            " batch_normalization_38 (Ba  (None, 14, 14, 192)          576       ['conv2d_38[0][0]']           \n",
            " tchNormalization)                                                                                \n",
            "                                                                                                  \n",
            " batch_normalization_39 (Ba  (None, 14, 14, 192)          576       ['conv2d_39[0][0]']           \n",
            " tchNormalization)                                                                                \n",
            "                                                                                                  \n",
            " activation_30 (Activation)  (None, 14, 14, 192)          0         ['batch_normalization_30[0][0]\n",
            "                                                                    ']                            \n",
            "                                                                                                  \n",
            " activation_33 (Activation)  (None, 14, 14, 192)          0         ['batch_normalization_33[0][0]\n",
            "                                                                    ']                            \n",
            "                                                                                                  \n",
            " activation_38 (Activation)  (None, 14, 14, 192)          0         ['batch_normalization_38[0][0]\n",
            "                                                                    ']                            \n",
            "                                                                                                  \n",
            " activation_39 (Activation)  (None, 14, 14, 192)          0         ['batch_normalization_39[0][0]\n",
            "                                                                    ']                            \n",
            "                                                                                                  \n",
            " mixed4 (Concatenate)        (None, 14, 14, 768)          0         ['activation_30[0][0]',       \n",
            "                                                                     'activation_33[0][0]',       \n",
            "                                                                     'activation_38[0][0]',       \n",
            "                                                                     'activation_39[0][0]']       \n",
            "                                                                                                  \n",
            " conv2d_44 (Conv2D)          (None, 14, 14, 160)          122880    ['mixed4[0][0]']              \n",
            "                                                                                                  \n",
            " batch_normalization_44 (Ba  (None, 14, 14, 160)          480       ['conv2d_44[0][0]']           \n",
            " tchNormalization)                                                                                \n",
            "                                                                                                  \n",
            " activation_44 (Activation)  (None, 14, 14, 160)          0         ['batch_normalization_44[0][0]\n",
            "                                                                    ']                            \n",
            "                                                                                                  \n",
            " conv2d_45 (Conv2D)          (None, 14, 14, 160)          179200    ['activation_44[0][0]']       \n",
            "                                                                                                  \n",
            " batch_normalization_45 (Ba  (None, 14, 14, 160)          480       ['conv2d_45[0][0]']           \n",
            " tchNormalization)                                                                                \n",
            "                                                                                                  \n",
            " activation_45 (Activation)  (None, 14, 14, 160)          0         ['batch_normalization_45[0][0]\n",
            "                                                                    ']                            \n",
            "                                                                                                  \n",
            " conv2d_41 (Conv2D)          (None, 14, 14, 160)          122880    ['mixed4[0][0]']              \n",
            "                                                                                                  \n",
            " conv2d_46 (Conv2D)          (None, 14, 14, 160)          179200    ['activation_45[0][0]']       \n",
            "                                                                                                  \n",
            " batch_normalization_41 (Ba  (None, 14, 14, 160)          480       ['conv2d_41[0][0]']           \n",
            " tchNormalization)                                                                                \n",
            "                                                                                                  \n",
            " batch_normalization_46 (Ba  (None, 14, 14, 160)          480       ['conv2d_46[0][0]']           \n",
            " tchNormalization)                                                                                \n",
            "                                                                                                  \n",
            " activation_41 (Activation)  (None, 14, 14, 160)          0         ['batch_normalization_41[0][0]\n",
            "                                                                    ']                            \n",
            "                                                                                                  \n",
            " activation_46 (Activation)  (None, 14, 14, 160)          0         ['batch_normalization_46[0][0]\n",
            "                                                                    ']                            \n",
            "                                                                                                  \n",
            " conv2d_42 (Conv2D)          (None, 14, 14, 160)          179200    ['activation_41[0][0]']       \n",
            "                                                                                                  \n",
            " conv2d_47 (Conv2D)          (None, 14, 14, 160)          179200    ['activation_46[0][0]']       \n",
            "                                                                                                  \n",
            " batch_normalization_42 (Ba  (None, 14, 14, 160)          480       ['conv2d_42[0][0]']           \n",
            " tchNormalization)                                                                                \n",
            "                                                                                                  \n",
            " batch_normalization_47 (Ba  (None, 14, 14, 160)          480       ['conv2d_47[0][0]']           \n",
            " tchNormalization)                                                                                \n",
            "                                                                                                  \n",
            " activation_42 (Activation)  (None, 14, 14, 160)          0         ['batch_normalization_42[0][0]\n",
            "                                                                    ']                            \n",
            "                                                                                                  \n",
            " activation_47 (Activation)  (None, 14, 14, 160)          0         ['batch_normalization_47[0][0]\n",
            "                                                                    ']                            \n",
            "                                                                                                  \n",
            " average_pooling2d_4 (Avera  (None, 14, 14, 768)          0         ['mixed4[0][0]']              \n",
            " gePooling2D)                                                                                     \n",
            "                                                                                                  \n",
            " conv2d_40 (Conv2D)          (None, 14, 14, 192)          147456    ['mixed4[0][0]']              \n",
            "                                                                                                  \n",
            " conv2d_43 (Conv2D)          (None, 14, 14, 192)          215040    ['activation_42[0][0]']       \n",
            "                                                                                                  \n",
            " conv2d_48 (Conv2D)          (None, 14, 14, 192)          215040    ['activation_47[0][0]']       \n",
            "                                                                                                  \n",
            " conv2d_49 (Conv2D)          (None, 14, 14, 192)          147456    ['average_pooling2d_4[0][0]'] \n",
            "                                                                                                  \n",
            " batch_normalization_40 (Ba  (None, 14, 14, 192)          576       ['conv2d_40[0][0]']           \n",
            " tchNormalization)                                                                                \n",
            "                                                                                                  \n",
            " batch_normalization_43 (Ba  (None, 14, 14, 192)          576       ['conv2d_43[0][0]']           \n",
            " tchNormalization)                                                                                \n",
            "                                                                                                  \n",
            " batch_normalization_48 (Ba  (None, 14, 14, 192)          576       ['conv2d_48[0][0]']           \n",
            " tchNormalization)                                                                                \n",
            "                                                                                                  \n",
            " batch_normalization_49 (Ba  (None, 14, 14, 192)          576       ['conv2d_49[0][0]']           \n",
            " tchNormalization)                                                                                \n",
            "                                                                                                  \n",
            " activation_40 (Activation)  (None, 14, 14, 192)          0         ['batch_normalization_40[0][0]\n",
            "                                                                    ']                            \n",
            "                                                                                                  \n",
            " activation_43 (Activation)  (None, 14, 14, 192)          0         ['batch_normalization_43[0][0]\n",
            "                                                                    ']                            \n",
            "                                                                                                  \n",
            " activation_48 (Activation)  (None, 14, 14, 192)          0         ['batch_normalization_48[0][0]\n",
            "                                                                    ']                            \n",
            "                                                                                                  \n",
            " activation_49 (Activation)  (None, 14, 14, 192)          0         ['batch_normalization_49[0][0]\n",
            "                                                                    ']                            \n",
            "                                                                                                  \n",
            " mixed5 (Concatenate)        (None, 14, 14, 768)          0         ['activation_40[0][0]',       \n",
            "                                                                     'activation_43[0][0]',       \n",
            "                                                                     'activation_48[0][0]',       \n",
            "                                                                     'activation_49[0][0]']       \n",
            "                                                                                                  \n",
            " conv2d_54 (Conv2D)          (None, 14, 14, 160)          122880    ['mixed5[0][0]']              \n",
            "                                                                                                  \n",
            " batch_normalization_54 (Ba  (None, 14, 14, 160)          480       ['conv2d_54[0][0]']           \n",
            " tchNormalization)                                                                                \n",
            "                                                                                                  \n",
            " activation_54 (Activation)  (None, 14, 14, 160)          0         ['batch_normalization_54[0][0]\n",
            "                                                                    ']                            \n",
            "                                                                                                  \n",
            " conv2d_55 (Conv2D)          (None, 14, 14, 160)          179200    ['activation_54[0][0]']       \n",
            "                                                                                                  \n",
            " batch_normalization_55 (Ba  (None, 14, 14, 160)          480       ['conv2d_55[0][0]']           \n",
            " tchNormalization)                                                                                \n",
            "                                                                                                  \n",
            " activation_55 (Activation)  (None, 14, 14, 160)          0         ['batch_normalization_55[0][0]\n",
            "                                                                    ']                            \n",
            "                                                                                                  \n",
            " conv2d_51 (Conv2D)          (None, 14, 14, 160)          122880    ['mixed5[0][0]']              \n",
            "                                                                                                  \n",
            " conv2d_56 (Conv2D)          (None, 14, 14, 160)          179200    ['activation_55[0][0]']       \n",
            "                                                                                                  \n",
            " batch_normalization_51 (Ba  (None, 14, 14, 160)          480       ['conv2d_51[0][0]']           \n",
            " tchNormalization)                                                                                \n",
            "                                                                                                  \n",
            " batch_normalization_56 (Ba  (None, 14, 14, 160)          480       ['conv2d_56[0][0]']           \n",
            " tchNormalization)                                                                                \n",
            "                                                                                                  \n",
            " activation_51 (Activation)  (None, 14, 14, 160)          0         ['batch_normalization_51[0][0]\n",
            "                                                                    ']                            \n",
            "                                                                                                  \n",
            " activation_56 (Activation)  (None, 14, 14, 160)          0         ['batch_normalization_56[0][0]\n",
            "                                                                    ']                            \n",
            "                                                                                                  \n",
            " conv2d_52 (Conv2D)          (None, 14, 14, 160)          179200    ['activation_51[0][0]']       \n",
            "                                                                                                  \n",
            " conv2d_57 (Conv2D)          (None, 14, 14, 160)          179200    ['activation_56[0][0]']       \n",
            "                                                                                                  \n",
            " batch_normalization_52 (Ba  (None, 14, 14, 160)          480       ['conv2d_52[0][0]']           \n",
            " tchNormalization)                                                                                \n",
            "                                                                                                  \n",
            " batch_normalization_57 (Ba  (None, 14, 14, 160)          480       ['conv2d_57[0][0]']           \n",
            " tchNormalization)                                                                                \n",
            "                                                                                                  \n",
            " activation_52 (Activation)  (None, 14, 14, 160)          0         ['batch_normalization_52[0][0]\n",
            "                                                                    ']                            \n",
            "                                                                                                  \n",
            " activation_57 (Activation)  (None, 14, 14, 160)          0         ['batch_normalization_57[0][0]\n",
            "                                                                    ']                            \n",
            "                                                                                                  \n",
            " average_pooling2d_5 (Avera  (None, 14, 14, 768)          0         ['mixed5[0][0]']              \n",
            " gePooling2D)                                                                                     \n",
            "                                                                                                  \n",
            " conv2d_50 (Conv2D)          (None, 14, 14, 192)          147456    ['mixed5[0][0]']              \n",
            "                                                                                                  \n",
            " conv2d_53 (Conv2D)          (None, 14, 14, 192)          215040    ['activation_52[0][0]']       \n",
            "                                                                                                  \n",
            " conv2d_58 (Conv2D)          (None, 14, 14, 192)          215040    ['activation_57[0][0]']       \n",
            "                                                                                                  \n",
            " conv2d_59 (Conv2D)          (None, 14, 14, 192)          147456    ['average_pooling2d_5[0][0]'] \n",
            "                                                                                                  \n",
            " batch_normalization_50 (Ba  (None, 14, 14, 192)          576       ['conv2d_50[0][0]']           \n",
            " tchNormalization)                                                                                \n",
            "                                                                                                  \n",
            " batch_normalization_53 (Ba  (None, 14, 14, 192)          576       ['conv2d_53[0][0]']           \n",
            " tchNormalization)                                                                                \n",
            "                                                                                                  \n",
            " batch_normalization_58 (Ba  (None, 14, 14, 192)          576       ['conv2d_58[0][0]']           \n",
            " tchNormalization)                                                                                \n",
            "                                                                                                  \n",
            " batch_normalization_59 (Ba  (None, 14, 14, 192)          576       ['conv2d_59[0][0]']           \n",
            " tchNormalization)                                                                                \n",
            "                                                                                                  \n",
            " activation_50 (Activation)  (None, 14, 14, 192)          0         ['batch_normalization_50[0][0]\n",
            "                                                                    ']                            \n",
            "                                                                                                  \n",
            " activation_53 (Activation)  (None, 14, 14, 192)          0         ['batch_normalization_53[0][0]\n",
            "                                                                    ']                            \n",
            "                                                                                                  \n",
            " activation_58 (Activation)  (None, 14, 14, 192)          0         ['batch_normalization_58[0][0]\n",
            "                                                                    ']                            \n",
            "                                                                                                  \n",
            " activation_59 (Activation)  (None, 14, 14, 192)          0         ['batch_normalization_59[0][0]\n",
            "                                                                    ']                            \n",
            "                                                                                                  \n",
            " mixed6 (Concatenate)        (None, 14, 14, 768)          0         ['activation_50[0][0]',       \n",
            "                                                                     'activation_53[0][0]',       \n",
            "                                                                     'activation_58[0][0]',       \n",
            "                                                                     'activation_59[0][0]']       \n",
            "                                                                                                  \n",
            " conv2d_64 (Conv2D)          (None, 14, 14, 192)          147456    ['mixed6[0][0]']              \n",
            "                                                                                                  \n",
            " batch_normalization_64 (Ba  (None, 14, 14, 192)          576       ['conv2d_64[0][0]']           \n",
            " tchNormalization)                                                                                \n",
            "                                                                                                  \n",
            " activation_64 (Activation)  (None, 14, 14, 192)          0         ['batch_normalization_64[0][0]\n",
            "                                                                    ']                            \n",
            "                                                                                                  \n",
            " conv2d_65 (Conv2D)          (None, 14, 14, 192)          258048    ['activation_64[0][0]']       \n",
            "                                                                                                  \n",
            " batch_normalization_65 (Ba  (None, 14, 14, 192)          576       ['conv2d_65[0][0]']           \n",
            " tchNormalization)                                                                                \n",
            "                                                                                                  \n",
            " activation_65 (Activation)  (None, 14, 14, 192)          0         ['batch_normalization_65[0][0]\n",
            "                                                                    ']                            \n",
            "                                                                                                  \n",
            " conv2d_61 (Conv2D)          (None, 14, 14, 192)          147456    ['mixed6[0][0]']              \n",
            "                                                                                                  \n",
            " conv2d_66 (Conv2D)          (None, 14, 14, 192)          258048    ['activation_65[0][0]']       \n",
            "                                                                                                  \n",
            " batch_normalization_61 (Ba  (None, 14, 14, 192)          576       ['conv2d_61[0][0]']           \n",
            " tchNormalization)                                                                                \n",
            "                                                                                                  \n",
            " batch_normalization_66 (Ba  (None, 14, 14, 192)          576       ['conv2d_66[0][0]']           \n",
            " tchNormalization)                                                                                \n",
            "                                                                                                  \n",
            " activation_61 (Activation)  (None, 14, 14, 192)          0         ['batch_normalization_61[0][0]\n",
            "                                                                    ']                            \n",
            "                                                                                                  \n",
            " activation_66 (Activation)  (None, 14, 14, 192)          0         ['batch_normalization_66[0][0]\n",
            "                                                                    ']                            \n",
            "                                                                                                  \n",
            " conv2d_62 (Conv2D)          (None, 14, 14, 192)          258048    ['activation_61[0][0]']       \n",
            "                                                                                                  \n",
            " conv2d_67 (Conv2D)          (None, 14, 14, 192)          258048    ['activation_66[0][0]']       \n",
            "                                                                                                  \n",
            " batch_normalization_62 (Ba  (None, 14, 14, 192)          576       ['conv2d_62[0][0]']           \n",
            " tchNormalization)                                                                                \n",
            "                                                                                                  \n",
            " batch_normalization_67 (Ba  (None, 14, 14, 192)          576       ['conv2d_67[0][0]']           \n",
            " tchNormalization)                                                                                \n",
            "                                                                                                  \n",
            " activation_62 (Activation)  (None, 14, 14, 192)          0         ['batch_normalization_62[0][0]\n",
            "                                                                    ']                            \n",
            "                                                                                                  \n",
            " activation_67 (Activation)  (None, 14, 14, 192)          0         ['batch_normalization_67[0][0]\n",
            "                                                                    ']                            \n",
            "                                                                                                  \n",
            " average_pooling2d_6 (Avera  (None, 14, 14, 768)          0         ['mixed6[0][0]']              \n",
            " gePooling2D)                                                                                     \n",
            "                                                                                                  \n",
            " conv2d_60 (Conv2D)          (None, 14, 14, 192)          147456    ['mixed6[0][0]']              \n",
            "                                                                                                  \n",
            " conv2d_63 (Conv2D)          (None, 14, 14, 192)          258048    ['activation_62[0][0]']       \n",
            "                                                                                                  \n",
            " conv2d_68 (Conv2D)          (None, 14, 14, 192)          258048    ['activation_67[0][0]']       \n",
            "                                                                                                  \n",
            " conv2d_69 (Conv2D)          (None, 14, 14, 192)          147456    ['average_pooling2d_6[0][0]'] \n",
            "                                                                                                  \n",
            " batch_normalization_60 (Ba  (None, 14, 14, 192)          576       ['conv2d_60[0][0]']           \n",
            " tchNormalization)                                                                                \n",
            "                                                                                                  \n",
            " batch_normalization_63 (Ba  (None, 14, 14, 192)          576       ['conv2d_63[0][0]']           \n",
            " tchNormalization)                                                                                \n",
            "                                                                                                  \n",
            " batch_normalization_68 (Ba  (None, 14, 14, 192)          576       ['conv2d_68[0][0]']           \n",
            " tchNormalization)                                                                                \n",
            "                                                                                                  \n",
            " batch_normalization_69 (Ba  (None, 14, 14, 192)          576       ['conv2d_69[0][0]']           \n",
            " tchNormalization)                                                                                \n",
            "                                                                                                  \n",
            " activation_60 (Activation)  (None, 14, 14, 192)          0         ['batch_normalization_60[0][0]\n",
            "                                                                    ']                            \n",
            "                                                                                                  \n",
            " activation_63 (Activation)  (None, 14, 14, 192)          0         ['batch_normalization_63[0][0]\n",
            "                                                                    ']                            \n",
            "                                                                                                  \n",
            " activation_68 (Activation)  (None, 14, 14, 192)          0         ['batch_normalization_68[0][0]\n",
            "                                                                    ']                            \n",
            "                                                                                                  \n",
            " activation_69 (Activation)  (None, 14, 14, 192)          0         ['batch_normalization_69[0][0]\n",
            "                                                                    ']                            \n",
            "                                                                                                  \n",
            " mixed7 (Concatenate)        (None, 14, 14, 768)          0         ['activation_60[0][0]',       \n",
            "                                                                     'activation_63[0][0]',       \n",
            "                                                                     'activation_68[0][0]',       \n",
            "                                                                     'activation_69[0][0]']       \n",
            "                                                                                                  \n",
            " conv2d_72 (Conv2D)          (None, 14, 14, 192)          147456    ['mixed7[0][0]']              \n",
            "                                                                                                  \n",
            " batch_normalization_72 (Ba  (None, 14, 14, 192)          576       ['conv2d_72[0][0]']           \n",
            " tchNormalization)                                                                                \n",
            "                                                                                                  \n",
            " activation_72 (Activation)  (None, 14, 14, 192)          0         ['batch_normalization_72[0][0]\n",
            "                                                                    ']                            \n",
            "                                                                                                  \n",
            " conv2d_73 (Conv2D)          (None, 14, 14, 192)          258048    ['activation_72[0][0]']       \n",
            "                                                                                                  \n",
            " batch_normalization_73 (Ba  (None, 14, 14, 192)          576       ['conv2d_73[0][0]']           \n",
            " tchNormalization)                                                                                \n",
            "                                                                                                  \n",
            " activation_73 (Activation)  (None, 14, 14, 192)          0         ['batch_normalization_73[0][0]\n",
            "                                                                    ']                            \n",
            "                                                                                                  \n",
            " conv2d_70 (Conv2D)          (None, 14, 14, 192)          147456    ['mixed7[0][0]']              \n",
            "                                                                                                  \n",
            " conv2d_74 (Conv2D)          (None, 14, 14, 192)          258048    ['activation_73[0][0]']       \n",
            "                                                                                                  \n",
            " batch_normalization_70 (Ba  (None, 14, 14, 192)          576       ['conv2d_70[0][0]']           \n",
            " tchNormalization)                                                                                \n",
            "                                                                                                  \n",
            " batch_normalization_74 (Ba  (None, 14, 14, 192)          576       ['conv2d_74[0][0]']           \n",
            " tchNormalization)                                                                                \n",
            "                                                                                                  \n",
            " activation_70 (Activation)  (None, 14, 14, 192)          0         ['batch_normalization_70[0][0]\n",
            "                                                                    ']                            \n",
            "                                                                                                  \n",
            " activation_74 (Activation)  (None, 14, 14, 192)          0         ['batch_normalization_74[0][0]\n",
            "                                                                    ']                            \n",
            "                                                                                                  \n",
            " conv2d_71 (Conv2D)          (None, 6, 6, 320)            552960    ['activation_70[0][0]']       \n",
            "                                                                                                  \n",
            " conv2d_75 (Conv2D)          (None, 6, 6, 192)            331776    ['activation_74[0][0]']       \n",
            "                                                                                                  \n",
            " batch_normalization_71 (Ba  (None, 6, 6, 320)            960       ['conv2d_71[0][0]']           \n",
            " tchNormalization)                                                                                \n",
            "                                                                                                  \n",
            " batch_normalization_75 (Ba  (None, 6, 6, 192)            576       ['conv2d_75[0][0]']           \n",
            " tchNormalization)                                                                                \n",
            "                                                                                                  \n",
            " activation_71 (Activation)  (None, 6, 6, 320)            0         ['batch_normalization_71[0][0]\n",
            "                                                                    ']                            \n",
            "                                                                                                  \n",
            " activation_75 (Activation)  (None, 6, 6, 192)            0         ['batch_normalization_75[0][0]\n",
            "                                                                    ']                            \n",
            "                                                                                                  \n",
            " max_pooling2d_3 (MaxPoolin  (None, 6, 6, 768)            0         ['mixed7[0][0]']              \n",
            " g2D)                                                                                             \n",
            "                                                                                                  \n",
            " mixed8 (Concatenate)        (None, 6, 6, 1280)           0         ['activation_71[0][0]',       \n",
            "                                                                     'activation_75[0][0]',       \n",
            "                                                                     'max_pooling2d_3[0][0]']     \n",
            "                                                                                                  \n",
            " conv2d_80 (Conv2D)          (None, 6, 6, 448)            573440    ['mixed8[0][0]']              \n",
            "                                                                                                  \n",
            " batch_normalization_80 (Ba  (None, 6, 6, 448)            1344      ['conv2d_80[0][0]']           \n",
            " tchNormalization)                                                                                \n",
            "                                                                                                  \n",
            " activation_80 (Activation)  (None, 6, 6, 448)            0         ['batch_normalization_80[0][0]\n",
            "                                                                    ']                            \n",
            "                                                                                                  \n",
            " conv2d_77 (Conv2D)          (None, 6, 6, 384)            491520    ['mixed8[0][0]']              \n",
            "                                                                                                  \n",
            " conv2d_81 (Conv2D)          (None, 6, 6, 384)            1548288   ['activation_80[0][0]']       \n",
            "                                                                                                  \n",
            " batch_normalization_77 (Ba  (None, 6, 6, 384)            1152      ['conv2d_77[0][0]']           \n",
            " tchNormalization)                                                                                \n",
            "                                                                                                  \n",
            " batch_normalization_81 (Ba  (None, 6, 6, 384)            1152      ['conv2d_81[0][0]']           \n",
            " tchNormalization)                                                                                \n",
            "                                                                                                  \n",
            " activation_77 (Activation)  (None, 6, 6, 384)            0         ['batch_normalization_77[0][0]\n",
            "                                                                    ']                            \n",
            "                                                                                                  \n",
            " activation_81 (Activation)  (None, 6, 6, 384)            0         ['batch_normalization_81[0][0]\n",
            "                                                                    ']                            \n",
            "                                                                                                  \n",
            " conv2d_78 (Conv2D)          (None, 6, 6, 384)            442368    ['activation_77[0][0]']       \n",
            "                                                                                                  \n",
            " conv2d_79 (Conv2D)          (None, 6, 6, 384)            442368    ['activation_77[0][0]']       \n",
            "                                                                                                  \n",
            " conv2d_82 (Conv2D)          (None, 6, 6, 384)            442368    ['activation_81[0][0]']       \n",
            "                                                                                                  \n",
            " conv2d_83 (Conv2D)          (None, 6, 6, 384)            442368    ['activation_81[0][0]']       \n",
            "                                                                                                  \n",
            " average_pooling2d_7 (Avera  (None, 6, 6, 1280)           0         ['mixed8[0][0]']              \n",
            " gePooling2D)                                                                                     \n",
            "                                                                                                  \n",
            " conv2d_76 (Conv2D)          (None, 6, 6, 320)            409600    ['mixed8[0][0]']              \n",
            "                                                                                                  \n",
            " batch_normalization_78 (Ba  (None, 6, 6, 384)            1152      ['conv2d_78[0][0]']           \n",
            " tchNormalization)                                                                                \n",
            "                                                                                                  \n",
            " batch_normalization_79 (Ba  (None, 6, 6, 384)            1152      ['conv2d_79[0][0]']           \n",
            " tchNormalization)                                                                                \n",
            "                                                                                                  \n",
            " batch_normalization_82 (Ba  (None, 6, 6, 384)            1152      ['conv2d_82[0][0]']           \n",
            " tchNormalization)                                                                                \n",
            "                                                                                                  \n",
            " batch_normalization_83 (Ba  (None, 6, 6, 384)            1152      ['conv2d_83[0][0]']           \n",
            " tchNormalization)                                                                                \n",
            "                                                                                                  \n",
            " conv2d_84 (Conv2D)          (None, 6, 6, 192)            245760    ['average_pooling2d_7[0][0]'] \n",
            "                                                                                                  \n",
            " batch_normalization_76 (Ba  (None, 6, 6, 320)            960       ['conv2d_76[0][0]']           \n",
            " tchNormalization)                                                                                \n",
            "                                                                                                  \n",
            " activation_78 (Activation)  (None, 6, 6, 384)            0         ['batch_normalization_78[0][0]\n",
            "                                                                    ']                            \n",
            "                                                                                                  \n",
            " activation_79 (Activation)  (None, 6, 6, 384)            0         ['batch_normalization_79[0][0]\n",
            "                                                                    ']                            \n",
            "                                                                                                  \n",
            " activation_82 (Activation)  (None, 6, 6, 384)            0         ['batch_normalization_82[0][0]\n",
            "                                                                    ']                            \n",
            "                                                                                                  \n",
            " activation_83 (Activation)  (None, 6, 6, 384)            0         ['batch_normalization_83[0][0]\n",
            "                                                                    ']                            \n",
            "                                                                                                  \n",
            " batch_normalization_84 (Ba  (None, 6, 6, 192)            576       ['conv2d_84[0][0]']           \n",
            " tchNormalization)                                                                                \n",
            "                                                                                                  \n",
            " activation_76 (Activation)  (None, 6, 6, 320)            0         ['batch_normalization_76[0][0]\n",
            "                                                                    ']                            \n",
            "                                                                                                  \n",
            " mixed9_0 (Concatenate)      (None, 6, 6, 768)            0         ['activation_78[0][0]',       \n",
            "                                                                     'activation_79[0][0]']       \n",
            "                                                                                                  \n",
            " concatenate (Concatenate)   (None, 6, 6, 768)            0         ['activation_82[0][0]',       \n",
            "                                                                     'activation_83[0][0]']       \n",
            "                                                                                                  \n",
            " activation_84 (Activation)  (None, 6, 6, 192)            0         ['batch_normalization_84[0][0]\n",
            "                                                                    ']                            \n",
            "                                                                                                  \n",
            " mixed9 (Concatenate)        (None, 6, 6, 2048)           0         ['activation_76[0][0]',       \n",
            "                                                                     'mixed9_0[0][0]',            \n",
            "                                                                     'concatenate[0][0]',         \n",
            "                                                                     'activation_84[0][0]']       \n",
            "                                                                                                  \n",
            " conv2d_89 (Conv2D)          (None, 6, 6, 448)            917504    ['mixed9[0][0]']              \n",
            "                                                                                                  \n",
            " batch_normalization_89 (Ba  (None, 6, 6, 448)            1344      ['conv2d_89[0][0]']           \n",
            " tchNormalization)                                                                                \n",
            "                                                                                                  \n",
            " activation_89 (Activation)  (None, 6, 6, 448)            0         ['batch_normalization_89[0][0]\n",
            "                                                                    ']                            \n",
            "                                                                                                  \n",
            " conv2d_86 (Conv2D)          (None, 6, 6, 384)            786432    ['mixed9[0][0]']              \n",
            "                                                                                                  \n",
            " conv2d_90 (Conv2D)          (None, 6, 6, 384)            1548288   ['activation_89[0][0]']       \n",
            "                                                                                                  \n",
            " batch_normalization_86 (Ba  (None, 6, 6, 384)            1152      ['conv2d_86[0][0]']           \n",
            " tchNormalization)                                                                                \n",
            "                                                                                                  \n",
            " batch_normalization_90 (Ba  (None, 6, 6, 384)            1152      ['conv2d_90[0][0]']           \n",
            " tchNormalization)                                                                                \n",
            "                                                                                                  \n",
            " activation_86 (Activation)  (None, 6, 6, 384)            0         ['batch_normalization_86[0][0]\n",
            "                                                                    ']                            \n",
            "                                                                                                  \n",
            " activation_90 (Activation)  (None, 6, 6, 384)            0         ['batch_normalization_90[0][0]\n",
            "                                                                    ']                            \n",
            "                                                                                                  \n",
            " conv2d_87 (Conv2D)          (None, 6, 6, 384)            442368    ['activation_86[0][0]']       \n",
            "                                                                                                  \n",
            " conv2d_88 (Conv2D)          (None, 6, 6, 384)            442368    ['activation_86[0][0]']       \n",
            "                                                                                                  \n",
            " conv2d_91 (Conv2D)          (None, 6, 6, 384)            442368    ['activation_90[0][0]']       \n",
            "                                                                                                  \n",
            " conv2d_92 (Conv2D)          (None, 6, 6, 384)            442368    ['activation_90[0][0]']       \n",
            "                                                                                                  \n",
            " average_pooling2d_8 (Avera  (None, 6, 6, 2048)           0         ['mixed9[0][0]']              \n",
            " gePooling2D)                                                                                     \n",
            "                                                                                                  \n",
            " conv2d_85 (Conv2D)          (None, 6, 6, 320)            655360    ['mixed9[0][0]']              \n",
            "                                                                                                  \n",
            " batch_normalization_87 (Ba  (None, 6, 6, 384)            1152      ['conv2d_87[0][0]']           \n",
            " tchNormalization)                                                                                \n",
            "                                                                                                  \n",
            " batch_normalization_88 (Ba  (None, 6, 6, 384)            1152      ['conv2d_88[0][0]']           \n",
            " tchNormalization)                                                                                \n",
            "                                                                                                  \n",
            " batch_normalization_91 (Ba  (None, 6, 6, 384)            1152      ['conv2d_91[0][0]']           \n",
            " tchNormalization)                                                                                \n",
            "                                                                                                  \n",
            " batch_normalization_92 (Ba  (None, 6, 6, 384)            1152      ['conv2d_92[0][0]']           \n",
            " tchNormalization)                                                                                \n",
            "                                                                                                  \n",
            " conv2d_93 (Conv2D)          (None, 6, 6, 192)            393216    ['average_pooling2d_8[0][0]'] \n",
            "                                                                                                  \n",
            " batch_normalization_85 (Ba  (None, 6, 6, 320)            960       ['conv2d_85[0][0]']           \n",
            " tchNormalization)                                                                                \n",
            "                                                                                                  \n",
            " activation_87 (Activation)  (None, 6, 6, 384)            0         ['batch_normalization_87[0][0]\n",
            "                                                                    ']                            \n",
            "                                                                                                  \n",
            " activation_88 (Activation)  (None, 6, 6, 384)            0         ['batch_normalization_88[0][0]\n",
            "                                                                    ']                            \n",
            "                                                                                                  \n",
            " activation_91 (Activation)  (None, 6, 6, 384)            0         ['batch_normalization_91[0][0]\n",
            "                                                                    ']                            \n",
            "                                                                                                  \n",
            " activation_92 (Activation)  (None, 6, 6, 384)            0         ['batch_normalization_92[0][0]\n",
            "                                                                    ']                            \n",
            "                                                                                                  \n",
            " batch_normalization_93 (Ba  (None, 6, 6, 192)            576       ['conv2d_93[0][0]']           \n",
            " tchNormalization)                                                                                \n",
            "                                                                                                  \n",
            " activation_85 (Activation)  (None, 6, 6, 320)            0         ['batch_normalization_85[0][0]\n",
            "                                                                    ']                            \n",
            "                                                                                                  \n",
            " mixed9_1 (Concatenate)      (None, 6, 6, 768)            0         ['activation_87[0][0]',       \n",
            "                                                                     'activation_88[0][0]']       \n",
            "                                                                                                  \n",
            " concatenate_1 (Concatenate  (None, 6, 6, 768)            0         ['activation_91[0][0]',       \n",
            " )                                                                   'activation_92[0][0]']       \n",
            "                                                                                                  \n",
            " activation_93 (Activation)  (None, 6, 6, 192)            0         ['batch_normalization_93[0][0]\n",
            "                                                                    ']                            \n",
            "                                                                                                  \n",
            " input_2 (InputLayer)        [(None, 200)]                0         []                            \n",
            "                                                                                                  \n",
            " mixed10 (Concatenate)       (None, 6, 6, 2048)           0         ['activation_85[0][0]',       \n",
            "                                                                     'mixed9_1[0][0]',            \n",
            "                                                                     'concatenate_1[0][0]',       \n",
            "                                                                     'activation_93[0][0]']       \n",
            "                                                                                                  \n",
            " embedding (Embedding)       (None, 200, 300)             7419900   ['input_2[0][0]']             \n",
            "                                                                                                  \n",
            " flatten (Flatten)           (None, 73728)                0         ['mixed10[0][0]']             \n",
            "                                                                                                  \n",
            " bidirectional (Bidirection  (None, 60)                   79440     ['embedding[0][0]']           \n",
            " al)                                                                                              \n",
            "                                                                                                  \n",
            " dense (Dense)               (None, 200)                  1474580   ['flatten[0][0]']             \n",
            "                                                          0                                       \n",
            "                                                                                                  \n",
            " dense_1 (Dense)             (None, 200)                  12200     ['bidirectional[0][0]']       \n",
            "                                                                                                  \n",
            " concatenate_3 (Concatenate  (None, 400)                  0         ['dense[0][0]',               \n",
            " )                                                                   'dense_1[0][0]']             \n",
            "                                                                                                  \n",
            " dropout_1 (Dropout)         (None, 400)                  0         ['concatenate_3[0][0]']       \n",
            "                                                                                                  \n",
            " dense_3 (Dense)             (None, 64)                   25664     ['dropout_1[0][0]']           \n",
            "                                                                                                  \n",
            " dense_4 (Dense)             (None, 1)                    65        ['dense_3[0][0]']             \n",
            "                                                                                                  \n",
            "==================================================================================================\n",
            "Total params: 44085853 (168.17 MB)\n",
            "Trainable params: 36631521 (139.74 MB)\n",
            "Non-trainable params: 7454332 (28.44 MB)\n",
            "__________________________________________________________________________________________________\n"
          ]
        }
      ]
    },
    {
      "cell_type": "code",
      "source": [
        "model_2.compile(loss='binary_crossentropy',\n",
        "              optimizer=Adam(),\n",
        "              metrics=[\"accuracy\"])"
      ],
      "metadata": {
        "id": "7rpvEdwJRXYG"
      },
      "execution_count": null,
      "outputs": []
    },
    {
      "cell_type": "code",
      "source": [
        "history_2 = model_2.fit([train_image, train_pad_sequences],\n",
        "          y_train, batch_size=8, epochs=10, validation_split=0.1, callbacks=[checkpoint])"
      ],
      "metadata": {
        "colab": {
          "base_uri": "https://localhost:8080/"
        },
        "id": "zkRcpgqMPNTF",
        "outputId": "1e6dceff-59aa-4ff7-ba41-223e53a3c68a"
      },
      "execution_count": null,
      "outputs": [
        {
          "output_type": "stream",
          "name": "stdout",
          "text": [
            "Epoch 1/10\n",
            "822/822 [==============================] - ETA: 0s - loss: 0.2873 - accuracy: 0.9065\n",
            "Epoch 1: saving model to /content/drive/MyDrive/Graphs/Weights/Models_incpetion_1/inception_lstm_att.h5\n",
            "822/822 [==============================] - 97s 71ms/step - loss: 0.2873 - accuracy: 0.9065 - val_loss: 3.0343 - val_accuracy: 0.7630\n",
            "Epoch 2/10\n",
            "822/822 [==============================] - ETA: 0s - loss: 0.1586 - accuracy: 0.9479\n",
            "Epoch 2: saving model to /content/drive/MyDrive/Graphs/Weights/Models_incpetion_1/inception_lstm_att.h5\n",
            "822/822 [==============================] - 54s 65ms/step - loss: 0.1586 - accuracy: 0.9479 - val_loss: 0.5394 - val_accuracy: 0.8233\n",
            "Epoch 3/10\n",
            "822/822 [==============================] - ETA: 0s - loss: 0.1247 - accuracy: 0.9609\n",
            "Epoch 3: saving model to /content/drive/MyDrive/Graphs/Weights/Models_incpetion_1/inception_lstm_att.h5\n",
            "822/822 [==============================] - 53s 65ms/step - loss: 0.1247 - accuracy: 0.9609 - val_loss: 0.6717 - val_accuracy: 0.8233\n",
            "Epoch 4/10\n",
            "822/822 [==============================] - ETA: 0s - loss: 0.1049 - accuracy: 0.9673\n",
            "Epoch 4: saving model to /content/drive/MyDrive/Graphs/Weights/Models_incpetion_1/inception_lstm_att.h5\n",
            "822/822 [==============================] - 54s 65ms/step - loss: 0.1049 - accuracy: 0.9673 - val_loss: 2.2219 - val_accuracy: 0.7822\n",
            "Epoch 5/10\n",
            "822/822 [==============================] - ETA: 0s - loss: 0.0978 - accuracy: 0.9697\n",
            "Epoch 5: saving model to /content/drive/MyDrive/Graphs/Weights/Models_incpetion_1/inception_lstm_att.h5\n",
            "822/822 [==============================] - 53s 64ms/step - loss: 0.0978 - accuracy: 0.9697 - val_loss: 0.5570 - val_accuracy: 0.8315\n",
            "Epoch 6/10\n",
            "822/822 [==============================] - ETA: 0s - loss: 0.0909 - accuracy: 0.9729\n",
            "Epoch 6: saving model to /content/drive/MyDrive/Graphs/Weights/Models_incpetion_1/inception_lstm_att.h5\n",
            "822/822 [==============================] - 53s 65ms/step - loss: 0.0909 - accuracy: 0.9729 - val_loss: 0.6112 - val_accuracy: 0.8384\n",
            "Epoch 7/10\n",
            "822/822 [==============================] - ETA: 0s - loss: 0.0820 - accuracy: 0.9741\n",
            "Epoch 7: saving model to /content/drive/MyDrive/Graphs/Weights/Models_incpetion_1/inception_lstm_att.h5\n",
            "822/822 [==============================] - 54s 65ms/step - loss: 0.0820 - accuracy: 0.9741 - val_loss: 0.5705 - val_accuracy: 0.8493\n",
            "Epoch 8/10\n",
            "822/822 [==============================] - ETA: 0s - loss: 0.0658 - accuracy: 0.9807\n",
            "Epoch 8: saving model to /content/drive/MyDrive/Graphs/Weights/Models_incpetion_1/inception_lstm_att.h5\n",
            "822/822 [==============================] - 53s 65ms/step - loss: 0.0658 - accuracy: 0.9807 - val_loss: 0.6081 - val_accuracy: 0.8370\n",
            "Epoch 9/10\n",
            "822/822 [==============================] - ETA: 0s - loss: 0.0638 - accuracy: 0.9802\n",
            "Epoch 9: saving model to /content/drive/MyDrive/Graphs/Weights/Models_incpetion_1/inception_lstm_att.h5\n",
            "822/822 [==============================] - 54s 65ms/step - loss: 0.0638 - accuracy: 0.9802 - val_loss: 0.5864 - val_accuracy: 0.8452\n",
            "Epoch 10/10\n",
            "822/822 [==============================] - ETA: 0s - loss: 0.0539 - accuracy: 0.9836\n",
            "Epoch 10: saving model to /content/drive/MyDrive/Graphs/Weights/Models_incpetion_1/inception_lstm_att.h5\n",
            "822/822 [==============================] - 54s 65ms/step - loss: 0.0539 - accuracy: 0.9836 - val_loss: 0.7503 - val_accuracy: 0.8425\n"
          ]
        }
      ]
    },
    {
      "cell_type": "code",
      "source": [
        "from google.colab import drive\n",
        "drive.mount('/content/drive')"
      ],
      "metadata": {
        "colab": {
          "base_uri": "https://localhost:8080/"
        },
        "id": "hesx8BcGuik6",
        "outputId": "dfb31123-fba9-4920-b2c5-37a55fa6a745"
      },
      "execution_count": null,
      "outputs": [
        {
          "output_type": "stream",
          "name": "stdout",
          "text": [
            "Mounted at /content/drive\n"
          ]
        }
      ]
    },
    {
      "cell_type": "code",
      "source": [
        "loss_train = history_2.history['loss']\n",
        "loss_val = history_2.history['val_loss']\n",
        "epochs = range(1,11)\n",
        "plt.plot(epochs, loss_train, 'g', label='Training loss')\n",
        "plt.plot(epochs, loss_val, 'b', label='validation loss')\n",
        "plt.title('Training and Validation loss LSTM+Inception')\n",
        "plt.xlabel('Epochs')\n",
        "plt.ylabel('Loss')\n",
        "plt.legend()\n",
        "plt.savefig(\"/content/drive/MyDrive/Graphs/Plots/\"+\"train_val_loss_inception.png\")\n",
        "plt.show()"
      ],
      "metadata": {
        "id": "woKPObjxPUfP",
        "colab": {
          "base_uri": "https://localhost:8080/",
          "height": 472
        },
        "outputId": "57fa70c5-fbc7-4f85-9fe1-cc8ed89df0f0"
      },
      "execution_count": null,
      "outputs": [
        {
          "output_type": "display_data",
          "data": {
            "text/plain": [
              "<Figure size 640x480 with 1 Axes>"
            ],
            "image/png": "[encoded data removed]"
          },
          "metadata": {}
        }
      ]
    },
    {
      "cell_type": "code",
      "source": [
        "acc_train = history_2.history['accuracy']\n",
        "acc_val = history_2.history['val_accuracy']\n",
        "epochs = range(1,11)\n",
        "plt.plot(epochs, acc_train, 'g', label='Training accuracy')\n",
        "plt.plot(epochs, acc_val, 'b', label='validation accuracy')\n",
        "plt.title('Training and Validation accuracy LSTM+Inception')\n",
        "plt.xlabel('Epochs')\n",
        "plt.ylabel('Accuracy')\n",
        "plt.legend()\n",
        "plt.savefig(\"/content/drive/MyDrive/Graphs/Plots/\"+\"train_val_accuracy_inception.png\")\n",
        "plt.show()"
      ],
      "metadata": {
        "id": "hnjjaKFePrU_",
        "colab": {
          "base_uri": "https://localhost:8080/",
          "height": 472
        },
        "outputId": "fe2f08df-65ec-4071-bf8e-19aedc415706"
      },
      "execution_count": null,
      "outputs": [
        {
          "output_type": "display_data",
          "data": {
            "text/plain": [
              "<Figure size 640x480 with 1 Axes>"
            ],
            "image/png": "[encoded data removed]"
          },
          "metadata": {}
        }
      ]
    },
    {
      "cell_type": "code",
      "source": [
        "model_2.load_weights(folder_path + 'Models_incpetion_1/inception_lstm_att.h5')\n",
        "y_pred = np.argmax(model_2.predict([test_image,test_pad_sequences]), axis=-1)\n",
        "print_metrices(y_test, y_pred)"
      ],
      "metadata": {
        "colab": {
          "base_uri": "https://localhost:8080/"
        },
        "id": "8Nt4KvzLx3WE",
        "outputId": "011b31fd-44f8-47b9-8e04-8cb9d4373392"
      },
      "execution_count": null,
      "outputs": [
        {
          "output_type": "stream",
          "name": "stdout",
          "text": [
            "57/57 [==============================] - 4s 78ms/step\n",
            "Precision:  0.667\n",
            "Recall:  0.817\n",
            "F1:  0.735\n"
          ]
        }
      ]
    },
    {
      "cell_type": "markdown",
      "source": [
        "#LSTM+VGG16"
      ],
      "metadata": {
        "id": "qo6wZCU3R_74"
      }
    },
    {
      "cell_type": "code",
      "source": [
        "\n",
        "def create_lstm_vgg_model():\n",
        "  keras.backend.clear_session()\n",
        "  # create the base pre-trained model\n",
        "  vgg = keras.applications.VGG16(weights='imagenet', include_top=False,input_shape=(256, 256, 3))\n",
        "# for layer in inception.layers[0:-10]:\n",
        "#     layer.trainable = False\n",
        "  # add a global spatial average pooling layer\n",
        "  x = vgg.output\n",
        " # pool = GlobalAveragePooling2D()(x)\n",
        "  # this is the model we will train\n",
        "  flat = Flatten()(x)\n",
        "  # and a logistic layer -- let's say we have 200 classes\n",
        "  hidden2 = Dense(200, activation='relu')(flat)\n",
        "  # this is the model we will train\n",
        "  vgg_img_model = Model(inputs=vgg.input, outputs=hidden2)\n",
        "\n",
        "   # Text Model\n",
        "\n",
        "  bi_text_inputs = Input(shape=(200,))\n",
        "  bi_embedding_layer = Embedding(vocab_size,300, trainable=False)(bi_text_inputs)\n",
        "  LSTM_Layer_1 = Bidirectional(LSTM(30))(bi_embedding_layer)\n",
        " # LSTM_Layer_2 = Bidirectional(LSTM(30))(LSTM_Layer_1)\n",
        "\n",
        "  bi_dense_layer_1 = Dense(200, activation='relu')(LSTM_Layer_1)\n",
        "  bilstm_model = Model(inputs=bi_text_inputs, outputs=bi_dense_layer_1)\n",
        "\n",
        "\n",
        "   # Concatenating the output of 2 classifiers\n",
        "  con_layer = keras.layers.concatenate([vgg_img_model.output, bilstm_model.output])\n",
        "  dropout = Dropout(0.2)(con_layer)\n",
        "  out = Dense(1,activation='sigmoid')(dropout)\n",
        "\n",
        "  #Defining model input and output\n",
        "  com_model = Model(inputs = [vgg_img_model.input, bilstm_model.input], outputs=out)\n",
        "\n",
        "\n",
        "      # Concatenating the output of 2 classifiers\n",
        "  con_layer = keras.layers.concatenate([vgg_img_model.output, bilstm_model.output])\n",
        "  dropout = Dropout(0.2)(con_layer)\n",
        "  final_dense = Dense(64, activation=\"relu\")(dropout)\n",
        "  out = Dense(1,activation='sigmoid')(final_dense)\n",
        "\n",
        "  #Defining model input and output\n",
        "  com_model = Model(inputs = [vgg_img_model.input, bilstm_model.input], outputs=out)\n",
        "\n",
        "  return com_model\n",
        "\n",
        "\n"
      ],
      "metadata": {
        "id": "uOpw_VKXST7B"
      },
      "execution_count": null,
      "outputs": []
    },
    {
      "cell_type": "code",
      "source": [
        "filepath = '/content/drive/MyDrive/Graphs/Weights/'+ 'Models_VGG_1/'+ 'vgg_lstm_att.h5'\n",
        "checkpoint = keras.callbacks.ModelCheckpoint(filepath, monitor='val_accuracy', verbose=2,\n",
        "                                             save_weights_only=True, mode='max' )\n"
      ],
      "metadata": {
        "id": "aMvPxL4tF1uz"
      },
      "execution_count": null,
      "outputs": []
    },
    {
      "cell_type": "code",
      "source": [
        "model_3 = create_lstm_vgg_model()\n",
        "model_3.summary()"
      ],
      "metadata": {
        "colab": {
          "base_uri": "https://localhost:8080/"
        },
        "id": "PteMqxC3GSF8",
        "outputId": "f57ccdf1-dbe9-4150-b58e-23daa89751c8"
      },
      "execution_count": null,
      "outputs": [
        {
          "output_type": "stream",
          "name": "stdout",
          "text": [
            "Downloading data from https://storage.googleapis.com/tensorflow/keras-applications/vgg16/vgg16_weights_tf_dim_ordering_tf_kernels_notop.h5\n",
            "58889256/58889256 [==============================] - 0s 0us/step\n",
            "Model: \"model_3\"\n",
            "__________________________________________________________________________________________________\n",
            " Layer (type)                Output Shape                 Param #   Connected to                  \n",
            "==================================================================================================\n",
            " input_1 (InputLayer)        [(None, 256, 256, 3)]        0         []                            \n",
            "                                                                                                  \n",
            " block1_conv1 (Conv2D)       (None, 256, 256, 64)         1792      ['input_1[0][0]']             \n",
            "                                                                                                  \n",
            " block1_conv2 (Conv2D)       (None, 256, 256, 64)         36928     ['block1_conv1[0][0]']        \n",
            "                                                                                                  \n",
            " block1_pool (MaxPooling2D)  (None, 128, 128, 64)         0         ['block1_conv2[0][0]']        \n",
            "                                                                                                  \n",
            " block2_conv1 (Conv2D)       (None, 128, 128, 128)        73856     ['block1_pool[0][0]']         \n",
            "                                                                                                  \n",
            " block2_conv2 (Conv2D)       (None, 128, 128, 128)        147584    ['block2_conv1[0][0]']        \n",
            "                                                                                                  \n",
            " block2_pool (MaxPooling2D)  (None, 64, 64, 128)          0         ['block2_conv2[0][0]']        \n",
            "                                                                                                  \n",
            " block3_conv1 (Conv2D)       (None, 64, 64, 256)          295168    ['block2_pool[0][0]']         \n",
            "                                                                                                  \n",
            " block3_conv2 (Conv2D)       (None, 64, 64, 256)          590080    ['block3_conv1[0][0]']        \n",
            "                                                                                                  \n",
            " block3_conv3 (Conv2D)       (None, 64, 64, 256)          590080    ['block3_conv2[0][0]']        \n",
            "                                                                                                  \n",
            " block3_pool (MaxPooling2D)  (None, 32, 32, 256)          0         ['block3_conv3[0][0]']        \n",
            "                                                                                                  \n",
            " block4_conv1 (Conv2D)       (None, 32, 32, 512)          1180160   ['block3_pool[0][0]']         \n",
            "                                                                                                  \n",
            " block4_conv2 (Conv2D)       (None, 32, 32, 512)          2359808   ['block4_conv1[0][0]']        \n",
            "                                                                                                  \n",
            " block4_conv3 (Conv2D)       (None, 32, 32, 512)          2359808   ['block4_conv2[0][0]']        \n",
            "                                                                                                  \n",
            " block4_pool (MaxPooling2D)  (None, 16, 16, 512)          0         ['block4_conv3[0][0]']        \n",
            "                                                                                                  \n",
            " block5_conv1 (Conv2D)       (None, 16, 16, 512)          2359808   ['block4_pool[0][0]']         \n",
            "                                                                                                  \n",
            " block5_conv2 (Conv2D)       (None, 16, 16, 512)          2359808   ['block5_conv1[0][0]']        \n",
            "                                                                                                  \n",
            " block5_conv3 (Conv2D)       (None, 16, 16, 512)          2359808   ['block5_conv2[0][0]']        \n",
            "                                                                                                  \n",
            " input_2 (InputLayer)        [(None, 200)]                0         []                            \n",
            "                                                                                                  \n",
            " block5_pool (MaxPooling2D)  (None, 8, 8, 512)            0         ['block5_conv3[0][0]']        \n",
            "                                                                                                  \n",
            " embedding (Embedding)       (None, 200, 300)             7419900   ['input_2[0][0]']             \n",
            "                                                                                                  \n",
            " flatten (Flatten)           (None, 32768)                0         ['block5_pool[0][0]']         \n",
            "                                                                                                  \n",
            " bidirectional (Bidirection  (None, 60)                   79440     ['embedding[0][0]']           \n",
            " al)                                                                                              \n",
            "                                                                                                  \n",
            " dense (Dense)               (None, 200)                  6553800   ['flatten[0][0]']             \n",
            "                                                                                                  \n",
            " dense_1 (Dense)             (None, 200)                  12200     ['bidirectional[0][0]']       \n",
            "                                                                                                  \n",
            " concatenate_1 (Concatenate  (None, 400)                  0         ['dense[0][0]',               \n",
            " )                                                                   'dense_1[0][0]']             \n",
            "                                                                                                  \n",
            " dropout_1 (Dropout)         (None, 400)                  0         ['concatenate_1[0][0]']       \n",
            "                                                                                                  \n",
            " dense_3 (Dense)             (None, 64)                   25664     ['dropout_1[0][0]']           \n",
            "                                                                                                  \n",
            " dense_4 (Dense)             (None, 1)                    65        ['dense_3[0][0]']             \n",
            "                                                                                                  \n",
            "==================================================================================================\n",
            "Total params: 28805757 (109.89 MB)\n",
            "Trainable params: 21385857 (81.58 MB)\n",
            "Non-trainable params: 7419900 (28.30 MB)\n",
            "__________________________________________________________________________________________________\n"
          ]
        }
      ]
    },
    {
      "cell_type": "code",
      "source": [
        "model_3.compile(loss='binary_crossentropy',\n",
        "              optimizer=Adam(),\n",
        "              metrics=[\"accuracy\"])"
      ],
      "metadata": {
        "id": "Td6WmU7kGtF6"
      },
      "execution_count": null,
      "outputs": []
    },
    {
      "cell_type": "code",
      "source": [
        "history_3 = model_3.fit([train_image, train_pad_sequences],\n",
        "          y_train, batch_size=8, epochs=10, validation_split=0.1, callbacks=[checkpoint])"
      ],
      "metadata": {
        "colab": {
          "base_uri": "https://localhost:8080/"
        },
        "id": "EsA2LjooGzwQ",
        "outputId": "cf9da26d-b80a-493f-ac88-9085736e120f"
      },
      "execution_count": null,
      "outputs": [
        {
          "output_type": "stream",
          "name": "stdout",
          "text": [
            "Epoch 1/10\n",
            "822/822 [==============================] - ETA: 0s - loss: 9.3911 - accuracy: 0.9286\n",
            "Epoch 1: saving model to /content/drive/MyDrive/Graphs/Weights/Models_VGG_1/vgg_lstm_att.h5\n",
            "822/822 [==============================] - 75s 66ms/step - loss: 9.3911 - accuracy: 0.9286 - val_loss: 0.5157 - val_accuracy: 0.8260\n",
            "Epoch 2/10\n",
            "821/822 [============================>.] - ETA: 0s - loss: 0.1397 - accuracy: 0.9537\n",
            "Epoch 2: saving model to /content/drive/MyDrive/Graphs/Weights/Models_VGG_1/vgg_lstm_att.h5\n",
            "822/822 [==============================] - 52s 63ms/step - loss: 0.1397 - accuracy: 0.9537 - val_loss: 0.5042 - val_accuracy: 0.8288\n",
            "Epoch 3/10\n",
            "821/822 [============================>.] - ETA: 0s - loss: 0.1078 - accuracy: 0.9642\n",
            "Epoch 3: saving model to /content/drive/MyDrive/Graphs/Weights/Models_VGG_1/vgg_lstm_att.h5\n",
            "822/822 [==============================] - 52s 63ms/step - loss: 0.1078 - accuracy: 0.9642 - val_loss: 0.8162 - val_accuracy: 0.8137\n",
            "Epoch 4/10\n",
            "821/822 [============================>.] - ETA: 0s - loss: 0.0906 - accuracy: 0.9685\n",
            "Epoch 4: saving model to /content/drive/MyDrive/Graphs/Weights/Models_VGG_1/vgg_lstm_att.h5\n",
            "822/822 [==============================] - 52s 63ms/step - loss: 0.0909 - accuracy: 0.9683 - val_loss: 0.5516 - val_accuracy: 0.8301\n",
            "Epoch 5/10\n",
            "821/822 [============================>.] - ETA: 0s - loss: 0.0821 - accuracy: 0.9731\n",
            "Epoch 5: saving model to /content/drive/MyDrive/Graphs/Weights/Models_VGG_1/vgg_lstm_att.h5\n",
            "822/822 [==============================] - 51s 63ms/step - loss: 0.0826 - accuracy: 0.9729 - val_loss: 0.6780 - val_accuracy: 0.8274\n",
            "Epoch 6/10\n",
            "821/822 [============================>.] - ETA: 0s - loss: 0.0747 - accuracy: 0.9761\n",
            "Epoch 6: saving model to /content/drive/MyDrive/Graphs/Weights/Models_VGG_1/vgg_lstm_att.h5\n",
            "822/822 [==============================] - 51s 62ms/step - loss: 0.0746 - accuracy: 0.9761 - val_loss: 0.7822 - val_accuracy: 0.8329\n",
            "Epoch 7/10\n",
            "821/822 [============================>.] - ETA: 0s - loss: 0.0617 - accuracy: 0.9793\n",
            "Epoch 7: saving model to /content/drive/MyDrive/Graphs/Weights/Models_VGG_1/vgg_lstm_att.h5\n",
            "822/822 [==============================] - 51s 63ms/step - loss: 0.0617 - accuracy: 0.9793 - val_loss: 0.6792 - val_accuracy: 0.8342\n",
            "Epoch 8/10\n",
            "821/822 [============================>.] - ETA: 0s - loss: 0.0581 - accuracy: 0.9808\n",
            "Epoch 8: saving model to /content/drive/MyDrive/Graphs/Weights/Models_VGG_1/vgg_lstm_att.h5\n",
            "822/822 [==============================] - 52s 63ms/step - loss: 0.0581 - accuracy: 0.9808 - val_loss: 0.6437 - val_accuracy: 0.8356\n",
            "Epoch 9/10\n",
            "821/822 [============================>.] - ETA: 0s - loss: 0.0462 - accuracy: 0.9846\n",
            "Epoch 9: saving model to /content/drive/MyDrive/Graphs/Weights/Models_VGG_1/vgg_lstm_att.h5\n",
            "822/822 [==============================] - 52s 63ms/step - loss: 0.0462 - accuracy: 0.9846 - val_loss: 0.7325 - val_accuracy: 0.8315\n",
            "Epoch 10/10\n",
            "821/822 [============================>.] - ETA: 0s - loss: 0.0427 - accuracy: 0.9860\n",
            "Epoch 10: saving model to /content/drive/MyDrive/Graphs/Weights/Models_VGG_1/vgg_lstm_att.h5\n",
            "822/822 [==============================] - 51s 63ms/step - loss: 0.0427 - accuracy: 0.9860 - val_loss: 0.7224 - val_accuracy: 0.8274\n"
          ]
        }
      ]
    },
    {
      "cell_type": "code",
      "source": [
        "loss_train = history_3.history['loss']\n",
        "loss_val = history_3.history['val_loss']\n",
        "epochs = range(1,11)\n",
        "plt.plot(epochs, loss_train, 'g', label='Training loss')\n",
        "plt.plot(epochs, loss_val, 'b', label='validation loss')\n",
        "plt.title('Training and Validation loss LSTM+VGG')\n",
        "plt.xlabel('Epochs')\n",
        "plt.ylabel('Loss')\n",
        "plt.legend()\n",
        "plt.savefig(\"/content/drive/MyDrive/Graphs/Plots/\"+\"train_val_loss_VGG.png\")\n",
        "plt.show()"
      ],
      "metadata": {
        "colab": {
          "base_uri": "https://localhost:8080/",
          "height": 472
        },
        "id": "-CHFBhDdJb8M",
        "outputId": "2d50191a-a18f-4376-c2f6-ccbad55568f2"
      },
      "execution_count": null,
      "outputs": [
        {
          "output_type": "display_data",
          "data": {
            "text/plain": [
              "<Figure size 640x480 with 1 Axes>"
            ],
            "image/png": "[encoded data removed]"
          },
          "metadata": {}
        }
      ]
    },
    {
      "cell_type": "code",
      "source": [
        "acc_train = history_3.history['accuracy']\n",
        "acc_val = history_3.history['val_accuracy']\n",
        "epochs = range(1,11)\n",
        "plt.plot(epochs, acc_train, 'g', label='Training accuracy')\n",
        "plt.plot(epochs, acc_val, 'b', label='validation accuracy')\n",
        "plt.title('Training and Validation accuracy LSTM+VGG')\n",
        "plt.xlabel('Epochs')\n",
        "plt.ylabel('Accuracy')\n",
        "plt.legend()\n",
        "plt.savefig(\"/content/drive/MyDrive/Graphs/Plots/\"+\"train_val_accuracy_VGG.png\")\n",
        "plt.show()"
      ],
      "metadata": {
        "colab": {
          "base_uri": "https://localhost:8080/",
          "height": 472
        },
        "id": "c7CngNR2KGjV",
        "outputId": "711bf738-a1f7-44bf-d717-fb44f48f76d8"
      },
      "execution_count": null,
      "outputs": [
        {
          "output_type": "display_data",
          "data": {
            "text/plain": [
              "<Figure size 640x480 with 1 Axes>"
            ],
            "image/png": "[encoded data removed]"
          },
          "metadata": {}
        }
      ]
    },
    {
      "cell_type": "code",
      "source": [
        "model_3.load_weights(folder_path+'Models_VGG_1/'+'vgg_lstm_att.h5')\n",
        "y_pred = np.argmax(model_3.predict([test_image,test_pad_sequences]), axis=-1)\n",
        "print_metrices(y_test, y_pred)"
      ],
      "metadata": {
        "id": "wnRXi5IYKzeD",
        "colab": {
          "base_uri": "https://localhost:8080/"
        },
        "outputId": "ee7c17d7-8ee4-4196-e339-867388b0e138"
      },
      "execution_count": null,
      "outputs": [
        {
          "output_type": "stream",
          "name": "stdout",
          "text": [
            "57/57 [==============================] - 8s 137ms/step\n",
            "Precision:  0.667\n",
            "Recall:  0.8\n",
            "F1:  0.7\n"
          ]
        }
      ]
    }
  ]
}